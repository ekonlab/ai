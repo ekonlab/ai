{
 "cells": [
  {
   "cell_type": "code",
   "execution_count": 1,
   "metadata": {},
   "outputs": [],
   "source": [
    "# python"
   ]
  },
  {
   "cell_type": "code",
   "execution_count": 2,
   "metadata": {},
   "outputs": [],
   "source": [
    "using PyCall"
   ]
  },
  {
   "cell_type": "code",
   "execution_count": 3,
   "metadata": {},
   "outputs": [
    {
     "data": {
      "text/plain": [
       "0.7071067811865475"
      ]
     },
     "execution_count": 3,
     "metadata": {},
     "output_type": "execute_result"
    }
   ],
   "source": [
    "math = pyimport(\"math\")\n",
    "math.sin(math.pi/4)"
   ]
  },
  {
   "cell_type": "code",
   "execution_count": 4,
   "metadata": {},
   "outputs": [
    {
     "ename": "LoadError",
     "evalue": "PyError (PyImport_ImportModule\n\nThe Python package matplotlib.pyplot could not be found by pyimport. Usually this means\nthat you did not install matplotlib.pyplot in the Python version being used by PyCall.\n\nPyCall is currently configured to use the Julia-specific Python distribution\ninstalled by the Conda.jl package.  To install the matplotlib.pyplot module, you can\nuse `pyimport_conda(\"matplotlib.pyplot\", PKG)`, where PKG is the Anaconda\npackage the contains the module matplotlib.pyplot, or alternatively you can use the\nConda package directly (via `using Conda` followed by `Conda.add` etcetera).\n\nAlternatively, if you want to use a different Python distribution on your\nsystem, such as a system-wide Python (as opposed to the Julia-specific Python),\nyou can re-configure PyCall with that Python.   As explained in the PyCall\ndocumentation, set ENV[\"PYTHON\"] to the path/name of the python executable\nyou want to use, run Pkg.build(\"PyCall\"), and re-launch Julia.\n\n) <class 'ModuleNotFoundError'>\nModuleNotFoundError(\"No module named 'matplotlib'\")\n",
     "output_type": "error",
     "traceback": [
      "PyError (PyImport_ImportModule\n\nThe Python package matplotlib.pyplot could not be found by pyimport. Usually this means\nthat you did not install matplotlib.pyplot in the Python version being used by PyCall.\n\nPyCall is currently configured to use the Julia-specific Python distribution\ninstalled by the Conda.jl package.  To install the matplotlib.pyplot module, you can\nuse `pyimport_conda(\"matplotlib.pyplot\", PKG)`, where PKG is the Anaconda\npackage the contains the module matplotlib.pyplot, or alternatively you can use the\nConda package directly (via `using Conda` followed by `Conda.add` etcetera).\n\nAlternatively, if you want to use a different Python distribution on your\nsystem, such as a system-wide Python (as opposed to the Julia-specific Python),\nyou can re-configure PyCall with that Python.   As explained in the PyCall\ndocumentation, set ENV[\"PYTHON\"] to the path/name of the python executable\nyou want to use, run Pkg.build(\"PyCall\"), and re-launch Julia.\n\n) <class 'ModuleNotFoundError'>\nModuleNotFoundError(\"No module named 'matplotlib'\")\n",
      "",
      "Stacktrace:",
      " [1] pyimport(::String) at /Users/a.a.gonzalez.paje/.julia/packages/PyCall/zqDXB/src/PyCall.jl:536",
      " [2] top-level scope at In[4]:1",
      " [3] include_string(::Function, ::Module, ::String, ::String) at ./loading.jl:1091"
     ]
    }
   ],
   "source": [
    "plt = pyimport(\"matplotlib.pyplot\")\n",
    "x = range(0;stop=2*pi,length=1000); y = sin.(3*x + 4*cos.(2*x));\n",
    "plt.plot(x, y, color=\"red\", linewidth=2.0, linestyle=\"--\")\n",
    "plt.show()"
   ]
  },
  {
   "cell_type": "code",
   "execution_count": 5,
   "metadata": {},
   "outputs": [],
   "source": [
    "# R: http://juliainterop.github.io/RCall.jl/stable/installation/"
   ]
  },
  {
   "cell_type": "code",
   "execution_count": 6,
   "metadata": {},
   "outputs": [],
   "source": [
    "using RCall\n",
    "using RDatasets"
   ]
  },
  {
   "cell_type": "code",
   "execution_count": 7,
   "metadata": {},
   "outputs": [
    {
     "data": {
      "text/html": [
       "<table class=\"data-frame\"><thead><tr><th></th><th>Model</th><th>MPG</th><th>Cyl</th><th>Disp</th><th>HP</th><th>DRat</th><th>WT</th><th>QSec</th></tr><tr><th></th><th>String</th><th>Float64</th><th>Int64</th><th>Float64</th><th>Int64</th><th>Float64</th><th>Float64</th><th>Float64</th></tr></thead><tbody><p>32 rows × 12 columns (omitted printing of 4 columns)</p><tr><th>1</th><td>Mazda RX4</td><td>21.0</td><td>6</td><td>160.0</td><td>110</td><td>3.9</td><td>2.62</td><td>16.46</td></tr><tr><th>2</th><td>Mazda RX4 Wag</td><td>21.0</td><td>6</td><td>160.0</td><td>110</td><td>3.9</td><td>2.875</td><td>17.02</td></tr><tr><th>3</th><td>Datsun 710</td><td>22.8</td><td>4</td><td>108.0</td><td>93</td><td>3.85</td><td>2.32</td><td>18.61</td></tr><tr><th>4</th><td>Hornet 4 Drive</td><td>21.4</td><td>6</td><td>258.0</td><td>110</td><td>3.08</td><td>3.215</td><td>19.44</td></tr><tr><th>5</th><td>Hornet Sportabout</td><td>18.7</td><td>8</td><td>360.0</td><td>175</td><td>3.15</td><td>3.44</td><td>17.02</td></tr><tr><th>6</th><td>Valiant</td><td>18.1</td><td>6</td><td>225.0</td><td>105</td><td>2.76</td><td>3.46</td><td>20.22</td></tr><tr><th>7</th><td>Duster 360</td><td>14.3</td><td>8</td><td>360.0</td><td>245</td><td>3.21</td><td>3.57</td><td>15.84</td></tr><tr><th>8</th><td>Merc 240D</td><td>24.4</td><td>4</td><td>146.7</td><td>62</td><td>3.69</td><td>3.19</td><td>20.0</td></tr><tr><th>9</th><td>Merc 230</td><td>22.8</td><td>4</td><td>140.8</td><td>95</td><td>3.92</td><td>3.15</td><td>22.9</td></tr><tr><th>10</th><td>Merc 280</td><td>19.2</td><td>6</td><td>167.6</td><td>123</td><td>3.92</td><td>3.44</td><td>18.3</td></tr><tr><th>11</th><td>Merc 280C</td><td>17.8</td><td>6</td><td>167.6</td><td>123</td><td>3.92</td><td>3.44</td><td>18.9</td></tr><tr><th>12</th><td>Merc 450SE</td><td>16.4</td><td>8</td><td>275.8</td><td>180</td><td>3.07</td><td>4.07</td><td>17.4</td></tr><tr><th>13</th><td>Merc 450SL</td><td>17.3</td><td>8</td><td>275.8</td><td>180</td><td>3.07</td><td>3.73</td><td>17.6</td></tr><tr><th>14</th><td>Merc 450SLC</td><td>15.2</td><td>8</td><td>275.8</td><td>180</td><td>3.07</td><td>3.78</td><td>18.0</td></tr><tr><th>15</th><td>Cadillac Fleetwood</td><td>10.4</td><td>8</td><td>472.0</td><td>205</td><td>2.93</td><td>5.25</td><td>17.98</td></tr><tr><th>16</th><td>Lincoln Continental</td><td>10.4</td><td>8</td><td>460.0</td><td>215</td><td>3.0</td><td>5.424</td><td>17.82</td></tr><tr><th>17</th><td>Chrysler Imperial</td><td>14.7</td><td>8</td><td>440.0</td><td>230</td><td>3.23</td><td>5.345</td><td>17.42</td></tr><tr><th>18</th><td>Fiat 128</td><td>32.4</td><td>4</td><td>78.7</td><td>66</td><td>4.08</td><td>2.2</td><td>19.47</td></tr><tr><th>19</th><td>Honda Civic</td><td>30.4</td><td>4</td><td>75.7</td><td>52</td><td>4.93</td><td>1.615</td><td>18.52</td></tr><tr><th>20</th><td>Toyota Corolla</td><td>33.9</td><td>4</td><td>71.1</td><td>65</td><td>4.22</td><td>1.835</td><td>19.9</td></tr><tr><th>21</th><td>Toyota Corona</td><td>21.5</td><td>4</td><td>120.1</td><td>97</td><td>3.7</td><td>2.465</td><td>20.01</td></tr><tr><th>22</th><td>Dodge Challenger</td><td>15.5</td><td>8</td><td>318.0</td><td>150</td><td>2.76</td><td>3.52</td><td>16.87</td></tr><tr><th>23</th><td>AMC Javelin</td><td>15.2</td><td>8</td><td>304.0</td><td>150</td><td>3.15</td><td>3.435</td><td>17.3</td></tr><tr><th>24</th><td>Camaro Z28</td><td>13.3</td><td>8</td><td>350.0</td><td>245</td><td>3.73</td><td>3.84</td><td>15.41</td></tr><tr><th>25</th><td>Pontiac Firebird</td><td>19.2</td><td>8</td><td>400.0</td><td>175</td><td>3.08</td><td>3.845</td><td>17.05</td></tr><tr><th>26</th><td>Fiat X1-9</td><td>27.3</td><td>4</td><td>79.0</td><td>66</td><td>4.08</td><td>1.935</td><td>18.9</td></tr><tr><th>27</th><td>Porsche 914-2</td><td>26.0</td><td>4</td><td>120.3</td><td>91</td><td>4.43</td><td>2.14</td><td>16.7</td></tr><tr><th>28</th><td>Lotus Europa</td><td>30.4</td><td>4</td><td>95.1</td><td>113</td><td>3.77</td><td>1.513</td><td>16.9</td></tr><tr><th>29</th><td>Ford Pantera L</td><td>15.8</td><td>8</td><td>351.0</td><td>264</td><td>4.22</td><td>3.17</td><td>14.5</td></tr><tr><th>30</th><td>Ferrari Dino</td><td>19.7</td><td>6</td><td>145.0</td><td>175</td><td>3.62</td><td>2.77</td><td>15.5</td></tr><tr><th>&vellip;</th><td>&vellip;</td><td>&vellip;</td><td>&vellip;</td><td>&vellip;</td><td>&vellip;</td><td>&vellip;</td><td>&vellip;</td><td>&vellip;</td></tr></tbody></table>"
      ],
      "text/latex": [
       "\\begin{tabular}{r|ccccccccc}\n",
       "\t& Model & MPG & Cyl & Disp & HP & DRat & WT & QSec & \\\\\n",
       "\t\\hline\n",
       "\t& String & Float64 & Int64 & Float64 & Int64 & Float64 & Float64 & Float64 & \\\\\n",
       "\t\\hline\n",
       "\t1 & Mazda RX4 & 21.0 & 6 & 160.0 & 110 & 3.9 & 2.62 & 16.46 & $\\dots$ \\\\\n",
       "\t2 & Mazda RX4 Wag & 21.0 & 6 & 160.0 & 110 & 3.9 & 2.875 & 17.02 & $\\dots$ \\\\\n",
       "\t3 & Datsun 710 & 22.8 & 4 & 108.0 & 93 & 3.85 & 2.32 & 18.61 & $\\dots$ \\\\\n",
       "\t4 & Hornet 4 Drive & 21.4 & 6 & 258.0 & 110 & 3.08 & 3.215 & 19.44 & $\\dots$ \\\\\n",
       "\t5 & Hornet Sportabout & 18.7 & 8 & 360.0 & 175 & 3.15 & 3.44 & 17.02 & $\\dots$ \\\\\n",
       "\t6 & Valiant & 18.1 & 6 & 225.0 & 105 & 2.76 & 3.46 & 20.22 & $\\dots$ \\\\\n",
       "\t7 & Duster 360 & 14.3 & 8 & 360.0 & 245 & 3.21 & 3.57 & 15.84 & $\\dots$ \\\\\n",
       "\t8 & Merc 240D & 24.4 & 4 & 146.7 & 62 & 3.69 & 3.19 & 20.0 & $\\dots$ \\\\\n",
       "\t9 & Merc 230 & 22.8 & 4 & 140.8 & 95 & 3.92 & 3.15 & 22.9 & $\\dots$ \\\\\n",
       "\t10 & Merc 280 & 19.2 & 6 & 167.6 & 123 & 3.92 & 3.44 & 18.3 & $\\dots$ \\\\\n",
       "\t11 & Merc 280C & 17.8 & 6 & 167.6 & 123 & 3.92 & 3.44 & 18.9 & $\\dots$ \\\\\n",
       "\t12 & Merc 450SE & 16.4 & 8 & 275.8 & 180 & 3.07 & 4.07 & 17.4 & $\\dots$ \\\\\n",
       "\t13 & Merc 450SL & 17.3 & 8 & 275.8 & 180 & 3.07 & 3.73 & 17.6 & $\\dots$ \\\\\n",
       "\t14 & Merc 450SLC & 15.2 & 8 & 275.8 & 180 & 3.07 & 3.78 & 18.0 & $\\dots$ \\\\\n",
       "\t15 & Cadillac Fleetwood & 10.4 & 8 & 472.0 & 205 & 2.93 & 5.25 & 17.98 & $\\dots$ \\\\\n",
       "\t16 & Lincoln Continental & 10.4 & 8 & 460.0 & 215 & 3.0 & 5.424 & 17.82 & $\\dots$ \\\\\n",
       "\t17 & Chrysler Imperial & 14.7 & 8 & 440.0 & 230 & 3.23 & 5.345 & 17.42 & $\\dots$ \\\\\n",
       "\t18 & Fiat 128 & 32.4 & 4 & 78.7 & 66 & 4.08 & 2.2 & 19.47 & $\\dots$ \\\\\n",
       "\t19 & Honda Civic & 30.4 & 4 & 75.7 & 52 & 4.93 & 1.615 & 18.52 & $\\dots$ \\\\\n",
       "\t20 & Toyota Corolla & 33.9 & 4 & 71.1 & 65 & 4.22 & 1.835 & 19.9 & $\\dots$ \\\\\n",
       "\t21 & Toyota Corona & 21.5 & 4 & 120.1 & 97 & 3.7 & 2.465 & 20.01 & $\\dots$ \\\\\n",
       "\t22 & Dodge Challenger & 15.5 & 8 & 318.0 & 150 & 2.76 & 3.52 & 16.87 & $\\dots$ \\\\\n",
       "\t23 & AMC Javelin & 15.2 & 8 & 304.0 & 150 & 3.15 & 3.435 & 17.3 & $\\dots$ \\\\\n",
       "\t24 & Camaro Z28 & 13.3 & 8 & 350.0 & 245 & 3.73 & 3.84 & 15.41 & $\\dots$ \\\\\n",
       "\t25 & Pontiac Firebird & 19.2 & 8 & 400.0 & 175 & 3.08 & 3.845 & 17.05 & $\\dots$ \\\\\n",
       "\t26 & Fiat X1-9 & 27.3 & 4 & 79.0 & 66 & 4.08 & 1.935 & 18.9 & $\\dots$ \\\\\n",
       "\t27 & Porsche 914-2 & 26.0 & 4 & 120.3 & 91 & 4.43 & 2.14 & 16.7 & $\\dots$ \\\\\n",
       "\t28 & Lotus Europa & 30.4 & 4 & 95.1 & 113 & 3.77 & 1.513 & 16.9 & $\\dots$ \\\\\n",
       "\t29 & Ford Pantera L & 15.8 & 8 & 351.0 & 264 & 4.22 & 3.17 & 14.5 & $\\dots$ \\\\\n",
       "\t30 & Ferrari Dino & 19.7 & 6 & 145.0 & 175 & 3.62 & 2.77 & 15.5 & $\\dots$ \\\\\n",
       "\t$\\dots$ & $\\dots$ & $\\dots$ & $\\dots$ & $\\dots$ & $\\dots$ & $\\dots$ & $\\dots$ & $\\dots$ &  \\\\\n",
       "\\end{tabular}\n"
      ],
      "text/plain": [
       "32×12 DataFrame. Omitted printing of 6 columns\n",
       "│ Row │ Model             │ MPG     │ Cyl   │ Disp    │ HP    │ DRat    │\n",
       "│     │ \u001b[90mString\u001b[39m            │ \u001b[90mFloat64\u001b[39m │ \u001b[90mInt64\u001b[39m │ \u001b[90mFloat64\u001b[39m │ \u001b[90mInt64\u001b[39m │ \u001b[90mFloat64\u001b[39m │\n",
       "├─────┼───────────────────┼─────────┼───────┼─────────┼───────┼─────────┤\n",
       "│ 1   │ Mazda RX4         │ 21.0    │ 6     │ 160.0   │ 110   │ 3.9     │\n",
       "│ 2   │ Mazda RX4 Wag     │ 21.0    │ 6     │ 160.0   │ 110   │ 3.9     │\n",
       "│ 3   │ Datsun 710        │ 22.8    │ 4     │ 108.0   │ 93    │ 3.85    │\n",
       "│ 4   │ Hornet 4 Drive    │ 21.4    │ 6     │ 258.0   │ 110   │ 3.08    │\n",
       "│ 5   │ Hornet Sportabout │ 18.7    │ 8     │ 360.0   │ 175   │ 3.15    │\n",
       "│ 6   │ Valiant           │ 18.1    │ 6     │ 225.0   │ 105   │ 2.76    │\n",
       "│ 7   │ Duster 360        │ 14.3    │ 8     │ 360.0   │ 245   │ 3.21    │\n",
       "│ 8   │ Merc 240D         │ 24.4    │ 4     │ 146.7   │ 62    │ 3.69    │\n",
       "│ 9   │ Merc 230          │ 22.8    │ 4     │ 140.8   │ 95    │ 3.92    │\n",
       "│ 10  │ Merc 280          │ 19.2    │ 6     │ 167.6   │ 123   │ 3.92    │\n",
       "⋮\n",
       "│ 22  │ Dodge Challenger  │ 15.5    │ 8     │ 318.0   │ 150   │ 2.76    │\n",
       "│ 23  │ AMC Javelin       │ 15.2    │ 8     │ 304.0   │ 150   │ 3.15    │\n",
       "│ 24  │ Camaro Z28        │ 13.3    │ 8     │ 350.0   │ 245   │ 3.73    │\n",
       "│ 25  │ Pontiac Firebird  │ 19.2    │ 8     │ 400.0   │ 175   │ 3.08    │\n",
       "│ 26  │ Fiat X1-9         │ 27.3    │ 4     │ 79.0    │ 66    │ 4.08    │\n",
       "│ 27  │ Porsche 914-2     │ 26.0    │ 4     │ 120.3   │ 91    │ 4.43    │\n",
       "│ 28  │ Lotus Europa      │ 30.4    │ 4     │ 95.1    │ 113   │ 3.77    │\n",
       "│ 29  │ Ford Pantera L    │ 15.8    │ 8     │ 351.0   │ 264   │ 4.22    │\n",
       "│ 30  │ Ferrari Dino      │ 19.7    │ 6     │ 145.0   │ 175   │ 3.62    │\n",
       "│ 31  │ Maserati Bora     │ 15.0    │ 8     │ 301.0   │ 335   │ 3.54    │\n",
       "│ 32  │ Volvo 142E        │ 21.4    │ 4     │ 121.0   │ 109   │ 4.11    │"
      ]
     },
     "execution_count": 7,
     "metadata": {},
     "output_type": "execute_result"
    }
   ],
   "source": [
    "mtcars = dataset(\"datasets\",\"mtcars\")"
   ]
  },
  {
   "cell_type": "code",
   "execution_count": 8,
   "metadata": {},
   "outputs": [
    {
     "ename": "LoadError",
     "evalue": "UndefVarError: library not defined",
     "output_type": "error",
     "traceback": [
      "UndefVarError: library not defined",
      "",
      "Stacktrace:",
      " [1] top-level scope at In[8]:1",
      " [2] include_string(::Function, ::Module, ::String, ::String) at ./loading.jl:1091"
     ]
    }
   ],
   "source": [
    "library(ggplot2)"
   ]
  },
  {
   "cell_type": "code",
   "execution_count": 9,
   "metadata": {},
   "outputs": [
    {
     "ename": "LoadError",
     "evalue": "syntax: \"$\" expression outside quote around In[9]:1",
     "output_type": "error",
     "traceback": [
      "syntax: \"$\" expression outside quote around In[9]:1",
      "",
      "Stacktrace:",
      " [1] top-level scope at In[9]:1",
      " [2] include_string(::Function, ::Module, ::String, ::String) at ./loading.jl:1091"
     ]
    }
   ],
   "source": [
    "gpglot($mtcars,aes(x=WT,y=MPG)) + geom_point()"
   ]
  },
  {
   "cell_type": "code",
   "execution_count": null,
   "metadata": {},
   "outputs": [],
   "source": []
  }
 ],
 "metadata": {
  "kernelspec": {
   "display_name": "Julia 1.5.0",
   "language": "julia",
   "name": "julia-1.5"
  },
  "language_info": {
   "file_extension": ".jl",
   "mimetype": "application/julia",
   "name": "julia",
   "version": "1.5.0"
  }
 },
 "nbformat": 4,
 "nbformat_minor": 2
}
