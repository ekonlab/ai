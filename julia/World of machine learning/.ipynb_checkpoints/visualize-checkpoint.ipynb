{
 "cells": [
  {
   "cell_type": "code",
   "execution_count": 1,
   "metadata": {},
   "outputs": [
    {
     "name": "stdout",
     "output_type": "stream",
     "text": [
      "\u001b[?25l\u001b[2K"
     ]
    },
    {
     "name": "stderr",
     "output_type": "stream",
     "text": [
      "\u001b[32m\u001b[1m   Updating\u001b[22m\u001b[39m git-repo `https://github.com/JuliaComputing/JuliaAcademyData.jl`\n"
     ]
    },
    {
     "name": "stdout",
     "output_type": "stream",
     "text": [
      "\u001b[?25h"
     ]
    },
    {
     "name": "stderr",
     "output_type": "stream",
     "text": [
      "\u001b[32m\u001b[1m   Updating\u001b[22m\u001b[39m registry at `~/.julia/registries/General`\n",
      "\u001b[32m\u001b[1m  Resolving\u001b[22m\u001b[39m package versions...\n",
      "\u001b[32m\u001b[1m  Installed\u001b[22m\u001b[39m ProgressMeter ──── v1.2.0\n",
      "\u001b[32m\u001b[1m  Installed\u001b[22m\u001b[39m PyCall ─────────── v1.91.4\n",
      "\u001b[32m\u001b[1m  Installed\u001b[22m\u001b[39m ArgParse ───────── v1.1.0\n",
      "\u001b[32m\u001b[1m  Installed\u001b[22m\u001b[39m Blosc ──────────── v0.5.1\n",
      "\u001b[32m\u001b[1m  Installed\u001b[22m\u001b[39m Cthulhu ────────── v1.5.0\n",
      "\u001b[32m\u001b[1m  Installed\u001b[22m\u001b[39m TextWrap ───────── v1.0.1\n",
      "\u001b[32m\u001b[1m  Installed\u001b[22m\u001b[39m CEnum ──────────── v0.3.0\n",
      "\u001b[32m\u001b[1m  Installed\u001b[22m\u001b[39m CodeTracking ───── v1.0.5\n",
      "\u001b[32m\u001b[1m  Installed\u001b[22m\u001b[39m AutoGrad ───────── v1.2.1\n",
      "\u001b[32m\u001b[1m  Installed\u001b[22m\u001b[39m JLD2 ───────────── v0.1.12\n",
      "\u001b[32m\u001b[1m  Installed\u001b[22m\u001b[39m FileIO ─────────── v1.2.4\n",
      "\u001b[32m\u001b[1m  Installed\u001b[22m\u001b[39m HDF5 ───────────── v0.13.0\n",
      "\u001b[32m\u001b[1m  Installed\u001b[22m\u001b[39m CUDAnative ─────── v3.2.0\n",
      "\u001b[32m\u001b[1m  Installed\u001b[22m\u001b[39m Knet ───────────── v1.3.5\n",
      "\u001b[32m\u001b[1m  Installed\u001b[22m\u001b[39m HDF5_jll ───────── v1.12.0+1\n",
      "\u001b[32m\u001b[1m  Installed\u001b[22m\u001b[39m URIParser ──────── v0.4.1\n",
      "\u001b[32m\u001b[1m  Installed\u001b[22m\u001b[39m FoldingTrees ───── v1.0.1\n",
      "\u001b[32m\u001b[1m  Installed\u001b[22m\u001b[39m CMake ──────────── v1.2.0\n",
      "\u001b[32m\u001b[1m  Installed\u001b[22m\u001b[39m BinDeps ────────── v1.0.2\n",
      "\u001b[32m\u001b[1m  Installed\u001b[22m\u001b[39m Compat ─────────── v2.2.1\n",
      "\u001b[32m\u001b[1m  Installed\u001b[22m\u001b[39m nghttp2_jll ────── v1.40.0+2\n",
      "\u001b[32m\u001b[1m  Installed\u001b[22m\u001b[39m LibSSH2_jll ────── v1.9.0+3\n",
      "\u001b[32m\u001b[1m  Installed\u001b[22m\u001b[39m CUDAapi ────────── v4.0.0\n",
      "\u001b[32m\u001b[1m  Installed\u001b[22m\u001b[39m CMakeWrapper ───── v0.2.4\n",
      "\u001b[32m\u001b[1m  Installed\u001b[22m\u001b[39m GPUCompiler ────── v0.2.0\n",
      "\u001b[32m\u001b[1m  Installed\u001b[22m\u001b[39m SpecialFunctions ─ v0.10.3\n",
      "\u001b[32m\u001b[1m  Installed\u001b[22m\u001b[39m CUDAdrv ────────── v6.3.0\n",
      "\u001b[32m\u001b[1m  Installed\u001b[22m\u001b[39m LibCURL_jll ────── v7.70.0+2\n",
      "\u001b[32m\u001b[1m  Installed\u001b[22m\u001b[39m CuArrays ───────── v2.2.2\n",
      "\u001b[32m\u001b[1m  Installed\u001b[22m\u001b[39m GPUArrays ──────── v3.4.1\n",
      "\u001b[32m\u001b[1mUpdating\u001b[22m\u001b[39m `~/Documents/GitHub/ai/julia/World of machine learning/Project.toml`\n",
      " \u001b[90m [18b7da76] \u001b[39m\u001b[92m+ JuliaAcademyData v0.1.0 `https://github.com/JuliaComputing/JuliaAcademyData.jl#master`\u001b[39m\n",
      "\u001b[32m\u001b[1mUpdating\u001b[22m\u001b[39m `~/Documents/GitHub/ai/julia/World of machine learning/Manifest.toml`\n",
      " \u001b[90m [1520ce14] \u001b[39m\u001b[92m+ AbstractTrees v0.3.3\u001b[39m\n",
      " \u001b[90m [79e6a3ab] \u001b[39m\u001b[93m↑ Adapt v1.0.1 ⇒ v1.1.0\u001b[39m\n",
      " \u001b[90m [56f22d72] \u001b[39m\u001b[92m+ Artifacts v1.3.0\u001b[39m\n",
      " \u001b[90m [39de3d68] \u001b[39m\u001b[93m↑ AxisArrays v0.4.2 ⇒ v0.4.3\u001b[39m\n",
      " \u001b[90m [9e28174c] \u001b[39m\u001b[93m↑ BinDeps v1.0.0 ⇒ v1.0.2\u001b[39m\n",
      " \u001b[90m [b99e7846] \u001b[39m\u001b[95m↓ BinaryProvider v0.5.91 ⇒ v0.5.10\u001b[39m\n",
      " \u001b[90m [6e34b625] \u001b[39m\u001b[93m↑ Bzip2_jll v1.0.6+2 ⇒ v1.0.6+5\u001b[39m\n",
      " \u001b[90m [fa961155] \u001b[39m\u001b[93m↑ CEnum v0.2.0 ⇒ v0.3.0\u001b[39m\n",
      " \u001b[90m [d5fb7624] \u001b[39m\u001b[93m↑ CMakeWrapper v0.2.3 ⇒ v0.2.4\u001b[39m\n",
      " \u001b[90m [c5f51814] \u001b[39m\u001b[93m↑ CUDAdrv v6.2.2 ⇒ v6.3.0\u001b[39m\n",
      " \u001b[90m [be33ccc6] \u001b[39m\u001b[93m↑ CUDAnative v3.0.2 ⇒ v3.2.0\u001b[39m\n",
      " \u001b[90m [da1fd8a2] \u001b[39m\u001b[93m↑ CodeTracking v0.5.8 ⇒ v1.0.5\u001b[39m\n",
      " \u001b[90m [3da002f7] \u001b[39m\u001b[93m↑ ColorTypes v0.10.0 ⇒ v0.10.9\u001b[39m\n",
      " \u001b[90m [c3611d14] \u001b[39m\u001b[93m↑ ColorVectorSpace v0.8.4 ⇒ v0.8.7\u001b[39m\n",
      " \u001b[90m [5ae59095] \u001b[39m\u001b[93m↑ Colors v0.12.0 ⇒ v0.12.6\u001b[39m\n",
      " \u001b[90m [34da2185] \u001b[39m\u001b[93m↑ Compat v2.2.0 ⇒ v2.2.1\u001b[39m\n",
      " \u001b[90m [e66e0078] \u001b[39m\u001b[93m↑ CompilerSupportLibraries_jll v0.3.3+0 ⇒ v0.3.4+0\u001b[39m\n",
      " \u001b[90m [8f4d0f93] \u001b[39m\u001b[93m↑ Conda v1.4.1 ⇒ v1.5.0\u001b[39m\n",
      " \u001b[90m [d38c429a] \u001b[39m\u001b[93m↑ Contour v0.5.2 ⇒ v0.5.7\u001b[39m\n",
      " \u001b[90m [150eb455] \u001b[39m\u001b[93m↑ CoordinateTransformations v0.5.1 ⇒ v0.6.1\u001b[39m\n",
      " \u001b[90m [f68482b8] \u001b[39m\u001b[93m↑ Cthulhu v1.0.0 ⇒ v1.5.0\u001b[39m\n",
      " \u001b[90m [3a865a2d] \u001b[39m\u001b[93m↑ CuArrays v2.0.1 ⇒ v2.2.2\u001b[39m\n",
      " \u001b[90m [9a962f9c] \u001b[39m\u001b[93m↑ DataAPI v1.1.0 ⇒ v1.4.0\u001b[39m\n",
      " \u001b[90m [864edb3b] \u001b[39m\u001b[93m↑ DataStructures v0.17.11 ⇒ v0.17.20\u001b[39m\n",
      " \u001b[90m [b4f34e82] \u001b[39m\u001b[93m↑ Distances v0.8.2 ⇒ v0.10.0\u001b[39m\n",
      " \u001b[90m [da5c29d0] \u001b[39m\u001b[93m↑ EllipsisNotation v0.4.0 ⇒ v1.0.0\u001b[39m\n",
      " \u001b[90m [e2ba6199] \u001b[39m\u001b[92m+ ExprTools v0.1.3\u001b[39m\n",
      " \u001b[90m [b22a6f82] \u001b[39m\u001b[93m↑ FFMPEG_jll v4.1.0+2 ⇒ v4.3.1+4\u001b[39m\n",
      " \u001b[90m [7a1cc6ca] \u001b[39m\u001b[93m↑ FFTW v1.2.0 ⇒ v1.3.0\u001b[39m\n",
      " \u001b[90m [f5851436] \u001b[39m\u001b[93m↑ FFTW_jll v3.3.9+5 ⇒ v3.3.9+7\u001b[39m\n",
      " \u001b[90m [53c48c17] \u001b[39m\u001b[93m↑ FixedPointNumbers v0.8.0 ⇒ v0.8.4\u001b[39m\n",
      " \u001b[90m [1eca21be] \u001b[39m\u001b[92m+ FoldingTrees v1.0.1\u001b[39m\n",
      " \u001b[90m [d7e528f0] \u001b[39m\u001b[93m↑ FreeType2_jll v2.10.1+2 ⇒ v2.10.1+5\u001b[39m\n",
      " \u001b[90m [559328eb] \u001b[39m\u001b[93m↑ FriBidi_jll v1.0.5+2 ⇒ v1.0.5+6\u001b[39m\n",
      " \u001b[90m [0c68f7d7] \u001b[39m\u001b[93m↑ GPUArrays v3.1.0 ⇒ v3.4.1\u001b[39m\n",
      " \u001b[90m [61eb1bfa] \u001b[39m\u001b[92m+ GPUCompiler v0.2.0\u001b[39m\n",
      " \u001b[90m [28b8d3ca] \u001b[39m\u001b[93m↑ GR v0.46.90 ⇒ v0.48.0\u001b[39m\n",
      " \u001b[90m [4d00f742] \u001b[39m\u001b[93m↑ GeometryTypes v0.8.2 ⇒ v0.8.4\u001b[39m\n",
      " \u001b[90m [42e2da0e] \u001b[39m\u001b[92m+ Grisu v1.0.0\u001b[39m\n",
      " \u001b[90m [0234f1f7] \u001b[39m\u001b[93m↑ HDF5_jll v1.10.5+5 ⇒ v1.12.0+1\u001b[39m\n",
      " \u001b[90m [2803e5a7] \u001b[39m\u001b[93m↑ ImageAxes v0.6.4 ⇒ v0.6.8\u001b[39m\n",
      " \u001b[90m [f332f351] \u001b[39m\u001b[93m↑ ImageContrastAdjustment v0.3.5 ⇒ v0.3.6\u001b[39m\n",
      " \u001b[90m [a09fc81d] \u001b[39m\u001b[93m↑ ImageCore v0.8.12 ⇒ v0.8.20\u001b[39m\n",
      " \u001b[90m [51556ac3] \u001b[39m\u001b[93m↑ ImageDistances v0.2.7 ⇒ v0.2.9\u001b[39m\n",
      " \u001b[90m [6a3955dd] \u001b[39m\u001b[93m↑ ImageFiltering v0.6.11 ⇒ v0.6.18\u001b[39m\n",
      " \u001b[90m [c73af94c] \u001b[39m\u001b[93m↑ ImageMagick_jll v6.9.10-12+1 ⇒ v6.9.10-12+3\u001b[39m\n",
      " \u001b[90m [bc367c6b] \u001b[39m\u001b[93m↑ ImageMetadata v0.9.0 ⇒ v0.9.4\u001b[39m\n",
      " \u001b[90m [787d08f9] \u001b[39m\u001b[93m↑ ImageMorphology v0.2.5 ⇒ v0.2.9\u001b[39m\n",
      " \u001b[90m [02fcd773] \u001b[39m\u001b[93m↑ ImageTransformations v0.8.4 ⇒ v0.8.8\u001b[39m\n",
      " \u001b[90m [a98d9a8b] \u001b[39m\u001b[93m↑ Interpolations v0.12.9 ⇒ v0.13.1\u001b[39m\n",
      " \u001b[90m [8197267c] \u001b[39m\u001b[93m↑ IntervalSets v0.4.0 ⇒ v0.5.2\u001b[39m\n",
      " \u001b[90m [692b3bcd] \u001b[39m\u001b[92m+ JLLWrappers v1.1.4\u001b[39m\n",
      " \u001b[90m [aacddb02] \u001b[39m\u001b[93m↑ JpegTurbo_jll v2.0.1+0 ⇒ v2.0.1+3\u001b[39m\n",
      " \u001b[90m [18b7da76] \u001b[39m\u001b[92m+ JuliaAcademyData v0.1.0 `https://github.com/JuliaComputing/JuliaAcademyData.jl#master`\u001b[39m\n",
      " \u001b[90m [c1c5ebd0] \u001b[39m\u001b[93m↑ LAME_jll v3.100.0+0 ⇒ v3.100.0+3\u001b[39m\n",
      " \u001b[90m [929cbde3] \u001b[39m\u001b[93m↑ LLVM v1.3.4 ⇒ v1.7.0\u001b[39m\n",
      " \u001b[90m [deac9b47] \u001b[39m\u001b[92m+ LibCURL_jll v7.70.0+2\u001b[39m\n",
      " \u001b[90m [29816b5a] \u001b[39m\u001b[92m+ LibSSH2_jll v1.9.0+3\u001b[39m\n",
      " \u001b[90m [dd192d2f] \u001b[39m\u001b[93m↑ LibVPX_jll v1.8.1+1 ⇒ v1.9.0+1\u001b[39m\n",
      " \u001b[90m [89763e89] \u001b[39m\u001b[93m↑ Libtiff_jll v4.0.10+0 ⇒ v4.1.0+2\u001b[39m\n",
      " \u001b[90m [856f044c] \u001b[39m\u001b[93m↑ MKL_jll v2019.0.117+2 ⇒ v2020.2.254+0\u001b[39m\n",
      " \u001b[90m [1914dd2f] \u001b[39m\u001b[93m↑ MacroTools v0.5.5 ⇒ v0.5.6\u001b[39m\n",
      " \u001b[90m [c8ffd9c3] \u001b[39m\u001b[92m+ MbedTLS_jll v2.16.8+1\u001b[39m\n",
      " \u001b[90m [e1d29d7a] \u001b[39m\u001b[93m↑ Missings v0.4.3 ⇒ v0.4.4\u001b[39m\n",
      " \u001b[90m [e94cdb99] \u001b[39m\u001b[92m+ MosaicViews v0.2.4\u001b[39m\n",
      " \u001b[90m [77ba4419] \u001b[39m\u001b[93m↑ NaNMath v0.3.3 ⇒ v0.3.5\u001b[39m\n",
      " \u001b[90m [6fe1bfb0] \u001b[39m\u001b[93m↑ OffsetArrays v1.0.4 ⇒ v1.3.1\u001b[39m\n",
      " \u001b[90m [e7412a2a] \u001b[39m\u001b[93m↑ Ogg_jll v1.3.3+0 ⇒ v1.3.4+2\u001b[39m\n",
      " \u001b[90m [458c3c95] \u001b[39m\u001b[93m↑ OpenSSL_jll v1.1.1+2 ⇒ v1.1.1+6\u001b[39m\n",
      " \u001b[90m [efe28fd5] \u001b[39m\u001b[93m↑ OpenSpecFun_jll v0.5.3+3 ⇒ v0.5.3+4\u001b[39m\n",
      " \u001b[90m [91d4177d] \u001b[39m\u001b[93m↑ Opus_jll v1.3.1+0 ⇒ v1.3.1+3\u001b[39m\n",
      " \u001b[90m [bac558e1] \u001b[39m\u001b[93m↑ OrderedCollections v1.1.0 ⇒ v1.3.2\u001b[39m\n",
      " \u001b[90m [5432bcbf] \u001b[39m\u001b[93m↑ PaddedViews v0.5.4 ⇒ v0.5.7\u001b[39m\n",
      " \u001b[90m [d96e819e] \u001b[39m\u001b[93m↑ Parameters v0.12.0 ⇒ v0.12.1\u001b[39m\n",
      " \u001b[90m [69de0a69] \u001b[39m\u001b[93m↑ Parsers v1.0.1 ⇒ v1.0.15\u001b[39m\n",
      " \u001b[90m [ccf2f8ad] \u001b[39m\u001b[93m↑ PlotThemes v1.0.2 ⇒ v1.0.3\u001b[39m\n",
      " \u001b[90m [ae029012] \u001b[39m\u001b[93m↑ Requires v1.0.1 ⇒ v1.1.2\u001b[39m\n",
      " \u001b[90m [6038ab10] \u001b[39m\u001b[93m↑ Rotations v0.13.0 ⇒ v1.0.2\u001b[39m\n",
      " \u001b[90m [992d4aef] \u001b[39m\u001b[93m↑ Showoff v0.3.1 ⇒ v0.3.2\u001b[39m\n",
      " \u001b[90m [699a6c99] \u001b[39m\u001b[93m↑ SimpleTraits v0.9.1 ⇒ v0.9.3\u001b[39m\n",
      " \u001b[90m [276daf66] \u001b[39m\u001b[93m↑ SpecialFunctions v0.10.0 ⇒ v0.10.3\u001b[39m\n",
      " \u001b[90m [90137ffa] \u001b[39m\u001b[93m↑ StaticArrays v0.12.1 ⇒ v0.12.5\u001b[39m\n",
      " \u001b[90m [dc548174] \u001b[39m\u001b[91m- TerminalMenus v0.1.0\u001b[39m\n",
      " \u001b[90m [06e1c1a7] \u001b[39m\u001b[93m↑ TiledIteration v0.2.4 ⇒ v0.2.5\u001b[39m\n",
      " \u001b[90m [a759f4b9] \u001b[39m\u001b[93m↑ TimerOutputs v0.5.3 ⇒ v0.5.7\u001b[39m\n",
      " \u001b[90m [30578b45] \u001b[39m\u001b[93m↑ URIParser v0.4.0 ⇒ v0.4.1\u001b[39m\n",
      " \u001b[90m [3a884ed6] \u001b[39m\u001b[92m+ UnPack v1.0.2\u001b[39m\n",
      " \u001b[90m [efce3f68] \u001b[39m\u001b[93m↑ WoodburyMatrices v0.5.2 ⇒ v0.5.3\u001b[39m\n",
      " \u001b[90m [83775a58] \u001b[39m\u001b[93m↑ Zlib_jll v1.2.11+9 ⇒ v1.2.11+18\u001b[39m\n",
      " \u001b[90m [3161d3a3] \u001b[39m\u001b[93m↑ Zstd_jll v1.4.4+0 ⇒ v1.4.5+2\u001b[39m\n",
      " \u001b[90m [0ac62f75] \u001b[39m\u001b[93m↑ libass_jll v0.14.0+0 ⇒ v0.14.0+4\u001b[39m\n",
      " \u001b[90m [f638f0a6] \u001b[39m\u001b[93m↑ libfdk_aac_jll v0.1.6+1 ⇒ v0.1.6+4\u001b[39m\n",
      " \u001b[90m [b53b4c65] \u001b[39m\u001b[93m↑ libpng_jll v1.6.37+3 ⇒ v1.6.37+6\u001b[39m\n",
      " \u001b[90m [f27f6e37] \u001b[39m\u001b[93m↑ libvorbis_jll v1.3.6+2 ⇒ v1.3.6+6\u001b[39m\n",
      " \u001b[90m [8e850ede] \u001b[39m\u001b[92m+ nghttp2_jll v1.40.0+2\u001b[39m\n",
      " \u001b[90m [1270edf5] \u001b[39m\u001b[93m↑ x264_jll v2019.5.25+1 ⇒ v2020.7.14+2\u001b[39m\n",
      " \u001b[90m [dfaa095f] \u001b[39m\u001b[93m↑ x265_jll v3.0.0+0 ⇒ v3.0.0+3\u001b[39m\n"
     ]
    },
    {
     "name": "stderr",
     "output_type": "stream",
     "text": [
      "\u001b[32m\u001b[1m   Building\u001b[22m\u001b[39m PyCall → `~/.julia/packages/PyCall/zqDXB/deps/build.log`\n",
      "\u001b[32m\u001b[1m   Building\u001b[22m\u001b[39m CMake ─→ `~/.julia/packages/CMake/ULbyn/deps/build.log`\n",
      "\u001b[32m\u001b[1m   Building\u001b[22m\u001b[39m Blosc ─→ `~/.julia/packages/Blosc/lzFr0/deps/build.log`\n",
      "\u001b[32m\u001b[1m   Building\u001b[22m\u001b[39m HDF5 ──→ `~/.julia/packages/HDF5/XQlr9/deps/build.log`\n",
      "\u001b[32m\u001b[1m   Building\u001b[22m\u001b[39m Knet ──→ `~/.julia/packages/Knet/bTNMd/deps/build.log`\n",
      "\u001b[32m\u001b[1m Activating\u001b[22m\u001b[39m environment at `~/.julia/packages/JuliaAcademyData/1to3l/courses/World of machine learning/Project.toml`\n",
      "\u001b[32m\u001b[1m  Installed\u001b[22m\u001b[39m ImageMagick ── v0.7.5\n",
      "\u001b[32m\u001b[1m  Installed\u001b[22m\u001b[39m PyCall ─────── v1.91.2\n",
      "\u001b[32m\u001b[1m  Installed\u001b[22m\u001b[39m Requires ───── v0.5.2\n",
      "\u001b[32m\u001b[1m  Installed\u001b[22m\u001b[39m CMake ──────── v1.1.2\n",
      "\u001b[32m\u001b[1m  Installed\u001b[22m\u001b[39m TextWrap ───── v0.3.0\n",
      "\u001b[32m\u001b[1m  Installed\u001b[22m\u001b[39m ArgParse ───── v0.6.2\n",
      "\u001b[32m\u001b[1m  Installed\u001b[22m\u001b[39m Parameters ─── v0.12.0\n",
      "\u001b[32m\u001b[1m  Installed\u001b[22m\u001b[39m AutoGrad ───── v1.2.0\n",
      "\u001b[32m\u001b[1m  Installed\u001b[22m\u001b[39m JLD2 ───────── v0.1.11\n",
      "\u001b[32m\u001b[1m  Installed\u001b[22m\u001b[39m CUDAnative ─── v2.6.0\n",
      "\u001b[32m\u001b[1m  Installed\u001b[22m\u001b[39m CUDAdrv ────── v4.0.4\n",
      "\u001b[32m\u001b[1m  Installed\u001b[22m\u001b[39m CMakeWrapper ─ v0.2.3\n",
      "\u001b[32m\u001b[1m  Installed\u001b[22m\u001b[39m HDF5 ───────── v0.12.5\n",
      "\u001b[32m\u001b[1m  Installed\u001b[22m\u001b[39m CuArrays ───── v1.5.0\n",
      "\u001b[32m\u001b[1m  Installed\u001b[22m\u001b[39m Knet ───────── v1.3.2\n",
      "\u001b[32m\u001b[1m   Building\u001b[22m\u001b[39m CMake ──────→ `~/.julia/packages/CMake/nSK2r/deps/build.log`\n",
      "\u001b[32m\u001b[1m   Building\u001b[22m\u001b[39m ImageMagick → `~/.julia/packages/ImageMagick/vMfoS/deps/build.log`\n",
      "┌ Error: Pkg.Resolve.ResolverError(\"Unsatisfiable requirements detected for package ColorTypes [3da002f7]:\\n ColorTypes [3da002f7] log:\\n ├─possible versions are: [0.7.0-0.7.5, 0.8.0-0.8.1, 0.9.0-0.9.1, 0.10.0-0.10.9] or uninstalled\\n ├─restricted to versions 0.9.1 by an explicit requirement, leaving only versions 0.9.1\\n └─restricted by compatibility requirements with ImageMagick [6218d12a] to versions: [0.7.0-0.7.5, 0.8.0-0.8.1] — no versions left\\n   └─ImageMagick [6218d12a] log:\\n     ├─possible versions are: [0.7.0-0.7.1, 0.7.3-0.7.6, 1.0.0, 1.1.0-1.1.6] or uninstalled\\n     └─restricted to versions 0.7.5 by an explicit requirement, leaving only versions 0.7.5\", nothing)\n",
      "└ @ Pkg.Operations /Users/julia/buildbot/worker/package_macos64/build/usr/share/julia/stdlib/v1.5/Pkg/src/Operations.jl:1427\n",
      "\u001b[32m\u001b[1m   Building\u001b[22m\u001b[39m PyCall ─────→ `~/.julia/packages/PyCall/ttONZ/deps/build.log`\n",
      "\u001b[32m\u001b[1m   Building\u001b[22m\u001b[39m Knet ───────→ `~/.julia/packages/Knet/LjPts/deps/build.log`\n",
      "\u001b[32m\u001b[1m   Building\u001b[22m\u001b[39m HDF5 ───────→ `~/.julia/packages/HDF5/Zh9on/deps/build.log`\n"
     ]
    }
   ],
   "source": [
    "import Pkg; Pkg.add(Pkg.PackageSpec(url=\"https://github.com/JuliaComputing/JuliaAcademyData.jl\"))\n",
    "using JuliaAcademyData; activate(\"World of machine learning\")"
   ]
  },
  {
   "cell_type": "markdown",
   "metadata": {},
   "source": [
    "# Visual Q&A Demo"
   ]
  },
  {
   "cell_type": "markdown",
   "metadata": {},
   "source": [
    "## Setup\n",
    "1-Installs required packages\n",
    "2-Downloads sample data and a pretrained model."
   ]
  },
  {
   "cell_type": "code",
   "execution_count": 2,
   "metadata": {},
   "outputs": [
    {
     "name": "stdout",
     "output_type": "stream",
     "text": [
      "Downloading pre-trained model from our servers...\n"
     ]
    },
    {
     "name": "stderr",
     "output_type": "stream",
     "text": [
      "┌ Error: Download failed: curl: (22) The requested URL returned error: 404 Not Found\n",
      "└ @ Base download.jl:43\n"
     ]
    },
    {
     "ename": "LoadError",
     "evalue": "LoadError: failed process: Process(`/usr/bin/curl -s -S -g -L -f -o models/macnet.jld2 ai.ku.edu.tr/models/mac-network/macnet.jld2`, ProcessExited(22)) [22]\n\nin expression starting at /Users/a.a.gonzalez.paje/.julia/packages/JuliaAcademyData/1to3l/courses/World of machine learning/visualize/demosetup.jl:9",
     "output_type": "error",
     "traceback": [
      "LoadError: failed process: Process(`/usr/bin/curl -s -S -g -L -f -o models/macnet.jld2 ai.ku.edu.tr/models/mac-network/macnet.jld2`, ProcessExited(22)) [22]\n\nin expression starting at /Users/a.a.gonzalez.paje/.julia/packages/JuliaAcademyData/1to3l/courses/World of machine learning/visualize/demosetup.jl:9",
      "",
      "Stacktrace:",
      " [1] pipeline_error at ./process.jl:525 [inlined]",
      " [2] download_curl(::String, ::String, ::String) at ./download.jl:44",
      " [3] download(::String, ::String) at ./download.jl:62",
      " [4] top-level scope at /Users/a.a.gonzalez.paje/.julia/packages/JuliaAcademyData/1to3l/courses/World of machine learning/visualize/demosetup.jl:11",
      " [5] include(::String) at ./client.jl:457",
      " [6] top-level scope at In[2]:2",
      " [7] include_string(::Function, ::Module, ::String, ::String) at ./loading.jl:1091"
     ]
    }
   ],
   "source": [
    "cd(datapath(\"visualize\"))\n",
    "include(\"demosetup.jl\")\n",
    "include(\"src/main.jl\")"
   ]
  },
  {
   "cell_type": "markdown",
   "metadata": {},
   "source": [
    "## Initialization\n",
    "1-Loads the sample demo data (image features,questions,vocabulary).\n",
    "    * w2i : words to one-hot index   : w2i[\"cube\"] = 30\n",
    "    * a2i : answer to one-hot index  : a2i[\"gray\"] = 8\n",
    "    * i2w : one-hot index to words   : i2w[2] = \"Are\"\n",
    "    * i2a : one-hot index to answers : i2a[5] = \"large\"\n",
    "2-Loads the pretrained model, and its hyper-parameters `o`."
   ]
  },
  {
   "cell_type": "code",
   "execution_count": null,
   "metadata": {},
   "outputs": [],
   "source": [
    "feats,qstsns,(w2i,a2i,i2w,i2a) = loadDemoData(\"data/demo/\");\n",
    "_,Mrun,o = loadmodel(\"models/macnet.jld2\";onlywrun=true);\n",
    "global atype = typeof(params(Mrun)[1].value) <: Array ? Array{Float32} : KnetArray{Float32}"
   ]
  },
  {
   "cell_type": "markdown",
   "metadata": {},
   "source": [
    "## Sample Data\n",
    "1-Randomly selects (question,image) pair from the sample data\n",
    "2-Make predictions for the question and checks whether the prediction is correct"
   ]
  },
  {
   "cell_type": "code",
   "execution_count": null,
   "metadata": {},
   "outputs": [],
   "source": [
    "rnd        = rand(1:length(qstsns))\n",
    "inst       = qstsns[rnd]\n",
    "feat       = atype(feats[:,:,:,rnd:rnd])\n",
    "question   = Array{Int}(inst[2])\n",
    "answer     = inst[3];\n",
    "family     = inst[4];\n",
    "results,prediction,interoutputs = singlerun(Mrun,feat,question;p=o[:p],selfattn=o[:selfattn],gating=o[:gating]);\n",
    "interoutputs = first.(interoutputs)\n",
    "answer==prediction[1]"
   ]
  },
  {
   "cell_type": "code",
   "execution_count": null,
   "metadata": {},
   "outputs": [],
   "source": [
    "(i2a[interoutputs],prediction[1])"
   ]
  },
  {
   "cell_type": "code",
   "execution_count": null,
   "metadata": {},
   "outputs": [],
   "source": [
    "img = load(\"data/demo/CLEVR_v1.0/images/val/$(inst[1])\")"
   ]
  },
  {
   "cell_type": "code",
   "execution_count": null,
   "metadata": {},
   "outputs": [],
   "source": [
    "textq  = i2w[question];\n",
    "println(\"Question: \",join(textq,\" \"))\n",
    "texta  = i2a[answer];\n",
    "println(\"Answer: $(texta)\\nPrediction: $(i2a[prediction]) \")"
   ]
  },
  {
   "cell_type": "markdown",
   "metadata": {},
   "source": [
    "## User Data\n",
    "You can enter your own question about the image and test whether the prediction is correct"
   ]
  },
  {
   "cell_type": "code",
   "execution_count": null,
   "metadata": {},
   "outputs": [],
   "source": [
    "userinput = readline(stdin)\n",
    "words = split(userinput) # tokenize(userinput)\n",
    "question = [get!(w2i,wr,1) for wr in words]\n",
    "results,prediction = singlerun(Mrun,feat,question;p=o[:p],selfattn=o[:selfattn],gating=o[:gating]);\n",
    "println(\"Question: $(join(i2w[question],\" \"))\")\n",
    "println(\"Prediction: $(i2a[prediction])\")"
   ]
  },
  {
   "cell_type": "markdown",
   "metadata": {},
   "source": [
    "## Visualize\n",
    "`visualize` function visualizes attention maps for each time step of the mac network"
   ]
  },
  {
   "cell_type": "code",
   "execution_count": null,
   "metadata": {},
   "outputs": [],
   "source": [
    "visualize(img,results;p=o[:p])"
   ]
  }
 ],
 "metadata": {
  "kernelspec": {
   "display_name": "Julia 1.5.2",
   "language": "julia",
   "name": "julia-1.5"
  },
  "language_info": {
   "file_extension": ".jl",
   "mimetype": "application/julia",
   "name": "julia",
   "version": "1.5.2"
  }
 },
 "nbformat": 4,
 "nbformat_minor": 3
}
