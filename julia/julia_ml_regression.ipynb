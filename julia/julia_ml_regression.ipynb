{
 "cells": [
  {
   "cell_type": "markdown",
   "metadata": {},
   "source": [
    "# Regression"
   ]
  },
  {
   "cell_type": "code",
   "execution_count": 1,
   "metadata": {},
   "outputs": [],
   "source": [
    "# https://github.com/JuliaAcademy/DataScience/blob/master/07.%20Regression.ipynb "
   ]
  },
  {
   "cell_type": "code",
   "execution_count": 2,
   "metadata": {},
   "outputs": [],
   "source": [
    "using Plots\n",
    "using Statistics\n",
    "using StatsBase\n",
    "using PyCall\n",
    "using DataFrames\n",
    "using GLM\n",
    "using Tables\n",
    "using XLSX\n",
    "using MLBase\n",
    "using RDatasets\n",
    "using LsqFit"
   ]
  },
  {
   "cell_type": "code",
   "execution_count": 3,
   "metadata": {},
   "outputs": [
    {
     "data": {
      "image/svg+xml": [
       "<?xml version=\"1.0\" encoding=\"utf-8\"?>\n",
       "<svg xmlns=\"http://www.w3.org/2000/svg\" xmlns:xlink=\"http://www.w3.org/1999/xlink\" width=\"600\" height=\"400\" viewBox=\"0 0 2400 1600\">\n",
       "<defs>\n",
       "  <clipPath id=\"clip620\">\n",
       "    <rect x=\"0\" y=\"0\" width=\"2400\" height=\"1600\"/>\n",
       "  </clipPath>\n",
       "</defs>\n",
       "<path clip-path=\"url(#clip620)\" d=\"\n",
       "M0 1600 L2400 1600 L2400 0 L0 0  Z\n",
       "  \" fill=\"#ffffff\" fill-rule=\"evenodd\" fill-opacity=\"1\"/>\n",
       "<defs>\n",
       "  <clipPath id=\"clip621\">\n",
       "    <rect x=\"480\" y=\"0\" width=\"1681\" height=\"1600\"/>\n",
       "  </clipPath>\n",
       "</defs>\n",
       "<path clip-path=\"url(#clip620)\" d=\"\n",
       "M171.552 1486.45 L2352.76 1486.45 L2352.76 47.2441 L171.552 47.2441  Z\n",
       "  \" fill=\"#ffffff\" fill-rule=\"evenodd\" fill-opacity=\"1\"/>\n",
       "<defs>\n",
       "  <clipPath id=\"clip622\">\n",
       "    <rect x=\"171\" y=\"47\" width=\"2182\" height=\"1440\"/>\n",
       "  </clipPath>\n",
       "</defs>\n",
       "<polyline clip-path=\"url(#clip622)\" style=\"stroke:#000000; stroke-width:2; stroke-opacity:0.1; fill:none\" points=\"\n",
       "  461.922,1486.45 461.922,47.2441 \n",
       "  \"/>\n",
       "<polyline clip-path=\"url(#clip622)\" style=\"stroke:#000000; stroke-width:2; stroke-opacity:0.1; fill:none\" points=\"\n",
       "  919.197,1486.45 919.197,47.2441 \n",
       "  \"/>\n",
       "<polyline clip-path=\"url(#clip622)\" style=\"stroke:#000000; stroke-width:2; stroke-opacity:0.1; fill:none\" points=\"\n",
       "  1376.47,1486.45 1376.47,47.2441 \n",
       "  \"/>\n",
       "<polyline clip-path=\"url(#clip622)\" style=\"stroke:#000000; stroke-width:2; stroke-opacity:0.1; fill:none\" points=\"\n",
       "  1833.75,1486.45 1833.75,47.2441 \n",
       "  \"/>\n",
       "<polyline clip-path=\"url(#clip622)\" style=\"stroke:#000000; stroke-width:2; stroke-opacity:0.1; fill:none\" points=\"\n",
       "  2291.02,1486.45 2291.02,47.2441 \n",
       "  \"/>\n",
       "<polyline clip-path=\"url(#clip622)\" style=\"stroke:#000000; stroke-width:2; stroke-opacity:0.1; fill:none\" points=\"\n",
       "  171.552,1284.02 2352.76,1284.02 \n",
       "  \"/>\n",
       "<polyline clip-path=\"url(#clip622)\" style=\"stroke:#000000; stroke-width:2; stroke-opacity:0.1; fill:none\" points=\"\n",
       "  171.552,948.29 2352.76,948.29 \n",
       "  \"/>\n",
       "<polyline clip-path=\"url(#clip622)\" style=\"stroke:#000000; stroke-width:2; stroke-opacity:0.1; fill:none\" points=\"\n",
       "  171.552,612.558 2352.76,612.558 \n",
       "  \"/>\n",
       "<polyline clip-path=\"url(#clip622)\" style=\"stroke:#000000; stroke-width:2; stroke-opacity:0.1; fill:none\" points=\"\n",
       "  171.552,276.827 2352.76,276.827 \n",
       "  \"/>\n",
       "<polyline clip-path=\"url(#clip620)\" style=\"stroke:#000000; stroke-width:4; stroke-opacity:1; fill:none\" points=\"\n",
       "  171.552,1486.45 2352.76,1486.45 \n",
       "  \"/>\n",
       "<polyline clip-path=\"url(#clip620)\" style=\"stroke:#000000; stroke-width:4; stroke-opacity:1; fill:none\" points=\"\n",
       "  171.552,1486.45 171.552,47.2441 \n",
       "  \"/>\n",
       "<polyline clip-path=\"url(#clip620)\" style=\"stroke:#000000; stroke-width:4; stroke-opacity:1; fill:none\" points=\"\n",
       "  461.922,1486.45 461.922,1469.18 \n",
       "  \"/>\n",
       "<polyline clip-path=\"url(#clip620)\" style=\"stroke:#000000; stroke-width:4; stroke-opacity:1; fill:none\" points=\"\n",
       "  919.197,1486.45 919.197,1469.18 \n",
       "  \"/>\n",
       "<polyline clip-path=\"url(#clip620)\" style=\"stroke:#000000; stroke-width:4; stroke-opacity:1; fill:none\" points=\"\n",
       "  1376.47,1486.45 1376.47,1469.18 \n",
       "  \"/>\n",
       "<polyline clip-path=\"url(#clip620)\" style=\"stroke:#000000; stroke-width:4; stroke-opacity:1; fill:none\" points=\"\n",
       "  1833.75,1486.45 1833.75,1469.18 \n",
       "  \"/>\n",
       "<polyline clip-path=\"url(#clip620)\" style=\"stroke:#000000; stroke-width:4; stroke-opacity:1; fill:none\" points=\"\n",
       "  2291.02,1486.45 2291.02,1469.18 \n",
       "  \"/>\n",
       "<polyline clip-path=\"url(#clip620)\" style=\"stroke:#000000; stroke-width:4; stroke-opacity:1; fill:none\" points=\"\n",
       "  171.552,1284.02 197.726,1284.02 \n",
       "  \"/>\n",
       "<polyline clip-path=\"url(#clip620)\" style=\"stroke:#000000; stroke-width:4; stroke-opacity:1; fill:none\" points=\"\n",
       "  171.552,948.29 197.726,948.29 \n",
       "  \"/>\n",
       "<polyline clip-path=\"url(#clip620)\" style=\"stroke:#000000; stroke-width:4; stroke-opacity:1; fill:none\" points=\"\n",
       "  171.552,612.558 197.726,612.558 \n",
       "  \"/>\n",
       "<polyline clip-path=\"url(#clip620)\" style=\"stroke:#000000; stroke-width:4; stroke-opacity:1; fill:none\" points=\"\n",
       "  171.552,276.827 197.726,276.827 \n",
       "  \"/>\n",
       "<path clip-path=\"url(#clip620)\" d=\"M 0 0 M456.575 1535.98 L472.894 1535.98 L472.894 1539.92 L450.95 1539.92 L450.95 1535.98 Q453.612 1533.23 458.195 1528.6 Q462.801 1523.95 463.982 1522.61 Q466.227 1520.08 467.107 1518.35 Q468.01 1516.59 468.01 1514.9 Q468.01 1512.14 466.065 1510.41 Q464.144 1508.67 461.042 1508.67 Q458.843 1508.67 456.389 1509.43 Q453.959 1510.2 451.181 1511.75 L451.181 1507.03 Q454.005 1505.89 456.459 1505.31 Q458.913 1504.73 460.95 1504.73 Q466.32 1504.73 469.514 1507.42 Q472.709 1510.11 472.709 1514.6 Q472.709 1516.73 471.899 1518.65 Q471.112 1520.54 469.005 1523.14 Q468.426 1523.81 465.325 1527.03 Q462.223 1530.22 456.575 1535.98 Z\" fill=\"#000000\" fill-rule=\"evenodd\" fill-opacity=\"1\" /><path clip-path=\"url(#clip620)\" d=\"M 0 0 M922.207 1509.43 L910.401 1527.88 L922.207 1527.88 L922.207 1509.43 M920.98 1505.36 L926.859 1505.36 L926.859 1527.88 L931.79 1527.88 L931.79 1531.77 L926.859 1531.77 L926.859 1539.92 L922.207 1539.92 L922.207 1531.77 L906.605 1531.77 L906.605 1527.26 L920.98 1505.36 Z\" fill=\"#000000\" fill-rule=\"evenodd\" fill-opacity=\"1\" /><path clip-path=\"url(#clip620)\" d=\"M 0 0 M1376.88 1520.78 Q1373.73 1520.78 1371.88 1522.93 Q1370.05 1525.08 1370.05 1528.83 Q1370.05 1532.56 1371.88 1534.73 Q1373.73 1536.89 1376.88 1536.89 Q1380.03 1536.89 1381.85 1534.73 Q1383.71 1532.56 1383.71 1528.83 Q1383.71 1525.08 1381.85 1522.93 Q1380.03 1520.78 1376.88 1520.78 M1386.16 1506.12 L1386.16 1510.38 Q1384.4 1509.55 1382.6 1509.11 Q1380.81 1508.67 1379.05 1508.67 Q1374.42 1508.67 1371.97 1511.8 Q1369.54 1514.92 1369.19 1521.24 Q1370.56 1519.23 1372.62 1518.16 Q1374.68 1517.07 1377.16 1517.07 Q1382.36 1517.07 1385.37 1520.24 Q1388.41 1523.39 1388.41 1528.83 Q1388.41 1534.16 1385.26 1537.37 Q1382.11 1540.59 1376.88 1540.59 Q1370.88 1540.59 1367.71 1536.01 Q1364.54 1531.4 1364.54 1522.67 Q1364.54 1514.48 1368.43 1509.62 Q1372.32 1504.73 1378.87 1504.73 Q1380.63 1504.73 1382.41 1505.08 Q1384.22 1505.43 1386.16 1506.12 Z\" fill=\"#000000\" fill-rule=\"evenodd\" fill-opacity=\"1\" /><path clip-path=\"url(#clip620)\" d=\"M 0 0 M1833.75 1523.51 Q1830.41 1523.51 1828.49 1525.29 Q1826.6 1527.07 1826.6 1530.2 Q1826.6 1533.32 1828.49 1535.11 Q1830.41 1536.89 1833.75 1536.89 Q1837.08 1536.89 1839 1535.11 Q1840.92 1533.3 1840.92 1530.2 Q1840.92 1527.07 1839 1525.29 Q1837.1 1523.51 1833.75 1523.51 M1829.07 1521.52 Q1826.06 1520.78 1824.37 1518.72 Q1822.71 1516.66 1822.71 1513.69 Q1822.71 1509.55 1825.65 1507.14 Q1828.61 1504.73 1833.75 1504.73 Q1838.91 1504.73 1841.85 1507.14 Q1844.79 1509.55 1844.79 1513.69 Q1844.79 1516.66 1843.1 1518.72 Q1841.43 1520.78 1838.45 1521.52 Q1841.83 1522.3 1843.7 1524.6 Q1845.6 1526.89 1845.6 1530.2 Q1845.6 1535.22 1842.52 1537.91 Q1839.47 1540.59 1833.75 1540.59 Q1828.03 1540.59 1824.95 1537.91 Q1821.9 1535.22 1821.9 1530.2 Q1821.9 1526.89 1823.79 1524.6 Q1825.69 1522.3 1829.07 1521.52 M1827.36 1514.13 Q1827.36 1516.82 1829.03 1518.32 Q1830.72 1519.83 1833.75 1519.83 Q1836.76 1519.83 1838.45 1518.32 Q1840.16 1516.82 1840.16 1514.13 Q1840.16 1511.45 1838.45 1509.94 Q1836.76 1508.44 1833.75 1508.44 Q1830.72 1508.44 1829.03 1509.94 Q1827.36 1511.45 1827.36 1514.13 Z\" fill=\"#000000\" fill-rule=\"evenodd\" fill-opacity=\"1\" /><path clip-path=\"url(#clip620)\" d=\"M 0 0 M2267.9 1535.98 L2275.54 1535.98 L2275.54 1509.62 L2267.23 1511.29 L2267.23 1507.03 L2275.49 1505.36 L2280.17 1505.36 L2280.17 1535.98 L2287.81 1535.98 L2287.81 1539.92 L2267.9 1539.92 L2267.9 1535.98 Z\" fill=\"#000000\" fill-rule=\"evenodd\" fill-opacity=\"1\" /><path clip-path=\"url(#clip620)\" d=\"M 0 0 M2302.88 1508.44 Q2299.26 1508.44 2297.44 1512 Q2295.63 1515.55 2295.63 1522.67 Q2295.63 1529.78 2297.44 1533.35 Q2299.26 1536.89 2302.88 1536.89 Q2306.51 1536.89 2308.32 1533.35 Q2310.14 1529.78 2310.14 1522.67 Q2310.14 1515.55 2308.32 1512 Q2306.51 1508.44 2302.88 1508.44 M2302.88 1504.73 Q2308.69 1504.73 2311.74 1509.34 Q2314.82 1513.92 2314.82 1522.67 Q2314.82 1531.4 2311.74 1536.01 Q2308.69 1540.59 2302.88 1540.59 Q2297.07 1540.59 2293.99 1536.01 Q2290.93 1531.4 2290.93 1522.67 Q2290.93 1513.92 2293.99 1509.34 Q2297.07 1504.73 2302.88 1504.73 Z\" fill=\"#000000\" fill-rule=\"evenodd\" fill-opacity=\"1\" /><path clip-path=\"url(#clip620)\" d=\"M 0 0 M89.6818 1266.74 L108.038 1266.74 L108.038 1270.68 L93.9642 1270.68 L93.9642 1279.15 Q94.9827 1278.8 96.0012 1278.64 Q97.0197 1278.45 98.0382 1278.45 Q103.825 1278.45 107.205 1281.63 Q110.584 1284.8 110.584 1290.21 Q110.584 1295.79 107.112 1298.89 Q103.64 1301.97 97.3206 1301.97 Q95.1447 1301.97 92.8762 1301.6 Q90.6309 1301.23 88.2235 1300.49 L88.2235 1295.79 Q90.3068 1296.93 92.529 1297.48 Q94.7512 1298.04 97.2281 1298.04 Q101.233 1298.04 103.571 1295.93 Q105.909 1293.82 105.909 1290.21 Q105.909 1286.6 103.571 1284.5 Q101.233 1282.39 97.2281 1282.39 Q95.3531 1282.39 93.4781 1282.81 Q91.6262 1283.22 89.6818 1284.1 L89.6818 1266.74 Z\" fill=\"#000000\" fill-rule=\"evenodd\" fill-opacity=\"1\" /><path clip-path=\"url(#clip620)\" d=\"M 0 0 M115.654 1295.42 L120.538 1295.42 L120.538 1301.3 L115.654 1301.3 L115.654 1295.42 Z\" fill=\"#000000\" fill-rule=\"evenodd\" fill-opacity=\"1\" /><path clip-path=\"url(#clip620)\" d=\"M 0 0 M135.607 1269.82 Q131.996 1269.82 130.168 1273.38 Q128.362 1276.93 128.362 1284.06 Q128.362 1291.16 130.168 1294.73 Q131.996 1298.27 135.607 1298.27 Q139.242 1298.27 141.047 1294.73 Q142.876 1291.16 142.876 1284.06 Q142.876 1276.93 141.047 1273.38 Q139.242 1269.82 135.607 1269.82 M135.607 1266.12 Q141.418 1266.12 144.473 1270.72 Q147.552 1275.31 147.552 1284.06 Q147.552 1292.78 144.473 1297.39 Q141.418 1301.97 135.607 1301.97 Q129.797 1301.97 126.719 1297.39 Q123.663 1292.78 123.663 1284.06 Q123.663 1275.31 126.719 1270.72 Q129.797 1266.12 135.607 1266.12 Z\" fill=\"#000000\" fill-rule=\"evenodd\" fill-opacity=\"1\" /><path clip-path=\"url(#clip620)\" d=\"M 0 0 M89.3577 931.01 L111.58 931.01 L111.58 933 L99.0336 965.57 L94.1494 965.57 L105.955 934.945 L89.3577 934.945 L89.3577 931.01 Z\" fill=\"#000000\" fill-rule=\"evenodd\" fill-opacity=\"1\" /><path clip-path=\"url(#clip620)\" d=\"M 0 0 M116.649 959.69 L121.533 959.69 L121.533 965.57 L116.649 965.57 L116.649 959.69 Z\" fill=\"#000000\" fill-rule=\"evenodd\" fill-opacity=\"1\" /><path clip-path=\"url(#clip620)\" d=\"M 0 0 M126.649 931.01 L145.006 931.01 L145.006 934.945 L130.932 934.945 L130.932 943.417 Q131.95 943.07 132.969 942.908 Q133.987 942.723 135.006 942.723 Q140.793 942.723 144.172 945.894 Q147.552 949.065 147.552 954.482 Q147.552 960.06 144.08 963.162 Q140.607 966.241 134.288 966.241 Q132.112 966.241 129.844 965.871 Q127.598 965.5 125.191 964.759 L125.191 960.06 Q127.274 961.195 129.496 961.75 Q131.719 962.306 134.195 962.306 Q138.2 962.306 140.538 960.199 Q142.876 958.093 142.876 954.482 Q142.876 950.871 140.538 948.764 Q138.2 946.658 134.195 946.658 Q132.32 946.658 130.445 947.074 Q128.594 947.491 126.649 948.371 L126.649 931.01 Z\" fill=\"#000000\" fill-rule=\"evenodd\" fill-opacity=\"1\" /><path clip-path=\"url(#clip620)\" d=\"M 0 0 M63.6634 625.903 L71.3023 625.903 L71.3023 599.537 L62.9921 601.204 L62.9921 596.945 L71.256 595.278 L75.9319 595.278 L75.9319 625.903 L83.5707 625.903 L83.5707 629.838 L63.6634 629.838 L63.6634 625.903 Z\" fill=\"#000000\" fill-rule=\"evenodd\" fill-opacity=\"1\" /><path clip-path=\"url(#clip620)\" d=\"M 0 0 M98.6401 598.357 Q95.029 598.357 93.2003 601.922 Q91.3948 605.463 91.3948 612.593 Q91.3948 619.699 93.2003 623.264 Q95.029 626.806 98.6401 626.806 Q102.274 626.806 104.08 623.264 Q105.909 619.699 105.909 612.593 Q105.909 605.463 104.08 601.922 Q102.274 598.357 98.6401 598.357 M98.6401 594.653 Q104.45 594.653 107.506 599.26 Q110.584 603.843 110.584 612.593 Q110.584 621.32 107.506 625.926 Q104.45 630.509 98.6401 630.509 Q92.8299 630.509 89.7512 625.926 Q86.6957 621.32 86.6957 612.593 Q86.6957 603.843 89.7512 599.26 Q92.8299 594.653 98.6401 594.653 Z\" fill=\"#000000\" fill-rule=\"evenodd\" fill-opacity=\"1\" /><path clip-path=\"url(#clip620)\" d=\"M 0 0 M115.654 623.959 L120.538 623.959 L120.538 629.838 L115.654 629.838 L115.654 623.959 Z\" fill=\"#000000\" fill-rule=\"evenodd\" fill-opacity=\"1\" /><path clip-path=\"url(#clip620)\" d=\"M 0 0 M135.607 598.357 Q131.996 598.357 130.168 601.922 Q128.362 605.463 128.362 612.593 Q128.362 619.699 130.168 623.264 Q131.996 626.806 135.607 626.806 Q139.242 626.806 141.047 623.264 Q142.876 619.699 142.876 612.593 Q142.876 605.463 141.047 601.922 Q139.242 598.357 135.607 598.357 M135.607 594.653 Q141.418 594.653 144.473 599.26 Q147.552 603.843 147.552 612.593 Q147.552 621.32 144.473 625.926 Q141.418 630.509 135.607 630.509 Q129.797 630.509 126.719 625.926 Q123.663 621.32 123.663 612.593 Q123.663 603.843 126.719 599.26 Q129.797 594.653 135.607 594.653 Z\" fill=\"#000000\" fill-rule=\"evenodd\" fill-opacity=\"1\" /><path clip-path=\"url(#clip620)\" d=\"M 0 0 M66.256 290.171 L73.8948 290.171 L73.8948 263.806 L65.5847 265.473 L65.5847 261.213 L73.8485 259.547 L78.5245 259.547 L78.5245 290.171 L86.1633 290.171 L86.1633 294.107 L66.256 294.107 L66.256 290.171 Z\" fill=\"#000000\" fill-rule=\"evenodd\" fill-opacity=\"1\" /><path clip-path=\"url(#clip620)\" d=\"M 0 0 M95.2605 290.171 L111.58 290.171 L111.58 294.107 L89.6355 294.107 L89.6355 290.171 Q92.2975 287.417 96.8808 282.787 Q101.487 278.135 102.668 276.792 Q104.913 274.269 105.793 272.533 Q106.696 270.773 106.696 269.084 Q106.696 266.329 104.751 264.593 Q102.83 262.857 99.728 262.857 Q97.529 262.857 95.0753 263.621 Q92.6447 264.385 89.867 265.935 L89.867 261.213 Q92.691 260.079 95.1447 259.5 Q97.5984 258.922 99.6354 258.922 Q105.006 258.922 108.2 261.607 Q111.395 264.292 111.395 268.783 Q111.395 270.912 110.584 272.834 Q109.797 274.732 107.691 277.324 Q107.112 277.996 104.01 281.213 Q100.909 284.408 95.2605 290.171 Z\" fill=\"#000000\" fill-rule=\"evenodd\" fill-opacity=\"1\" /><path clip-path=\"url(#clip620)\" d=\"M 0 0 M116.649 288.227 L121.533 288.227 L121.533 294.107 L116.649 294.107 L116.649 288.227 Z\" fill=\"#000000\" fill-rule=\"evenodd\" fill-opacity=\"1\" /><path clip-path=\"url(#clip620)\" d=\"M 0 0 M126.649 259.547 L145.006 259.547 L145.006 263.482 L130.932 263.482 L130.932 271.954 Q131.95 271.607 132.969 271.445 Q133.987 271.26 135.006 271.26 Q140.793 271.26 144.172 274.431 Q147.552 277.602 147.552 283.019 Q147.552 288.597 144.08 291.699 Q140.607 294.778 134.288 294.778 Q132.112 294.778 129.844 294.408 Q127.598 294.037 125.191 293.296 L125.191 288.597 Q127.274 289.732 129.496 290.287 Q131.719 290.843 134.195 290.843 Q138.2 290.843 140.538 288.736 Q142.876 286.63 142.876 283.019 Q142.876 279.408 140.538 277.301 Q138.2 275.195 134.195 275.195 Q132.32 275.195 130.445 275.611 Q128.594 276.028 126.649 276.908 L126.649 259.547 Z\" fill=\"#000000\" fill-rule=\"evenodd\" fill-opacity=\"1\" /><circle clip-path=\"url(#clip622)\" cx=\"233.284\" cy=\"1347.01\" r=\"14\" fill=\"#000000\" fill-rule=\"evenodd\" fill-opacity=\"1\" stroke=\"none\"/>\n",
       "<circle clip-path=\"url(#clip622)\" cx=\"233.284\" cy=\"1325.13\" r=\"14\" fill=\"#000000\" fill-rule=\"evenodd\" fill-opacity=\"1\" stroke=\"none\"/>\n",
       "<circle clip-path=\"url(#clip622)\" cx=\"347.603\" cy=\"1227.8\" r=\"14\" fill=\"#000000\" fill-rule=\"evenodd\" fill-opacity=\"1\" stroke=\"none\"/>\n",
       "<circle clip-path=\"url(#clip622)\" cx=\"347.603\" cy=\"1445.72\" r=\"14\" fill=\"#000000\" fill-rule=\"evenodd\" fill-opacity=\"1\" stroke=\"none\"/>\n",
       "<circle clip-path=\"url(#clip622)\" cx=\"461.922\" cy=\"1168.99\" r=\"14\" fill=\"#000000\" fill-rule=\"evenodd\" fill-opacity=\"1\" stroke=\"none\"/>\n",
       "<circle clip-path=\"url(#clip622)\" cx=\"461.922\" cy=\"1205.89\" r=\"14\" fill=\"#000000\" fill-rule=\"evenodd\" fill-opacity=\"1\" stroke=\"none\"/>\n",
       "<circle clip-path=\"url(#clip622)\" cx=\"576.241\" cy=\"1162.94\" r=\"14\" fill=\"#000000\" fill-rule=\"evenodd\" fill-opacity=\"1\" stroke=\"none\"/>\n",
       "<circle clip-path=\"url(#clip622)\" cx=\"576.241\" cy=\"1343.93\" r=\"14\" fill=\"#000000\" fill-rule=\"evenodd\" fill-opacity=\"1\" stroke=\"none\"/>\n",
       "<circle clip-path=\"url(#clip622)\" cx=\"690.56\" cy=\"1149.26\" r=\"14\" fill=\"#000000\" fill-rule=\"evenodd\" fill-opacity=\"1\" stroke=\"none\"/>\n",
       "<circle clip-path=\"url(#clip622)\" cx=\"690.56\" cy=\"1134.81\" r=\"14\" fill=\"#000000\" fill-rule=\"evenodd\" fill-opacity=\"1\" stroke=\"none\"/>\n",
       "<circle clip-path=\"url(#clip622)\" cx=\"804.878\" cy=\"1053.51\" r=\"14\" fill=\"#000000\" fill-rule=\"evenodd\" fill-opacity=\"1\" stroke=\"none\"/>\n",
       "<circle clip-path=\"url(#clip622)\" cx=\"804.878\" cy=\"1118.6\" r=\"14\" fill=\"#000000\" fill-rule=\"evenodd\" fill-opacity=\"1\" stroke=\"none\"/>\n",
       "<circle clip-path=\"url(#clip622)\" cx=\"919.197\" cy=\"1052.64\" r=\"14\" fill=\"#000000\" fill-rule=\"evenodd\" fill-opacity=\"1\" stroke=\"none\"/>\n",
       "<circle clip-path=\"url(#clip622)\" cx=\"919.197\" cy=\"908.781\" r=\"14\" fill=\"#000000\" fill-rule=\"evenodd\" fill-opacity=\"1\" stroke=\"none\"/>\n",
       "<circle clip-path=\"url(#clip622)\" cx=\"1033.52\" cy=\"1065.64\" r=\"14\" fill=\"#000000\" fill-rule=\"evenodd\" fill-opacity=\"1\" stroke=\"none\"/>\n",
       "<circle clip-path=\"url(#clip622)\" cx=\"1033.52\" cy=\"828.311\" r=\"14\" fill=\"#000000\" fill-rule=\"evenodd\" fill-opacity=\"1\" stroke=\"none\"/>\n",
       "<circle clip-path=\"url(#clip622)\" cx=\"1147.84\" cy=\"961.311\" r=\"14\" fill=\"#000000\" fill-rule=\"evenodd\" fill-opacity=\"1\" stroke=\"none\"/>\n",
       "<circle clip-path=\"url(#clip622)\" cx=\"1147.84\" cy=\"891.06\" r=\"14\" fill=\"#000000\" fill-rule=\"evenodd\" fill-opacity=\"1\" stroke=\"none\"/>\n",
       "<circle clip-path=\"url(#clip622)\" cx=\"1262.15\" cy=\"856.801\" r=\"14\" fill=\"#000000\" fill-rule=\"evenodd\" fill-opacity=\"1\" stroke=\"none\"/>\n",
       "<circle clip-path=\"url(#clip622)\" cx=\"1262.15\" cy=\"810.071\" r=\"14\" fill=\"#000000\" fill-rule=\"evenodd\" fill-opacity=\"1\" stroke=\"none\"/>\n",
       "<circle clip-path=\"url(#clip622)\" cx=\"1376.47\" cy=\"757.056\" r=\"14\" fill=\"#000000\" fill-rule=\"evenodd\" fill-opacity=\"1\" stroke=\"none\"/>\n",
       "<circle clip-path=\"url(#clip622)\" cx=\"1376.47\" cy=\"640.932\" r=\"14\" fill=\"#000000\" fill-rule=\"evenodd\" fill-opacity=\"1\" stroke=\"none\"/>\n",
       "<circle clip-path=\"url(#clip622)\" cx=\"1490.79\" cy=\"593.783\" r=\"14\" fill=\"#000000\" fill-rule=\"evenodd\" fill-opacity=\"1\" stroke=\"none\"/>\n",
       "<circle clip-path=\"url(#clip622)\" cx=\"1490.79\" cy=\"672.867\" r=\"14\" fill=\"#000000\" fill-rule=\"evenodd\" fill-opacity=\"1\" stroke=\"none\"/>\n",
       "<circle clip-path=\"url(#clip622)\" cx=\"1605.11\" cy=\"597.275\" r=\"14\" fill=\"#000000\" fill-rule=\"evenodd\" fill-opacity=\"1\" stroke=\"none\"/>\n",
       "<circle clip-path=\"url(#clip622)\" cx=\"1605.11\" cy=\"570.072\" r=\"14\" fill=\"#000000\" fill-rule=\"evenodd\" fill-opacity=\"1\" stroke=\"none\"/>\n",
       "<circle clip-path=\"url(#clip622)\" cx=\"1719.43\" cy=\"523.11\" r=\"14\" fill=\"#000000\" fill-rule=\"evenodd\" fill-opacity=\"1\" stroke=\"none\"/>\n",
       "<circle clip-path=\"url(#clip622)\" cx=\"1719.43\" cy=\"524.346\" r=\"14\" fill=\"#000000\" fill-rule=\"evenodd\" fill-opacity=\"1\" stroke=\"none\"/>\n",
       "<circle clip-path=\"url(#clip622)\" cx=\"1833.75\" cy=\"445.682\" r=\"14\" fill=\"#000000\" fill-rule=\"evenodd\" fill-opacity=\"1\" stroke=\"none\"/>\n",
       "<circle clip-path=\"url(#clip622)\" cx=\"1833.75\" cy=\"537.442\" r=\"14\" fill=\"#000000\" fill-rule=\"evenodd\" fill-opacity=\"1\" stroke=\"none\"/>\n",
       "<circle clip-path=\"url(#clip622)\" cx=\"1948.07\" cy=\"534.006\" r=\"14\" fill=\"#000000\" fill-rule=\"evenodd\" fill-opacity=\"1\" stroke=\"none\"/>\n",
       "<circle clip-path=\"url(#clip622)\" cx=\"1948.07\" cy=\"503.318\" r=\"14\" fill=\"#000000\" fill-rule=\"evenodd\" fill-opacity=\"1\" stroke=\"none\"/>\n",
       "<circle clip-path=\"url(#clip622)\" cx=\"2062.39\" cy=\"363.781\" r=\"14\" fill=\"#000000\" fill-rule=\"evenodd\" fill-opacity=\"1\" stroke=\"none\"/>\n",
       "<circle clip-path=\"url(#clip622)\" cx=\"2062.39\" cy=\"355.631\" r=\"14\" fill=\"#000000\" fill-rule=\"evenodd\" fill-opacity=\"1\" stroke=\"none\"/>\n",
       "<circle clip-path=\"url(#clip622)\" cx=\"2176.7\" cy=\"408.784\" r=\"14\" fill=\"#000000\" fill-rule=\"evenodd\" fill-opacity=\"1\" stroke=\"none\"/>\n",
       "<circle clip-path=\"url(#clip622)\" cx=\"2176.7\" cy=\"291.82\" r=\"14\" fill=\"#000000\" fill-rule=\"evenodd\" fill-opacity=\"1\" stroke=\"none\"/>\n",
       "<circle clip-path=\"url(#clip622)\" cx=\"2291.02\" cy=\"172.201\" r=\"14\" fill=\"#000000\" fill-rule=\"evenodd\" fill-opacity=\"1\" stroke=\"none\"/>\n",
       "<circle clip-path=\"url(#clip622)\" cx=\"2291.02\" cy=\"87.9763\" r=\"14\" fill=\"#000000\" fill-rule=\"evenodd\" fill-opacity=\"1\" stroke=\"none\"/>\n",
       "</svg>\n"
      ]
     },
     "execution_count": 3,
     "metadata": {},
     "output_type": "execute_result"
    }
   ],
   "source": [
    "# Generate and plot a set of x,y pairs.\n",
    "xvals = repeat(1:0.5:10,inner=2)\n",
    "yvals = 3 .+ xvals .+ 2 .* rand(length(xvals)) .-1\n",
    "scatter(xvals,yvals,color=:black,leg=false)"
   ]
  },
  {
   "cell_type": "code",
   "execution_count": 4,
   "metadata": {},
   "outputs": [
    {
     "data": {
      "text/plain": [
       "find_best_fit (generic function with 1 method)"
      ]
     },
     "execution_count": 4,
     "metadata": {},
     "output_type": "execute_result"
    }
   ],
   "source": [
    "# function to find best fit\n",
    "function find_best_fit(xvals,yvals)\n",
    "    meanx = mean(xvals)\n",
    "    meany = mean(yvals)\n",
    "    stdx = std(xvals)\n",
    "    stdy = std(yvals)\n",
    "    r = cor(xvals,yvals)\n",
    "    a = r*stdy/stdx\n",
    "    b = meany - a*meanx\n",
    "    return a,b\n",
    "end"
   ]
  },
  {
   "cell_type": "code",
   "execution_count": 5,
   "metadata": {},
   "outputs": [
    {
     "data": {
      "text/plain": [
       "38-element Array{Float64,1}:\n",
       "  4.266549515819558\n",
       "  4.266549515819558\n",
       "  4.7433248899415545\n",
       "  4.7433248899415545\n",
       "  5.220100264063552\n",
       "  5.220100264063552\n",
       "  5.696875638185549\n",
       "  5.696875638185549\n",
       "  6.1736510123075465\n",
       "  6.1736510123075465\n",
       "  6.650426386429544\n",
       "  6.650426386429544\n",
       "  7.127201760551541\n",
       "  ⋮\n",
       " 10.464629379405523\n",
       " 10.464629379405523\n",
       " 10.941404753527518\n",
       " 10.941404753527518\n",
       " 11.418180127649517\n",
       " 11.418180127649517\n",
       " 11.894955501771513\n",
       " 11.894955501771513\n",
       " 12.371730875893512\n",
       " 12.371730875893512\n",
       " 12.848506250015507\n",
       " 12.848506250015507"
      ]
     },
     "execution_count": 5,
     "metadata": {},
     "output_type": "execute_result"
    }
   ],
   "source": [
    "# apply fitting function to pairs\n",
    "a,b = find_best_fit(xvals,yvals)\n",
    "ynew = a .* xvals .+ b"
   ]
  },
  {
   "cell_type": "code",
   "execution_count": 6,
   "metadata": {},
   "outputs": [
    {
     "data": {
      "text/plain": [
       "PyObject <module 'numpy' from '/Users/a.a.gonzalez.paje/.julia/conda/3/lib/python3.8/site-packages/numpy/__init__.py'>"
      ]
     },
     "execution_count": 6,
     "metadata": {},
     "output_type": "execute_result"
    }
   ],
   "source": [
    "np = pyimport(\"numpy\")"
   ]
  },
  {
   "cell_type": "code",
   "execution_count": null,
   "metadata": {},
   "outputs": [],
   "source": [
    "xdata = xvals\n",
    "ydata = yvals\n",
    "@time myfit = np.polyfit(xdata,ydata,1);\n",
    "ynew2 = collect(xdata) .* myfit[1] .+"
   ]
  },
  {
   "cell_type": "code",
   "execution_count": null,
   "metadata": {},
   "outputs": [],
   "source": []
  }
 ],
 "metadata": {
  "kernelspec": {
   "display_name": "Julia 1.5.0",
   "language": "julia",
   "name": "julia-1.5"
  },
  "language_info": {
   "file_extension": ".jl",
   "mimetype": "application/julia",
   "name": "julia",
   "version": "1.5.0"
  }
 },
 "nbformat": 4,
 "nbformat_minor": 2
}
