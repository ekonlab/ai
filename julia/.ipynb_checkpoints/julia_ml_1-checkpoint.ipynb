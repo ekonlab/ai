{
 "cells": [
  {
   "cell_type": "code",
   "execution_count": 46,
   "metadata": {},
   "outputs": [],
   "source": [
    "# Julia ML notebook one:\n",
    "# https://github.com/JuliaAcademy/DataScience"
   ]
  },
  {
   "cell_type": "markdown",
   "metadata": {},
   "source": [
    "## 1. Data"
   ]
  },
  {
   "cell_type": "code",
   "execution_count": 47,
   "metadata": {},
   "outputs": [],
   "source": [
    "using BenchmarkTools\n",
    "using DataFrames\n",
    "using DelimitedFiles\n",
    "using CSV\n",
    "using XLSX\n",
    "using Queryverse,VegaDatasets,IndexedTables"
   ]
  },
  {
   "cell_type": "code",
   "execution_count": 48,
   "metadata": {},
   "outputs": [
    {
     "data": {
      "text/plain": [
       "\"programminglanguages.csv\""
      ]
     },
     "execution_count": 48,
     "metadata": {},
     "output_type": "execute_result"
    }
   ],
   "source": [
    "# get some data\n",
    "P = download(\"https://raw.githubusercontent.com/nassarhuda/easy_data/master/programming_languages.csv\",\n",
    "    \"programminglanguages.csv\")"
   ]
  },
  {
   "cell_type": "code",
   "execution_count": 49,
   "metadata": {},
   "outputs": [],
   "source": [
    "P,H = readdlm(\"programminglanguages.csv\",',';header=true);"
   ]
  },
  {
   "cell_type": "code",
   "execution_count": 50,
   "metadata": {},
   "outputs": [
    {
     "data": {
      "text/plain": [
       "1×2 Array{AbstractString,2}:\n",
       " \"year\"  \"language\""
      ]
     },
     "execution_count": 50,
     "metadata": {},
     "output_type": "execute_result"
    }
   ],
   "source": [
    "H"
   ]
  },
  {
   "cell_type": "code",
   "execution_count": 51,
   "metadata": {},
   "outputs": [],
   "source": [
    "C = CSV.read(\"programminglanguages.csv\");"
   ]
  },
  {
   "cell_type": "code",
   "execution_count": 52,
   "metadata": {},
   "outputs": [
    {
     "data": {
      "text/html": [
       "<table class=\"data-frame\"><thead><tr><th></th><th>year</th><th>language</th></tr><tr><th></th><th>Int64</th><th>String</th></tr></thead><tbody><p>5 rows × 2 columns</p><tr><th>1</th><td>1951</td><td>Regional Assembly Language</td></tr><tr><th>2</th><td>1952</td><td>Autocode</td></tr><tr><th>3</th><td>1954</td><td>IPL</td></tr><tr><th>4</th><td>1955</td><td>FLOW-MATIC</td></tr><tr><th>5</th><td>1957</td><td>FORTRAN</td></tr></tbody></table>"
      ],
      "text/latex": [
       "\\begin{tabular}{r|cc}\n",
       "\t& year & language\\\\\n",
       "\t\\hline\n",
       "\t& Int64 & String\\\\\n",
       "\t\\hline\n",
       "\t1 & 1951 & Regional Assembly Language \\\\\n",
       "\t2 & 1952 & Autocode \\\\\n",
       "\t3 & 1954 & IPL \\\\\n",
       "\t4 & 1955 & FLOW-MATIC \\\\\n",
       "\t5 & 1957 & FORTRAN \\\\\n",
       "\\end{tabular}\n"
      ],
      "text/plain": [
       "5×2 DataFrame\n",
       "│ Row │ year  │ language                   │\n",
       "│     │ \u001b[90mInt64\u001b[39m │ \u001b[90mString\u001b[39m                     │\n",
       "├─────┼───────┼────────────────────────────┤\n",
       "│ 1   │ 1951  │ Regional Assembly Language │\n",
       "│ 2   │ 1952  │ Autocode                   │\n",
       "│ 3   │ 1954  │ IPL                        │\n",
       "│ 4   │ 1955  │ FLOW-MATIC                 │\n",
       "│ 5   │ 1957  │ FORTRAN                    │"
      ]
     },
     "execution_count": 52,
     "metadata": {},
     "output_type": "execute_result"
    }
   ],
   "source": [
    "C[1:5,:]"
   ]
  },
  {
   "cell_type": "code",
   "execution_count": 53,
   "metadata": {},
   "outputs": [
    {
     "data": {
      "text/plain": [
       "2-element Array{String,1}:\n",
       " \"year\"\n",
       " \"language\""
      ]
     },
     "execution_count": 53,
     "metadata": {},
     "output_type": "execute_result"
    }
   ],
   "source": [
    "names(C)"
   ]
  },
  {
   "cell_type": "code",
   "execution_count": 54,
   "metadata": {},
   "outputs": [
    {
     "data": {
      "text/html": [
       "<table class=\"data-frame\"><thead><tr><th></th><th>variable</th><th>mean</th><th>min</th><th>median</th><th>max</th><th>nunique</th><th>nmissing</th><th>eltype</th></tr><tr><th></th><th>Symbol</th><th>Union…</th><th>Any</th><th>Union…</th><th>Any</th><th>Union…</th><th>Nothing</th><th>DataType</th></tr></thead><tbody><p>2 rows × 8 columns</p><tr><th>1</th><td>year</td><td>1982.99</td><td>1951</td><td>1986.0</td><td>2014</td><td></td><td></td><td>Int64</td></tr><tr><th>2</th><td>language</td><td></td><td>ALGOL 58</td><td></td><td>dBase III</td><td>73</td><td></td><td>String</td></tr></tbody></table>"
      ],
      "text/latex": [
       "\\begin{tabular}{r|cccccccc}\n",
       "\t& variable & mean & min & median & max & nunique & nmissing & eltype\\\\\n",
       "\t\\hline\n",
       "\t& Symbol & Union… & Any & Union… & Any & Union… & Nothing & DataType\\\\\n",
       "\t\\hline\n",
       "\t1 & year & 1982.99 & 1951 & 1986.0 & 2014 &  &  & Int64 \\\\\n",
       "\t2 & language &  & ALGOL 58 &  & dBase III & 73 &  & String \\\\\n",
       "\\end{tabular}\n"
      ],
      "text/plain": [
       "2×8 DataFrame. Omitted printing of 2 columns\n",
       "│ Row │ variable │ mean    │ min      │ median │ max       │ nunique │\n",
       "│     │ \u001b[90mSymbol\u001b[39m   │ \u001b[90mUnion…\u001b[39m  │ \u001b[90mAny\u001b[39m      │ \u001b[90mUnion…\u001b[39m │ \u001b[90mAny\u001b[39m       │ \u001b[90mUnion…\u001b[39m  │\n",
       "├─────┼──────────┼─────────┼──────────┼────────┼───────────┼─────────┤\n",
       "│ 1   │ year     │ 1982.99 │ 1951     │ 1986.0 │ 2014      │         │\n",
       "│ 2   │ language │         │ ALGOL 58 │        │ dBase III │ 73      │"
      ]
     },
     "execution_count": 54,
     "metadata": {},
     "output_type": "execute_result"
    }
   ],
   "source": [
    "describe(C)"
   ]
  },
  {
   "cell_type": "markdown",
   "metadata": {},
   "source": [
    "## 4. Dimensionality Reduction"
   ]
  },
  {
   "cell_type": "code",
   "execution_count": 58,
   "metadata": {},
   "outputs": [
    {
     "name": "stderr",
     "output_type": "stream",
     "text": [
      "┌ Info: Precompiling Plots [91a5bcdd-55d7-5caf-9e0b-520d859cae80]\n",
      "└ @ Base loading.jl:1278\n",
      "┌ Info: Precompiling ScikitLearn [3646fa90-6ef7-5e7e-9f22-8aca16db6324]\n",
      "└ @ Base loading.jl:1278\n",
      "┌ Info: Precompiling MLBase [f0e99cf1-93fa-52ec-9ecc-5026115318e0]\n",
      "└ @ Base loading.jl:1278\n"
     ]
    }
   ],
   "source": [
    "using UMAP\n",
    "using Makie\n",
    "using XLSX\n",
    "using VegaDatasets\n",
    "using DataFrames\n",
    "using MultivariateStats\n",
    "using RDatasets\n",
    "using StatsBase\n",
    "using Statistics\n",
    "using LinearAlgebra\n",
    "using Plots\n",
    "using ScikitLearn\n",
    "using MLBase\n",
    "using Distances"
   ]
  },
  {
   "cell_type": "code",
   "execution_count": 60,
   "metadata": {},
   "outputs": [],
   "source": [
    "C = DataFrame(VegaDatasets.dataset(\"cars\"));"
   ]
  },
  {
   "cell_type": "code",
   "execution_count": 63,
   "metadata": {},
   "outputs": [
    {
     "data": {
      "text/plain": [
       "9-element Array{String,1}:\n",
       " \"Name\"\n",
       " \"Miles_per_Gallon\"\n",
       " \"Cylinders\"\n",
       " \"Displacement\"\n",
       " \"Horsepower\"\n",
       " \"Weight_in_lbs\"\n",
       " \"Acceleration\"\n",
       " \"Year\"\n",
       " \"Origin\""
      ]
     },
     "execution_count": 63,
     "metadata": {},
     "output_type": "execute_result"
    }
   ],
   "source": [
    "dropmissing!(C)\n",
    "M = Matrix(C[:2:7])\n",
    "names(C)"
   ]
  },
  {
   "cell_type": "code",
   "execution_count": 61,
   "metadata": {},
   "outputs": [
    {
     "data": {
      "text/html": [
       "<table class=\"data-frame\"><thead><tr><th></th><th>variable</th><th>mean</th><th>min</th><th>median</th><th>max</th><th>nunique</th></tr><tr><th></th><th>Symbol</th><th>Union…</th><th>Any</th><th>Union…</th><th>Any</th><th>Union…</th></tr></thead><tbody><p>9 rows × 8 columns (omitted printing of 2 columns)</p><tr><th>1</th><td>Name</td><td></td><td>amc ambassador brougham</td><td></td><td>vw rabbit custom</td><td>311</td></tr><tr><th>2</th><td>Miles_per_Gallon</td><td>23.5146</td><td>9.0</td><td>23.0</td><td>46.6</td><td></td></tr><tr><th>3</th><td>Cylinders</td><td>5.47537</td><td>3</td><td>4.0</td><td>8</td><td></td></tr><tr><th>4</th><td>Displacement</td><td>194.78</td><td>68.0</td><td>151.0</td><td>455.0</td><td></td></tr><tr><th>5</th><td>Horsepower</td><td>105.082</td><td>46</td><td>95.0</td><td>230</td><td></td></tr><tr><th>6</th><td>Weight_in_lbs</td><td>2979.41</td><td>1613</td><td>2822.5</td><td>5140</td><td></td></tr><tr><th>7</th><td>Acceleration</td><td>15.5197</td><td>8.0</td><td>15.5</td><td>24.8</td><td></td></tr><tr><th>8</th><td>Year</td><td></td><td>1970-01-01</td><td></td><td>1982-01-01</td><td>12</td></tr><tr><th>9</th><td>Origin</td><td></td><td>Europe</td><td></td><td>USA</td><td>3</td></tr></tbody></table>"
      ],
      "text/latex": [
       "\\begin{tabular}{r|ccccccc}\n",
       "\t& variable & mean & min & median & max & nunique & \\\\\n",
       "\t\\hline\n",
       "\t& Symbol & Union… & Any & Union… & Any & Union… & \\\\\n",
       "\t\\hline\n",
       "\t1 & Name &  & amc ambassador brougham &  & vw rabbit custom & 311 & $\\dots$ \\\\\n",
       "\t2 & Miles\\_per\\_Gallon & 23.5146 & 9.0 & 23.0 & 46.6 &  & $\\dots$ \\\\\n",
       "\t3 & Cylinders & 5.47537 & 3 & 4.0 & 8 &  & $\\dots$ \\\\\n",
       "\t4 & Displacement & 194.78 & 68.0 & 151.0 & 455.0 &  & $\\dots$ \\\\\n",
       "\t5 & Horsepower & 105.082 & 46 & 95.0 & 230 &  & $\\dots$ \\\\\n",
       "\t6 & Weight\\_in\\_lbs & 2979.41 & 1613 & 2822.5 & 5140 &  & $\\dots$ \\\\\n",
       "\t7 & Acceleration & 15.5197 & 8.0 & 15.5 & 24.8 &  & $\\dots$ \\\\\n",
       "\t8 & Year &  & 1970-01-01 &  & 1982-01-01 & 12 & $\\dots$ \\\\\n",
       "\t9 & Origin &  & Europe &  & USA & 3 & $\\dots$ \\\\\n",
       "\\end{tabular}\n"
      ],
      "text/plain": [
       "9×8 DataFrame. Omitted printing of 4 columns\n",
       "│ Row │ variable         │ mean    │ min                     │ median │\n",
       "│     │ \u001b[90mSymbol\u001b[39m           │ \u001b[90mUnion…\u001b[39m  │ \u001b[90mAny\u001b[39m                     │ \u001b[90mUnion…\u001b[39m │\n",
       "├─────┼──────────────────┼─────────┼─────────────────────────┼────────┤\n",
       "│ 1   │ Name             │         │ amc ambassador brougham │        │\n",
       "│ 2   │ Miles_per_Gallon │ 23.5146 │ 9.0                     │ 23.0   │\n",
       "│ 3   │ Cylinders        │ 5.47537 │ 3                       │ 4.0    │\n",
       "│ 4   │ Displacement     │ 194.78  │ 68.0                    │ 151.0  │\n",
       "│ 5   │ Horsepower       │ 105.082 │ 46                      │ 95.0   │\n",
       "│ 6   │ Weight_in_lbs    │ 2979.41 │ 1613                    │ 2822.5 │\n",
       "│ 7   │ Acceleration     │ 15.5197 │ 8.0                     │ 15.5   │\n",
       "│ 8   │ Year             │         │ 1970-01-01              │        │\n",
       "│ 9   │ Origin           │         │ Europe                  │        │"
      ]
     },
     "execution_count": 61,
     "metadata": {},
     "output_type": "execute_result"
    }
   ],
   "source": [
    "describe(C)"
   ]
  },
  {
   "cell_type": "code",
   "execution_count": 67,
   "metadata": {},
   "outputs": [],
   "source": [
    "car_origin = C[:,:Origin]\n",
    "carmap = labelmap(car_origin)\n",
    "uniqueids = labelencode(carmap,car_origin);"
   ]
  },
  {
   "cell_type": "code",
   "execution_count": null,
   "metadata": {},
   "outputs": [],
   "source": [
    "# PCA\n"
   ]
  }
 ],
 "metadata": {
  "kernelspec": {
   "display_name": "Julia 1.5.0",
   "language": "julia",
   "name": "julia-1.5"
  },
  "language_info": {
   "file_extension": ".jl",
   "mimetype": "application/julia",
   "name": "julia",
   "version": "1.5.0"
  }
 },
 "nbformat": 4,
 "nbformat_minor": 2
}
