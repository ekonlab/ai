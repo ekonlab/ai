{
 "cells": [
  {
   "cell_type": "code",
   "execution_count": 1,
   "metadata": {},
   "outputs": [
    {
     "name": "stdout",
     "output_type": "stream",
     "text": [
      "\u001b[?25l\u001b[2K"
     ]
    },
    {
     "name": "stderr",
     "output_type": "stream",
     "text": [
      "\u001b[32m\u001b[1m   Updating\u001b[22m\u001b[39m git-repo `https://github.com/JuliaComputing/JuliaAcademyData.jl`\n"
     ]
    },
    {
     "name": "stdout",
     "output_type": "stream",
     "text": [
      "\u001b[?25h"
     ]
    },
    {
     "name": "stderr",
     "output_type": "stream",
     "text": [
      "\u001b[32m\u001b[1m   Updating\u001b[22m\u001b[39m registry at `~/.julia/registries/General`\n",
      "######################################################################### 100.0%                       19.7%                                                24.1%\n",
      "\u001b[32m\u001b[1m  Resolving\u001b[22m\u001b[39m package versions...\n",
      "\u001b[32m\u001b[1mNo Changes\u001b[22m\u001b[39m to `~/Documents/GitHub/ai/julia/Deep learning with Flux/Project.toml`\n",
      "\u001b[32m\u001b[1mNo Changes\u001b[22m\u001b[39m to `~/Documents/GitHub/ai/julia/Deep learning with Flux/Manifest.toml`\n",
      "\u001b[32m\u001b[1m Activating\u001b[22m\u001b[39m environment at `~/.julia/packages/JuliaAcademyData/1to3l/courses/Deep learning with Flux/Project.toml`\n"
     ]
    }
   ],
   "source": [
    "import Pkg; Pkg.add(Pkg.PackageSpec(url=\"https://github.com/JuliaComputing/JuliaAcademyData.jl\"))\n",
    "using JuliaAcademyData; activate(\"Deep learning with Flux\")"
   ]
  },
  {
   "cell_type": "markdown",
   "metadata": {},
   "source": [
    "<br /><br />\n",
    "\n",
    "## Neural networks\n",
    "\n",
    "Now that we know what neurons are, we are ready for the final step: the neural network!. A neural network is literally made out of a network of neurons that are connected together.\n",
    "\n",
    "So far, we have just looked at single neurons, that only have a single output.\n",
    "What if we want multiple outputs?\n",
    "\n",
    "\n",
    "### Multiple output models\n",
    "\n",
    "What if we wanted to distinguish between apples, bananas, *and* grapes? We could use *vectors* of `0` or `1` values to symbolize each output.\n",
    "\n",
    "<img src=\"https://raw.githubusercontent.com/JuliaComputing/JuliaAcademyData.jl/master/courses/Deep%20learning%20with%20Flux/data/fruit-salad.png\" alt=\"Drawing\" style=\"width: 300px;\"/>\n",
    "\n",
    "The idea of using vectors is that different directions in the space of outputs encode information about different types of inputs."
   ]
  },
  {
   "cell_type": "markdown",
   "metadata": {},
   "source": [
    "Now we extend our previous model to give multiple outputs by repeating it with different weights. For the first element of the array we'd use:\n",
    "\n",
    "$$\\sigma(x;w^{(1)},b^{(1)}) := \\frac{1}{1 + \\exp(-w^{(1)} \\cdot x + b^{(1)})};$$\n",
    "\n",
    "then for the second we'd use\n",
    "\n",
    "$$\\sigma(x;w^{(2)},b^{(2)}) := \\frac{1}{1 + \\exp(-w^{(2)} \\cdot x + b^{(2)})};$$\n",
    "\n",
    "and if you wanted $n$ outputs, you'd have for each one\n",
    "\n",
    "$$\\sigma(x;w^{(i)},b^{(i)}) := \\frac{1}{1 + \\exp(-w^{(i)} \\cdot x + b^{(i)})}.$$"
   ]
  },
  {
   "cell_type": "markdown",
   "metadata": {},
   "source": [
    "Notice that these equations are all the same, except for the parameters, so we can write this model more succinctly, as follows. Let's write $b$ in an array:\n",
    "\n",
    "$$b=\\left[\\begin{array}{c}\n",
    "b_{1}\\\\\n",
    "b_{2}\\\\\n",
    "\\vdots\\\\\n",
    "b_{n}\n",
    "\\end{array}\\right]$$\n",
    "\n",
    "and put our array of weights as a matrix:\n",
    "\n",
    "$$ \\mathsf{W}=\\left[\\begin{array}{c}\n",
    "\\\\\n",
    "\\\\\n",
    "\\\\\n",
    "\\\\\n",
    "\\end{array}\\begin{array}{cccc}\n",
    "w_{1}^{(1)} & w_{2}^{(1)} & \\ldots & w_{n}^{(1)}\\\\\n",
    "w_{1}^{(2)} & w_{2}^{(2)} & \\ldots & w_{n}^{(2)}\\\\\n",
    "\\vdots & \\vdots &  & \\vdots\\\\\n",
    "w_{1}^{(n)} & w_{2}^{(n)} & \\ldots & w_{n}^{(n)}\n",
    "\\end{array}\\right]\n",
    "$$\n",
    "\n",
    "We can write this all in one line as:\n",
    "\n",
    "$$\\sigma(x;w,b)= \\left[\\begin{array}{c}\n",
    "\\sigma^{(1)}\\\\\n",
    "\\sigma^{(2)}\\\\\n",
    "\\vdots\\\\\n",
    "\\sigma^{(n)}\n",
    "\\end{array}\\right] = \\frac{1}{1 + \\exp(-\\mathsf{W} x + b)}$$\n",
    "\n",
    "$\\mathsf{W} x$ is the operation called \"matrix multiplication\"\n",
    "\n",
    "[Show small matrix multiplication]"
   ]
  },
  {
   "cell_type": "code",
   "execution_count": 2,
   "metadata": {},
   "outputs": [
    {
     "data": {
      "text/plain": [
       "3-element Array{Int64,1}:\n",
       " 32\n",
       " 64\n",
       " 96"
      ]
     },
     "execution_count": 2,
     "metadata": {},
     "output_type": "execute_result"
    }
   ],
   "source": [
    "W = [10 1;\n",
    "     20 2;\n",
    "     30 3]\n",
    "x = [3;\n",
    "     2]\n",
    "W*x"
   ]
  },
  {
   "cell_type": "markdown",
   "metadata": {},
   "source": [
    "It takes each column of weights and does the dot product against $x$ (remember, that's how $\\sigma^{(i)}$ was defined) and spits out a vector from doing that with each column. The result is a vector, which makes this version of the function give a vector of outputs which we can use to encode larger set of choices.\n",
    "\n",
    "Matrix multiplication is also interesting since **GPUs (Graphics Processing Units, i.e. graphics cards) are basically just matrix multiplication machines**, which means that by writing the equation this way, the result can be calculated really fast."
   ]
  },
  {
   "cell_type": "markdown",
   "metadata": {},
   "source": [
    "This \"multiple input and multiple output\" version of the sigmoid function is known as a *layer of neurons*.\n",
    "\n",
    "Previously we worked with a single neuron, which we visualized as\n",
    "\n",
    "<img src=\"https://raw.githubusercontent.com/JuliaComputing/JuliaAcademyData.jl/master/courses/Deep%20learning%20with%20Flux/data/single-neuron.png\" alt=\"Drawing\" style=\"width: 300px;\"/>\n",
    "\n",
    "where we have two pieces of data (green) coming into a single neuron (pink) that returned a single output. We could use this single output to do binary classification - to identify an image of a fruit as `1`, meaning banana or as `0`, meaning not a banana (or an apple).\n",
    "\n",
    "To do non-binary classification, we can use a layer of neurons, which we can visualize as\n",
    "\n",
    "<img src=\"https://raw.githubusercontent.com/JuliaComputing/JuliaAcademyData.jl/master/courses/Deep%20learning%20with%20Flux/data/single-layer.png\" alt=\"Drawing\" style=\"width: 300px;\"/>\n",
    "\n",
    "We now have stacked a bunch of neurons on top of each other to hopefully work together and train to output results of more complicated features.\n",
    "\n",
    "We still have two input pieces of data, but now have several neurons, each of which produces an output for a given binary classification:\n",
    "* neuron 1: \"is it an apple?\"\n",
    "* neuron 2: \"is it a banana?\"\n",
    "* neuron 3: \"is it a grape?\""
   ]
  },
  {
   "cell_type": "markdown",
   "metadata": {},
   "source": [
    "# Multiple outputs with Flux.jl"
   ]
  },
  {
   "cell_type": "markdown",
   "metadata": {},
   "source": [
    "First step: load the data."
   ]
  },
  {
   "cell_type": "code",
   "execution_count": 6,
   "metadata": {},
   "outputs": [
    {
     "ename": "LoadError",
     "evalue": "MethodError: Cannot `convert` an object of type Bool to an object of type String\nClosest candidates are:\n  convert(::Type{String}, !Matched::FilePathsBase.AbstractPath) at /Users/a.a.gonzalez.paje/.julia/packages/FilePathsBase/Oyg1p/src/path.jl:83\n  convert(::Type{String}, !Matched::WeakRefStrings.WeakRefString) at /Users/a.a.gonzalez.paje/.julia/packages/WeakRefStrings/lqf5B/src/WeakRefStrings.jl:79\n  convert(::Type{String}, !Matched::Union{CategoricalString{R}, CategoricalValue{T,R} where T} where R) at /Users/a.a.gonzalez.paje/.julia/packages/CategoricalArrays/dmrjI/src/value.jl:94\n  ...",
     "output_type": "error",
     "traceback": [
      "MethodError: Cannot `convert` an object of type Bool to an object of type String\nClosest candidates are:\n  convert(::Type{String}, !Matched::FilePathsBase.AbstractPath) at /Users/a.a.gonzalez.paje/.julia/packages/FilePathsBase/Oyg1p/src/path.jl:83\n  convert(::Type{String}, !Matched::WeakRefStrings.WeakRefString) at /Users/a.a.gonzalez.paje/.julia/packages/WeakRefStrings/lqf5B/src/WeakRefStrings.jl:79\n  convert(::Type{String}, !Matched::Union{CategoricalString{R}, CategoricalValue{T,R} where T} where R) at /Users/a.a.gonzalez.paje/.julia/packages/CategoricalArrays/dmrjI/src/value.jl:94\n  ...",
      "",
      "Stacktrace:",
      " [1] push!(::Array{String,1}, ::Bool) at ./array.jl:934",
      " [2] Parsers.Options(::Missing, ::UInt8, ::UInt8, ::UInt8, ::UInt8, ::UInt8, ::UInt8, ::UInt8, ::Nothing, ::Nothing, ::Nothing, ::Bool, ::Bool, ::Bool, ::Bool, ::Bool, ::Bool, ::Bool) at /Users/a.a.gonzalez.paje/.julia/packages/Parsers/2MBHI/src/Parsers.jl:99",
      " [3] Parsers.Options(::Missing, ::UInt8, ::UInt8, ::UInt8, ::UInt8, ::UInt8, ::UInt8, ::UInt8, ::Nothing, ::Nothing, ::Nothing, ::Bool, ::Bool, ::Bool, ::Bool, ::Bool) at /Users/a.a.gonzalez.paje/.julia/packages/Parsers/2MBHI/src/Parsers.jl:62",
      " [4] file(::String, ::Int64, ::Bool, ::Int64, ::Nothing, ::Int64, ::Int64, ::Bool, ::Nothing, ::Bool, ::Bool, ::Array{String,1}, ::String, ::Char, ::Bool, ::Char, ::Nothing, ::Nothing, ::Char, ::Nothing, ::UInt8, ::Nothing, ::Nothing, ::Nothing, ::Nothing, ::Dict{Int8,Int8}, ::Bool, ::Float64, ::Bool, ::Bool, ::Nothing, ::Bool, ::Bool, ::Nothing) at /Users/a.a.gonzalez.paje/.julia/packages/CSV/1IQPk/src/CSV.jl:381",
      " [5] CSV.File(::String; header::Int64, normalizenames::Bool, datarow::Int64, skipto::Nothing, footerskip::Int64, limit::Int64, transpose::Bool, comment::Nothing, use_mmap::Bool, ignoreemptylines::Bool, missingstrings::Array{String,1}, missingstring::String, delim::Char, ignorerepeated::Bool, quotechar::Char, openquotechar::Nothing, closequotechar::Nothing, escapechar::Char, dateformat::Nothing, decimal::UInt8, truestrings::Nothing, falsestrings::Nothing, type::Nothing, types::Nothing, typemap::Dict{Int8,Int8}, categorical::Bool, pool::Float64, strict::Bool, silencewarnings::Bool, threaded::Nothing, debug::Bool, parsingdebug::Bool, allowmissing::Nothing) at /Users/a.a.gonzalez.paje/.julia/packages/CSV/1IQPk/src/CSV.jl:260",
      " [6] top-level scope at In[6]:3",
      " [7] include_string(::Function, ::Module, ::String, ::String) at ./loading.jl:1091"
     ]
    }
   ],
   "source": [
    "using CSV, DataFrames, Flux, Plots\n",
    "# Load apple data in CSV.read for each file\n",
    "apples1 = DataFrame(CSV.File(datapath(\"data/Apple_Golden_1.dat\"), delim='\\t', normalizenames=true))\n",
    "#apples2 = DataFrame(CSV.File(datapath(\"data/Apple_Golden_2.dat\"), delim='\\t', normalizenames=true))\n",
    "#apples3 = DataFrame(CSV.File(datapath(\"data/Apple_Golden_3.dat\"), delim='\\t', normalizenames=true))\n",
    "# And then concatenate them all together\n",
    "#apples = vcat(apples1, apples2, apples3)\n",
    "#bananas = DataFrame(CSV.File(datapath(\"data/Banana.dat\"), delim='\\t', normalizenames=true))\n",
    "#grapes1 = DataFrame(CSV.File(datapath(\"data/Grape_White.dat\"), delim='\\t', normalizenames=true))\n",
    "#grapes2 = DataFrame(CSV.File(datapath(\"data/Grape_White_2.dat\"), delim='\\t', normalizenames=true))\n",
    "#grapes = vcat(grapes1, grapes2)"
   ]
  },
  {
   "cell_type": "code",
   "execution_count": null,
   "metadata": {},
   "outputs": [],
   "source": [
    "# Extract out the features and construct the corresponding labels\n",
    "x_apples  = [ [apples[i, :red], apples[i, :blue]] for i in 1:size(apples, 1) ]\n",
    "x_bananas  = [ [bananas[i, :red], bananas[i, :blue]] for i in 1:size(bananas, 1) ]\n",
    "x_grapes = [ [grapes[i, :red], grapes[i, :blue]] for i in 1:size(grapes, 1) ]\n",
    "xs = vcat(x_apples, x_bananas, x_grapes)\n",
    "ys = vcat(fill([1,0,0], size(x_apples)),\n",
    "          fill([0,1,0], size(x_bananas)),\n",
    "          fill([0,0,1], size(x_grapes)))\n",
    "# ### One-hot vectors\n",
    "# Recall:\n",
    "#\n",
    "# <img src=\"https://raw.githubusercontent.com/JuliaComputing/JuliaAcademyData.jl/master/courses/Deep%20learning%20with%20Flux/data/fruit-salad.png\" alt=\"Drawing\" style=\"width: 300px;\"/>\n",
    "# `Flux.jl` provides an efficient representation for one-hot vectors, using advanced features of Julia so that it does not actually store these vectors, which would be a waste of memory; instead `Flux` just records in which position the non-zero element is. To us, however, it looks like all the information is being stored:\n",
    "using Flux: onehot\n",
    "\n",
    "onehot(2, 1:3)"
   ]
  },
  {
   "cell_type": "code",
   "execution_count": null,
   "metadata": {},
   "outputs": [],
   "source": [
    "ys = vcat(fill(onehot(1, 1:3), size(x_apples)),\n",
    "          fill(onehot(2, 1:3), size(x_bananas)),\n",
    "          fill(onehot(3, 1:3), size(x_grapes)))\n",
    "# ## The core algorithm from the previous lecture\n",
    "# model = Dense(2, 1, σ)\n",
    "# L(x,y) = Flux.mse(model(x), y)\n",
    "# opt = SGD(params(model))\n",
    "# Flux.train!(L, zip(xs, ys), opt)"
   ]
  },
  {
   "cell_type": "markdown",
   "metadata": {},
   "source": [
    "### Visualization"
   ]
  },
  {
   "cell_type": "code",
   "execution_count": null,
   "metadata": {},
   "outputs": [],
   "source": [
    "using Plots\n",
    "plot()\n",
    "\n",
    "contour!(0:0.01:1, 0:0.01:1, (x,y)->model([x,y]).data[1], levels=[0.5, 0.51], color = cgrad([:blue, :blue]))\n",
    "contour!(0:0.01:1, 0:0.01:1, (x,y)->model([x,y]).data[2], levels=[0.5,0.51], color = cgrad([:green, :green]))\n",
    "contour!(0:0.01:1, 0:0.01:1, (x,y)->model([x,y]).data[3], levels=[0.5,0.51], color = cgrad([:red, :red]))\n",
    "\n",
    "scatter!(first.(x_apples), last.(x_apples), m=:cross, label=\"apples\", color = :blue)\n",
    "scatter!(first.(x_bananas), last.(x_bananas), m=:circle, label=\"bananas\", color = :green)\n",
    "scatter!(first.(x_grapes), last.(x_grapes), m=:square, label=\"grapes\", color = :red)"
   ]
  }
 ],
 "metadata": {
  "kernelspec": {
   "display_name": "Julia 1.5.2",
   "language": "julia",
   "name": "julia-1.5"
  },
  "language_info": {
   "file_extension": ".jl",
   "mimetype": "application/julia",
   "name": "julia",
   "version": "1.5.2"
  }
 },
 "nbformat": 4,
 "nbformat_minor": 3
}
