{
 "cells": [
  {
   "cell_type": "code",
   "execution_count": null,
   "metadata": {},
   "outputs": [
    {
     "name": "stdout",
     "output_type": "stream",
     "text": [
      "\u001b[?25l\u001b[2K"
     ]
    },
    {
     "name": "stderr",
     "output_type": "stream",
     "text": [
      "\u001b[32m\u001b[1m   Updating\u001b[22m\u001b[39m git-repo `https://github.com/JuliaComputing/JuliaAcademyData.jl`\n"
     ]
    },
    {
     "name": "stdout",
     "output_type": "stream",
     "text": [
      "\u001b[?25h"
     ]
    },
    {
     "name": "stderr",
     "output_type": "stream",
     "text": [
      "\u001b[32m\u001b[1m   Updating\u001b[22m\u001b[39m registry at `~/.julia/registries/General`\n",
      "######################################################################### 100.0%\n",
      "\u001b[32m\u001b[1m  Resolving\u001b[22m\u001b[39m package versions...\n",
      "\u001b[32m\u001b[1m  Installed\u001b[22m\u001b[39m UnPack ──────────────────── v1.0.2\n",
      "\u001b[32m\u001b[1m  Installed\u001b[22m\u001b[39m Plots ───────────────────── v0.29.9\n",
      "\u001b[32m\u001b[1m  Installed\u001b[22m\u001b[39m AbstractTrees ───────────── v0.3.3\n",
      "\u001b[32m\u001b[1m  Installed\u001b[22m\u001b[39m ImageCore ───────────────── v0.8.20\n",
      "\u001b[32m\u001b[1m  Installed\u001b[22m\u001b[39m DataFrames ──────────────── v0.20.2\n",
      "\u001b[32m\u001b[1m  Installed\u001b[22m\u001b[39m ImageMagick ─────────────── v1.1.3\n",
      "\u001b[32m\u001b[1m  Installed\u001b[22m\u001b[39m ZygoteRules ─────────────── v0.2.1\n",
      "\u001b[32m\u001b[1m  Installed\u001b[22m\u001b[39m MosaicViews ─────────────── v0.2.4\n",
      "\u001b[32m\u001b[1m  Installed\u001b[22m\u001b[39m ArrayLayouts ────────────── v0.3.8\n",
      "\u001b[32m\u001b[1m  Installed\u001b[22m\u001b[39m ZipFile ─────────────────── v0.9.3\n",
      "\u001b[32m\u001b[1m  Installed\u001b[22m\u001b[39m ImageQualityIndexes ─────── v0.1.4\n",
      "\u001b[32m\u001b[1m  Installed\u001b[22m\u001b[39m Flux ────────────────────── v0.10.3\n",
      "\u001b[32m\u001b[1m  Installed\u001b[22m\u001b[39m TiledIteration ──────────── v0.2.5\n",
      "\u001b[32m\u001b[1m  Installed\u001b[22m\u001b[39m FFMPEG ──────────────────── v0.3.0\n",
      "\u001b[32m\u001b[1m  Installed\u001b[22m\u001b[39m DiffRules ───────────────── v1.0.2\n",
      "\u001b[32m\u001b[1m  Installed\u001b[22m\u001b[39m ImageDistances ──────────── v0.2.9\n",
      "\u001b[32m\u001b[1m  Installed\u001b[22m\u001b[39m Parameters ──────────────── v0.12.1\n",
      "\u001b[32m\u001b[1m  Installed\u001b[22m\u001b[39m IntelOpenMP_jll ─────────── v2018.0.3+0\n",
      "\u001b[32m\u001b[1m  Installed\u001b[22m\u001b[39m Images ──────────────────── v0.22.0\n",
      "\u001b[32m\u001b[1m  Installed\u001b[22m\u001b[39m Ratios ──────────────────── v0.4.0\n",
      "\u001b[32m\u001b[1m  Installed\u001b[22m\u001b[39m PaddedViews ─────────────── v0.5.7\n",
      "\u001b[32m\u001b[1m  Installed\u001b[22m\u001b[39m DiffResults ─────────────── v1.0.3\n",
      "\u001b[32m\u001b[1m  Installed\u001b[22m\u001b[39m Colors ──────────────────── v0.11.2\n",
      "\u001b[32m\u001b[1m  Installed\u001b[22m\u001b[39m CSV ─────────────────────── v0.6.0\n",
      "\u001b[32m\u001b[1m  Installed\u001b[22m\u001b[39m StatsBase ───────────────── v0.32.2\n",
      "\u001b[32m\u001b[1m  Installed\u001b[22m\u001b[39m SimpleTraits ────────────── v0.9.3\n",
      "\u001b[32m\u001b[1m  Installed\u001b[22m\u001b[39m ImageMorphology ─────────── v0.2.9\n",
      "\u001b[32m\u001b[1m  Installed\u001b[22m\u001b[39m FillArrays ──────────────── v0.8.14\n",
      "\u001b[32m\u001b[1m  Installed\u001b[22m\u001b[39m ColorVectorSpace ────────── v0.8.7\n",
      "\u001b[32m\u001b[1m  Installed\u001b[22m\u001b[39m ComputationalResources ──── v0.3.2\n",
      "\u001b[32m\u001b[1m  Installed\u001b[22m\u001b[39m StaticArrays ────────────── v0.12.5\n",
      "\u001b[32m\u001b[1m  Installed\u001b[22m\u001b[39m LLVM ────────────────────── v1.7.0\n",
      "\u001b[32m\u001b[1m  Installed\u001b[22m\u001b[39m CUDAapi ─────────────────── v3.1.0\n",
      "\u001b[32m\u001b[1m  Installed\u001b[22m\u001b[39m ImageAxes ───────────────── v0.6.8\n",
      "\u001b[32m\u001b[1m  Installed\u001b[22m\u001b[39m RecipesBase ─────────────── v0.8.0\n",
      "\u001b[32m\u001b[1m  Installed\u001b[22m\u001b[39m PlotUtils ───────────────── v0.6.5\n",
      "\u001b[32m\u001b[1m  Installed\u001b[22m\u001b[39m FFTW ────────────────────── v1.3.0\n",
      "\u001b[32m\u001b[1m  Installed\u001b[22m\u001b[39m IRTools ─────────────────── v0.4.2\n",
      "\u001b[32m\u001b[1m  Installed\u001b[22m\u001b[39m Zygote ──────────────────── v0.4.22\n",
      "\u001b[32m\u001b[1m  Installed\u001b[22m\u001b[39m PlotThemes ──────────────── v1.0.3\n",
      "\u001b[32m\u001b[1m  Installed\u001b[22m\u001b[39m Juno ────────────────────── v0.8.4\n",
      "\u001b[32m\u001b[1m  Installed\u001b[22m\u001b[39m DataStructures ──────────── v0.17.20\n",
      "\u001b[32m\u001b[1m  Installed\u001b[22m\u001b[39m GR ──────────────────────── v0.48.0\n",
      "\u001b[32m\u001b[1m  Installed\u001b[22m\u001b[39m ChainRulesCore ──────────── v0.8.1\n",
      "\u001b[32m\u001b[1m  Installed\u001b[22m\u001b[39m CUDAnative ──────────────── v2.10.2\n",
      "\u001b[32m\u001b[1m  Installed\u001b[22m\u001b[39m Interpolations ──────────── v0.13.1\n",
      "\u001b[32m\u001b[1m  Installed\u001b[22m\u001b[39m IntervalSets ────────────── v0.5.2\n",
      "\u001b[32m\u001b[1m  Installed\u001b[22m\u001b[39m ImageTransformations ────── v0.8.8\n",
      "\u001b[32m\u001b[1m  Installed\u001b[22m\u001b[39m Graphics ────────────────── v1.0.2\n",
      "\u001b[32m\u001b[1m  Installed\u001b[22m\u001b[39m Rotations ───────────────── v1.0.2\n",
      "\u001b[32m\u001b[1m  Installed\u001b[22m\u001b[39m BinaryProvider ──────────── v0.5.10\n",
      "\u001b[32m\u001b[1m  Installed\u001b[22m\u001b[39m GeometryTypes ───────────── v0.8.4\n",
      "\u001b[32m\u001b[1m  Installed\u001b[22m\u001b[39m MKL_jll ─────────────────── v2020.2.254+0\n",
      "\u001b[32m\u001b[1m  Installed\u001b[22m\u001b[39m ImageMetadata ───────────── v0.9.4\n",
      "\u001b[32m\u001b[1m  Installed\u001b[22m\u001b[39m CoordinateTransformations ─ v0.6.1\n",
      "\u001b[32m\u001b[1m  Installed\u001b[22m\u001b[39m ForwardDiff ─────────────── v0.10.14\n",
      "\u001b[32m\u001b[1m  Installed\u001b[22m\u001b[39m CUDAdrv ─────────────────── v6.0.0\n",
      "\u001b[32m\u001b[1m  Installed\u001b[22m\u001b[39m JLLWrappers ─────────────── v1.1.4\n",
      "\u001b[32m\u001b[1m  Installed\u001b[22m\u001b[39m CuArrays ────────────────── v1.7.3\n",
      "\u001b[32m\u001b[1m  Installed\u001b[22m\u001b[39m ImageMagick_jll ─────────── v6.9.10-12+3\n",
      "\u001b[32m\u001b[1m  Installed\u001b[22m\u001b[39m FixedPointNumbers ───────── v0.7.1\n",
      "\u001b[32m\u001b[1m  Installed\u001b[22m\u001b[39m WoodburyMatrices ────────── v0.5.3\n",
      "\u001b[32m\u001b[1m  Installed\u001b[22m\u001b[39m Distances ───────────────── v0.10.0\n",
      "\u001b[32m\u001b[1m  Installed\u001b[22m\u001b[39m SpecialFunctions ────────── v1.1.0\n",
      "\u001b[32m\u001b[1m  Installed\u001b[22m\u001b[39m NNlib ───────────────────── v0.6.6\n",
      "\u001b[32m\u001b[1m  Installed\u001b[22m\u001b[39m ImageContrastAdjustment ─── v0.3.6\n",
      "\u001b[32m\u001b[1m  Installed\u001b[22m\u001b[39m ImageFiltering ──────────── v0.6.18\n",
      "\u001b[32m\u001b[1m  Installed\u001b[22m\u001b[39m Adapt ───────────────────── v1.1.0\n",
      "\u001b[32m\u001b[1m  Installed\u001b[22m\u001b[39m ChainRules ──────────────── v0.6.5\n",
      "\u001b[32m\u001b[1m  Installed\u001b[22m\u001b[39m FFTW_jll ────────────────── v3.3.9+7\n",
      "\u001b[32m\u001b[1m  Installed\u001b[22m\u001b[39m EllipsisNotation ────────── v1.0.0\n",
      "\u001b[32m\u001b[1m  Installed\u001b[22m\u001b[39m TimerOutputs ────────────── v0.5.7\n",
      "\u001b[32m\u001b[1m  Installed\u001b[22m\u001b[39m AxisArrays ──────────────── v0.4.3\n",
      "\u001b[32m\u001b[1m  Installed\u001b[22m\u001b[39m ColorTypes ──────────────── v0.9.1\n",
      "\u001b[32m\u001b[1m  Installed\u001b[22m\u001b[39m CommonSubexpressions ────── v0.3.0\n",
      "\u001b[32m\u001b[1m  Installed\u001b[22m\u001b[39m OffsetArrays ────────────── v1.3.1\n",
      "\u001b[32m\u001b[1mUpdating\u001b[22m\u001b[39m `~/Documents/GitHub/ai/julia/Deep learning with Flux/Project.toml`\n",
      " \u001b[90m [18b7da76] \u001b[39m\u001b[93m~ JuliaAcademyData v0.1.0 `https://github.com/JuliaComputing/JuliaAcademyData.jl.git#master` ⇒ v0.1.0 `https://github.com/JuliaComputing/JuliaAcademyData.jl#master`\u001b[39m\n",
      "\u001b[32m\u001b[1mUpdating\u001b[22m\u001b[39m `~/Documents/GitHub/ai/julia/Deep learning with Flux/Manifest.toml`\n",
      " \u001b[90m [1520ce14] \u001b[39m\u001b[93m↑ AbstractTrees v0.3.2 ⇒ v0.3.3\u001b[39m\n",
      " \u001b[90m [79e6a3ab] \u001b[39m\u001b[93m↑ Adapt v1.0.1 ⇒ v1.1.0\u001b[39m\n",
      " \u001b[90m [4c555306] \u001b[39m\u001b[93m↑ ArrayLayouts v0.2.1 ⇒ v0.3.8\u001b[39m\n",
      " \u001b[90m [56f22d72] \u001b[39m\u001b[92m+ Artifacts v1.3.0\u001b[39m\n",
      " \u001b[90m [39de3d68] \u001b[39m\u001b[93m↑ AxisArrays v0.4.2 ⇒ v0.4.3\u001b[39m\n",
      " \u001b[90m [b99e7846] \u001b[39m\u001b[95m↓ BinaryProvider v0.5.91 ⇒ v0.5.10\u001b[39m\n",
      " \u001b[90m [6e34b625] \u001b[39m\u001b[93m↑ Bzip2_jll v1.0.6+2 ⇒ v1.0.6+5\u001b[39m\n",
      " \u001b[90m [082447d4] \u001b[39m\u001b[92m+ ChainRules v0.6.5\u001b[39m\n",
      " \u001b[90m [d360d2e6] \u001b[39m\u001b[92m+ ChainRulesCore v0.8.1\u001b[39m\n",
      " \u001b[90m [c3611d14] \u001b[39m\u001b[93m↑ ColorVectorSpace v0.8.4 ⇒ v0.8.7\u001b[39m\n",
      " \u001b[90m [bbf7d656] \u001b[39m\u001b[93m↑ CommonSubexpressions v0.2.0 ⇒ v0.3.0\u001b[39m\n",
      " \u001b[90m [34da2185] \u001b[39m\u001b[93m↑ Compat v3.8.0 ⇒ v3.25.0\u001b[39m\n",
      " \u001b[90m [e66e0078] \u001b[39m\u001b[93m↑ CompilerSupportLibraries_jll v0.3.3+0 ⇒ v0.3.4+0\u001b[39m\n",
      " \u001b[90m [d38c429a] \u001b[39m\u001b[93m↑ Contour v0.5.2 ⇒ v0.5.7\u001b[39m\n",
      " \u001b[90m [150eb455] \u001b[39m\u001b[93m↑ CoordinateTransformations v0.5.1 ⇒ v0.6.1\u001b[39m\n",
      " \u001b[90m [9a962f9c] \u001b[39m\u001b[93m↑ DataAPI v1.1.0 ⇒ v1.4.0\u001b[39m\n",
      " \u001b[90m [864edb3b] \u001b[39m\u001b[93m↑ DataStructures v0.17.11 ⇒ v0.17.20\u001b[39m\n",
      " \u001b[90m [163ba53b] \u001b[39m\u001b[93m↑ DiffResults v1.0.2 ⇒ v1.0.3\u001b[39m\n",
      " \u001b[90m [b552c78f] \u001b[39m\u001b[93m↑ DiffRules v1.0.1 ⇒ v1.0.2\u001b[39m\n",
      " \u001b[90m [b4f34e82] \u001b[39m\u001b[93m↑ Distances v0.8.2 ⇒ v0.10.0\u001b[39m\n",
      " \u001b[90m [da5c29d0] \u001b[39m\u001b[93m↑ EllipsisNotation v0.4.0 ⇒ v1.0.0\u001b[39m\n",
      " \u001b[90m [b22a6f82] \u001b[39m\u001b[93m↑ FFMPEG_jll v4.1.0+2 ⇒ v4.3.1+4\u001b[39m\n",
      " \u001b[90m [7a1cc6ca] \u001b[39m\u001b[93m↑ FFTW v1.2.0 ⇒ v1.3.0\u001b[39m\n",
      " \u001b[90m [f5851436] \u001b[39m\u001b[93m↑ FFTW_jll v3.3.9+5 ⇒ v3.3.9+7\u001b[39m\n",
      " \u001b[90m [5789e2e9] \u001b[39m\u001b[93m↑ FileIO v1.2.4 ⇒ v1.4.5\u001b[39m\n",
      " \u001b[90m [1a297f60] \u001b[39m\u001b[93m↑ FillArrays v0.8.6 ⇒ v0.8.14\u001b[39m\n",
      " \u001b[90m [f6369f11] \u001b[39m\u001b[93m↑ ForwardDiff v0.10.10 ⇒ v0.10.14\u001b[39m\n",
      " \u001b[90m [d7e528f0] \u001b[39m\u001b[93m↑ FreeType2_jll v2.10.1+2 ⇒ v2.10.1+5\u001b[39m\n",
      " \u001b[90m [559328eb] \u001b[39m\u001b[93m↑ FriBidi_jll v1.0.5+2 ⇒ v1.0.5+6\u001b[39m\n",
      " \u001b[90m [28b8d3ca] \u001b[39m\u001b[93m↑ GR v0.46.90 ⇒ v0.48.0\u001b[39m\n",
      " \u001b[90m [4d00f742] \u001b[39m\u001b[93m↑ GeometryTypes v0.8.2 ⇒ v0.8.4\u001b[39m\n",
      " \u001b[90m [42e2da0e] \u001b[39m\u001b[92m+ Grisu v1.0.0\u001b[39m\n",
      " \u001b[90m [7869d1d1] \u001b[39m\u001b[93m↑ IRTools v0.3.1 ⇒ v0.4.2\u001b[39m\n",
      " \u001b[90m [2803e5a7] \u001b[39m\u001b[93m↑ ImageAxes v0.6.4 ⇒ v0.6.8\u001b[39m\n",
      " \u001b[90m [f332f351] \u001b[39m\u001b[93m↑ ImageContrastAdjustment v0.3.5 ⇒ v0.3.6\u001b[39m\n",
      " \u001b[90m [a09fc81d] \u001b[39m\u001b[93m↑ ImageCore v0.8.12 ⇒ v0.8.20\u001b[39m\n",
      " \u001b[90m [51556ac3] \u001b[39m\u001b[93m↑ ImageDistances v0.2.7 ⇒ v0.2.9\u001b[39m\n",
      " \u001b[90m [6a3955dd] \u001b[39m\u001b[93m↑ ImageFiltering v0.6.11 ⇒ v0.6.18\u001b[39m\n",
      " \u001b[90m [c73af94c] \u001b[39m\u001b[93m↑ ImageMagick_jll v6.9.10-12+1 ⇒ v6.9.10-12+3\u001b[39m\n",
      " \u001b[90m [bc367c6b] \u001b[39m\u001b[93m↑ ImageMetadata v0.9.0 ⇒ v0.9.4\u001b[39m\n",
      " \u001b[90m [787d08f9] \u001b[39m\u001b[93m↑ ImageMorphology v0.2.5 ⇒ v0.2.9\u001b[39m\n",
      " \u001b[90m [02fcd773] \u001b[39m\u001b[93m↑ ImageTransformations v0.8.4 ⇒ v0.8.8\u001b[39m\n",
      " \u001b[90m [a98d9a8b] \u001b[39m\u001b[93m↑ Interpolations v0.12.9 ⇒ v0.13.1\u001b[39m\n",
      " \u001b[90m [8197267c] \u001b[39m\u001b[93m↑ IntervalSets v0.4.0 ⇒ v0.5.2\u001b[39m\n",
      " \u001b[90m [692b3bcd] \u001b[39m\u001b[92m+ JLLWrappers v1.1.4\u001b[39m\n",
      " \u001b[90m [682c06a0] \u001b[39m\u001b[93m↑ JSON v0.21.0 ⇒ v0.21.1\u001b[39m\n",
      " \u001b[90m [aacddb02] \u001b[39m\u001b[93m↑ JpegTurbo_jll v2.0.1+0 ⇒ v2.0.1+3\u001b[39m\n",
      " \u001b[90m [18b7da76] \u001b[39m\u001b[93m~ JuliaAcademyData v0.1.0 `https://github.com/JuliaComputing/JuliaAcademyData.jl.git#master` ⇒ v0.1.0 `https://github.com/JuliaComputing/JuliaAcademyData.jl#master`\u001b[39m\n",
      " \u001b[90m [e5e0dc1b] \u001b[39m\u001b[93m↑ Juno v0.8.1 ⇒ v0.8.4\u001b[39m\n",
      " \u001b[90m [c1c5ebd0] \u001b[39m\u001b[93m↑ LAME_jll v3.100.0+0 ⇒ v3.100.0+3\u001b[39m\n",
      " \u001b[90m [929cbde3] \u001b[39m\u001b[93m↑ LLVM v1.3.4 ⇒ v1.7.0\u001b[39m\n",
      " \u001b[90m [dd192d2f] \u001b[39m\u001b[93m↑ LibVPX_jll v1.8.1+1 ⇒ v1.9.0+1\u001b[39m\n",
      " \u001b[90m [89763e89] \u001b[39m\u001b[93m↑ Libtiff_jll v4.0.10+0 ⇒ v4.1.0+2\u001b[39m\n",
      " \u001b[90m [856f044c] \u001b[39m\u001b[93m↑ MKL_jll v2019.0.117+2 ⇒ v2020.2.254+0\u001b[39m\n",
      " \u001b[90m [1914dd2f] \u001b[39m\u001b[93m↑ MacroTools v0.5.5 ⇒ v0.5.6\u001b[39m\n",
      " \u001b[90m [e1d29d7a] \u001b[39m\u001b[93m↑ Missings v0.4.3 ⇒ v0.4.4\u001b[39m\n",
      " \u001b[90m [e94cdb99] \u001b[39m\u001b[92m+ MosaicViews v0.2.4\u001b[39m\n",
      " \u001b[90m [46d2c3a1] \u001b[39m\u001b[92m+ MuladdMacro v0.2.2\u001b[39m\n",
      " \u001b[90m [77ba4419] \u001b[39m\u001b[93m↑ NaNMath v0.3.3 ⇒ v0.3.5\u001b[39m\n",
      " \u001b[90m [6fe1bfb0] \u001b[39m\u001b[93m↑ OffsetArrays v1.0.4 ⇒ v1.3.1\u001b[39m\n",
      " \u001b[90m [e7412a2a] \u001b[39m\u001b[93m↑ Ogg_jll v1.3.3+0 ⇒ v1.3.4+2\u001b[39m\n",
      " \u001b[90m [458c3c95] \u001b[39m\u001b[93m↑ OpenSSL_jll v1.1.1+2 ⇒ v1.1.1+6\u001b[39m\n",
      " \u001b[90m [efe28fd5] \u001b[39m\u001b[93m↑ OpenSpecFun_jll v0.5.3+3 ⇒ v0.5.3+4\u001b[39m\n",
      " \u001b[90m [91d4177d] \u001b[39m\u001b[93m↑ Opus_jll v1.3.1+0 ⇒ v1.3.1+3\u001b[39m\n",
      " \u001b[90m [bac558e1] \u001b[39m\u001b[93m↑ OrderedCollections v1.1.0 ⇒ v1.3.2\u001b[39m\n",
      " \u001b[90m [5432bcbf] \u001b[39m\u001b[93m↑ PaddedViews v0.5.4 ⇒ v0.5.7\u001b[39m\n",
      " \u001b[90m [d96e819e] \u001b[39m\u001b[93m↑ Parameters v0.12.0 ⇒ v0.12.1\u001b[39m\n",
      " \u001b[90m [69de0a69] \u001b[39m\u001b[93m↑ Parsers v1.0.1 ⇒ v1.0.15\u001b[39m\n",
      " \u001b[90m [ccf2f8ad] \u001b[39m\u001b[93m↑ PlotThemes v1.0.2 ⇒ v1.0.3\u001b[39m\n",
      " \u001b[90m [ae029012] \u001b[39m\u001b[93m↑ Requires v1.0.1 ⇒ v1.1.2\u001b[39m\n",
      " \u001b[90m [6038ab10] \u001b[39m\u001b[93m↑ Rotations v0.13.0 ⇒ v1.0.2\u001b[39m\n",
      " \u001b[90m [992d4aef] \u001b[39m\u001b[93m↑ Showoff v0.3.1 ⇒ v0.3.2\u001b[39m\n",
      " \u001b[90m [699a6c99] \u001b[39m\u001b[93m↑ SimpleTraits v0.9.1 ⇒ v0.9.3\u001b[39m\n",
      " \u001b[90m [276daf66] \u001b[39m\u001b[93m↑ SpecialFunctions v0.10.0 ⇒ v1.1.0\u001b[39m\n",
      " \u001b[90m [90137ffa] \u001b[39m\u001b[93m↑ StaticArrays v0.12.1 ⇒ v0.12.5\u001b[39m\n",
      " \u001b[90m [bd369af6] \u001b[39m\u001b[93m↑ Tables v1.0.3 ⇒ v1.2.2\u001b[39m\n",
      " \u001b[90m [06e1c1a7] \u001b[39m\u001b[93m↑ TiledIteration v0.2.4 ⇒ v0.2.5\u001b[39m\n",
      " \u001b[90m [a759f4b9] \u001b[39m\u001b[93m↑ TimerOutputs v0.5.3 ⇒ v0.5.7\u001b[39m\n",
      " \u001b[90m [3a884ed6] \u001b[39m\u001b[92m+ UnPack v1.0.2\u001b[39m\n",
      " \u001b[90m [efce3f68] \u001b[39m\u001b[93m↑ WoodburyMatrices v0.5.2 ⇒ v0.5.3\u001b[39m\n",
      " \u001b[90m [a5390f91] \u001b[39m\u001b[93m↑ ZipFile v0.9.1 ⇒ v0.9.3\u001b[39m\n",
      " \u001b[90m [83775a58] \u001b[39m\u001b[93m↑ Zlib_jll v1.2.11+9 ⇒ v1.2.11+18\u001b[39m\n",
      " \u001b[90m [3161d3a3] \u001b[39m\u001b[93m↑ Zstd_jll v1.4.4+0 ⇒ v1.4.5+2\u001b[39m\n",
      " \u001b[90m [e88e6eb3] \u001b[39m\u001b[93m↑ Zygote v0.4.15 ⇒ v0.4.22\u001b[39m\n",
      " \u001b[90m [700de1a5] \u001b[39m\u001b[93m↑ ZygoteRules v0.2.0 ⇒ v0.2.1\u001b[39m\n",
      " \u001b[90m [0ac62f75] \u001b[39m\u001b[93m↑ libass_jll v0.14.0+0 ⇒ v0.14.0+4\u001b[39m\n",
      " \u001b[90m [f638f0a6] \u001b[39m\u001b[93m↑ libfdk_aac_jll v0.1.6+1 ⇒ v0.1.6+4\u001b[39m\n",
      " \u001b[90m [b53b4c65] \u001b[39m\u001b[93m↑ libpng_jll v1.6.37+3 ⇒ v1.6.37+6\u001b[39m\n",
      " \u001b[90m [f27f6e37] \u001b[39m\u001b[93m↑ libvorbis_jll v1.3.6+2 ⇒ v1.3.6+6\u001b[39m\n",
      " \u001b[90m [1270edf5] \u001b[39m\u001b[93m↑ x264_jll v2019.5.25+1 ⇒ v2020.7.14+2\u001b[39m\n",
      " \u001b[90m [dfaa095f] \u001b[39m\u001b[93m↑ x265_jll v3.0.0+0 ⇒ v3.0.0+3\u001b[39m\n"
     ]
    },
    {
     "name": "stderr",
     "output_type": "stream",
     "text": [
      "\u001b[32m\u001b[1m   Building\u001b[22m\u001b[39m GR ───→ `~/.julia/packages/GR/yMV3y/deps/build.log`\n"
     ]
    }
   ],
   "source": [
    "import Pkg; Pkg.add(Pkg.PackageSpec(url=\"https://github.com/JuliaComputing/JuliaAcademyData.jl\"))\n",
    "using JuliaAcademyData; activate(\"Deep learning with Flux\")"
   ]
  },
  {
   "cell_type": "markdown",
   "metadata": {},
   "source": [
    "<br/>\n",
    "\n",
    "# Intro to Flux.jl"
   ]
  },
  {
   "cell_type": "markdown",
   "metadata": {},
   "source": [
    "In the previous course, we learned how machine learning allows us to classify data as apples or bananas with a single neuron. However, some of those details are pretty fiddly! Fortunately, Julia has a powerful package that does much of the heavy lifting for us, called [`Flux.jl`](https://fluxml.github.io/).\n",
    "\n",
    "*Using `Flux` will make classifying data and images much easier!*"
   ]
  },
  {
   "cell_type": "markdown",
   "metadata": {},
   "source": [
    "## Using `Flux.jl`\n",
    "\n",
    "We can get started with `Flux.jl` via:"
   ]
  },
  {
   "cell_type": "code",
   "execution_count": null,
   "metadata": {},
   "outputs": [],
   "source": [
    "# using Pkg; Pkg.add([\"Flux\", \"Plots\"])\n",
    "using Flux, Plots"
   ]
  },
  {
   "cell_type": "markdown",
   "metadata": {},
   "source": [
    "#### Helpful built-in functions\n",
    "\n",
    "When working we'll `Flux`, we'll make use of built-in functionality that we've had to create for ourselves in previous notebooks.\n",
    "\n",
    "For example, the sigmoid function, σ, that we have been using already lives within `Flux`:"
   ]
  },
  {
   "cell_type": "code",
   "execution_count": null,
   "metadata": {},
   "outputs": [],
   "source": [
    "?σ"
   ]
  },
  {
   "cell_type": "code",
   "execution_count": null,
   "metadata": {},
   "outputs": [],
   "source": [
    "plot(σ, -5, 5, label=\"\\\\sigma\", xlabel=\"x\", ylabel=\"\\\\sigma\\\\(x\\\\)\")"
   ]
  },
  {
   "cell_type": "markdown",
   "metadata": {},
   "source": [
    "Importantly, `Flux` allows us to *automatically create neurons* with the **`Dense`** function. For example, in the last notebook, we were looking at a neuron with 2 inputs and 1 output:\n",
    "\n",
    " <img src=\"https://raw.githubusercontent.com/JuliaComputing/JuliaAcademyData.jl/master/courses/Deep%20learning%20with%20Flux/data/single-neuron.png\" alt=\"Drawing\" style=\"width: 500px;\"/>\n",
    "\n",
    " We could create a neuron with two inputs and one output via"
   ]
  },
  {
   "cell_type": "code",
   "execution_count": null,
   "metadata": {},
   "outputs": [],
   "source": [
    "model = Dense(2, 1, σ)"
   ]
  },
  {
   "cell_type": "markdown",
   "metadata": {},
   "source": [
    "This `model` object comes with places to store weights and biases:"
   ]
  },
  {
   "cell_type": "code",
   "execution_count": null,
   "metadata": {},
   "outputs": [],
   "source": [
    "model.W"
   ]
  },
  {
   "cell_type": "code",
   "execution_count": null,
   "metadata": {},
   "outputs": [],
   "source": [
    "model.b"
   ]
  },
  {
   "cell_type": "code",
   "execution_count": null,
   "metadata": {},
   "outputs": [],
   "source": [
    "typeof(model.W)"
   ]
  },
  {
   "cell_type": "code",
   "execution_count": null,
   "metadata": {},
   "outputs": [],
   "source": [
    "x = rand(2)\n",
    "model(x)"
   ]
  },
  {
   "cell_type": "code",
   "execution_count": null,
   "metadata": {},
   "outputs": [],
   "source": [
    "σ.(model.W*x + model.b)"
   ]
  },
  {
   "cell_type": "markdown",
   "metadata": {},
   "source": [
    "Unlike in previous notebooks, note that `W` is no longer a `Vector` (1D `Array`) and `b` is no longer a number! Both are now stored in so-called `TrackedArray`s and `W` is effectively being treated as a matrix with a single row. We'll see why below."
   ]
  },
  {
   "cell_type": "markdown",
   "metadata": {},
   "source": [
    "Other helpful built-in functionality includes ways to automatically calculate gradients and also the cost function that we've used in the previous course -\n",
    "\n",
    "$$L(w, b) = \\sum_i \\left[y_i - f(x_i, w, b) \\right]^2$$\n",
    "\n",
    "If you normalize by dividing by the total number of elements, this becomes the \"mean square error\" function, which in `Flux` is named **`Flux.mse`**."
   ]
  },
  {
   "cell_type": "code",
   "execution_count": null,
   "metadata": {},
   "outputs": [],
   "source": [
    "methods(Flux.mse)"
   ]
  },
  {
   "cell_type": "markdown",
   "metadata": {},
   "source": [
    "### Bringing it all together\n",
    "\n",
    "Load the datasets that contain the features of the apple and banana images."
   ]
  },
  {
   "cell_type": "code",
   "execution_count": null,
   "metadata": {},
   "outputs": [],
   "source": [
    "using CSV, DataFrames\n",
    "\n",
    "apples = DataFrame(CSV.File(datapath(\"data/apples.dat\"), delim='\\t', allowmissing=:none, normalizenames=true))\n",
    "bananas = DataFrame(CSV.File(datapath(\"data/bananas.dat\"), delim='\\t', allowmissing=:none, normalizenames=true));"
   ]
  },
  {
   "cell_type": "code",
   "execution_count": null,
   "metadata": {},
   "outputs": [],
   "source": [
    "x_apples  = [ [row.red, row.green] for row in eachrow(apples)]\n",
    "x_bananas = [ [row.red, row.green] for row in eachrow(bananas)];"
   ]
  },
  {
   "cell_type": "markdown",
   "metadata": {},
   "source": [
    "Concatenate the x (features) together to create a vector of all our datapoints, and create the corresponding vector of known labels:"
   ]
  },
  {
   "cell_type": "code",
   "execution_count": null,
   "metadata": {},
   "outputs": [],
   "source": [
    "xs = [x_apples; x_bananas]\n",
    "ys = [fill(0, size(x_apples)); fill(1, size(x_bananas))];"
   ]
  },
  {
   "cell_type": "code",
   "execution_count": null,
   "metadata": {},
   "outputs": [],
   "source": [
    "model = Dense(2, 1, σ)"
   ]
  },
  {
   "cell_type": "markdown",
   "metadata": {},
   "source": [
    "We can evaluate the model (currently initialized with random weights) to see what the output value is for a given input:"
   ]
  },
  {
   "cell_type": "code",
   "execution_count": null,
   "metadata": {},
   "outputs": [],
   "source": [
    "model(xs[1])"
   ]
  },
  {
   "cell_type": "markdown",
   "metadata": {},
   "source": [
    "And of course we can examine the current loss value for that datapoint:"
   ]
  },
  {
   "cell_type": "code",
   "execution_count": null,
   "metadata": {},
   "outputs": [],
   "source": [
    "loss = Flux.mse(model(xs[1]), ys[1])"
   ]
  },
  {
   "cell_type": "code",
   "execution_count": null,
   "metadata": {},
   "outputs": [],
   "source": [
    "typeof(loss)"
   ]
  },
  {
   "cell_type": "markdown",
   "metadata": {},
   "source": [
    "### Backpropagation"
   ]
  },
  {
   "cell_type": "code",
   "execution_count": null,
   "metadata": {},
   "outputs": [],
   "source": [
    "model.W"
   ]
  },
  {
   "cell_type": "code",
   "execution_count": null,
   "metadata": {},
   "outputs": [],
   "source": [
    "model.W.grad"
   ]
  },
  {
   "cell_type": "code",
   "execution_count": null,
   "metadata": {},
   "outputs": [],
   "source": [
    "using Flux.Tracker\n",
    "back!(loss)"
   ]
  },
  {
   "cell_type": "code",
   "execution_count": null,
   "metadata": {},
   "outputs": [],
   "source": [
    "model.W.grad"
   ]
  },
  {
   "cell_type": "markdown",
   "metadata": {},
   "source": [
    "Now we have all the tools necessary to build a simple gradient descent algorithm!"
   ]
  },
  {
   "cell_type": "markdown",
   "metadata": {},
   "source": [
    "### The easy way\n",
    "\n",
    "You don't want to manually write out gradient descent algorithms every time! Flux, of course, also brings in lots of optimizers that can do this all for you."
   ]
  },
  {
   "cell_type": "code",
   "execution_count": null,
   "metadata": {},
   "outputs": [],
   "source": [
    "?SGD"
   ]
  },
  {
   "cell_type": "code",
   "execution_count": null,
   "metadata": {},
   "outputs": [],
   "source": [
    "?Flux.train!"
   ]
  },
  {
   "cell_type": "markdown",
   "metadata": {},
   "source": [
    "So we can simply define our loss function, an optimizer, and then call `train!`. That's basic machine learning with Flux.jl."
   ]
  },
  {
   "cell_type": "code",
   "execution_count": null,
   "metadata": {},
   "outputs": [],
   "source": [
    "model = Dense(2, 1, σ)\n",
    "L(x,y) = Flux.mse(model(x), y)\n",
    "opt = SGD(params(model))\n",
    "Flux.train!(L, zip(xs, ys), opt)"
   ]
  },
  {
   "cell_type": "markdown",
   "metadata": {},
   "source": [
    "## Visualize the result"
   ]
  },
  {
   "cell_type": "code",
   "execution_count": null,
   "metadata": {},
   "outputs": [],
   "source": [
    "contour(0:.1:1, 0:.1:1, (x, y) -> model([x,y])[].data, fill=true)\n",
    "scatter!(first.(x_apples), last.(x_apples), label=\"apples\")\n",
    "scatter!(first.(x_bananas), last.(x_bananas), label=\"bananas\")\n",
    "xlabel!(\"mean red value\")\n",
    "ylabel!(\"mean green value\")"
   ]
  }
 ],
 "metadata": {
  "kernelspec": {
   "display_name": "Julia 1.5.2",
   "language": "julia",
   "name": "julia-1.5"
  },
  "language_info": {
   "file_extension": ".jl",
   "mimetype": "application/julia",
   "name": "julia",
   "version": "1.0.3"
  }
 },
 "nbformat": 4,
 "nbformat_minor": 3
}
