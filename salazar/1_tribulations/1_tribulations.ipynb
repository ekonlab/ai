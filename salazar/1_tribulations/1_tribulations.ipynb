{
 "metadata": {
  "language_info": {
   "codemirror_mode": {
    "name": "ipython",
    "version": 3
   },
   "file_extension": ".py",
   "mimetype": "text/x-python",
   "name": "python",
   "nbconvert_exporter": "python",
   "pygments_lexer": "ipython3",
   "version": "3.7.7-final"
  },
  "orig_nbformat": 2,
  "kernelspec": {
   "name": "python3",
   "display_name": "Python 3"
  }
 },
 "nbformat": 4,
 "nbformat_minor": 2,
 "cells": [
  {
   "cell_type": "code",
   "execution_count": 2,
   "metadata": {},
   "outputs": [],
   "source": [
    "# Notes on tribulations"
   ]
  },
  {
   "cell_type": "markdown",
   "metadata": {},
   "source": [
    "nutshell, data\n",
    "science can be understood as the extraction of knowledge\n",
    "and insight from various sources of data, and the skills Data science skills range from\n",
    "programming to design, and from\n",
    "mathematics to storytelling. required to achieve this range from programming to design,\n",
    "and from mathematics to storytelling."
   ]
  },
  {
   "cell_type": "markdown",
   "metadata": {},
   "source": [
    "Typical examples of data science products are better Some examples of data science\n",
    "outputs make it easier to clarify\n",
    "what the discipline does. This list\n",
    "is by no means exhaustive.\n",
    "\n",
    "explained by the questions they aim to answer; these\n",
    "questions are the drivers to the acquisition and selection of\n",
    "the appropriate data to be interrogated in order to provide\n",
    "insight into an area of interest."
   ]
  },
  {
   "cell_type": "markdown",
   "metadata": {},
   "source": [
    "What product will sell better in conjunction with another Market basket analysis\n",
    "popular product?\n",
    "Who will be declared Prime Minister in the next general election? . Predictive analytics\n",
    "How can customers be encouraged to spend a longer E-commerce\n",
    "time in an online portal?\n",
    "Are there any discernible patterns that allow us to\n",
    "\n",
    "Clustering analysis and market\n",
    "segmentation\n",
    "What advertisement should be placed on what site?\n",
    "Given the interests of a customer, what other products Recommendation systems\n",
    "can be recommended to them?\n",
    "• What are the latest developments and breakout reports in Social media analysis\n",
    "newspapers and social media that may affect the industry\n",
    "of interest?\n",
    "• Given someone’s interests and hobbies, who may be Online services\n",
    "suitable potential partners?\n",
    "• How can we keep potentially sensitive information Cybersecurity\n",
    "protected and react proactively to information we store?\n",
    "• How can we distinguish valid, relevant documents such Classification analysis\n",
    "as emails (ham), from invalid, irrelevant ones (spam)?\n",
    "• How to determine if a retail transaction is valid or not? Fraud prevention\n",
    "• What is the demand for a particular service at a Demand forecasting\n",
    "particular time or place?\n",
    "\n",
    "These are not questions that decision-makers,\n",
    "\n"
   ]
  },
  {
   "cell_type": "code",
   "execution_count": null,
   "metadata": {},
   "outputs": [],
   "source": []
  },
  {
   "cell_type": "code",
   "execution_count": null,
   "metadata": {},
   "outputs": [],
   "source": []
  }
 ]
}