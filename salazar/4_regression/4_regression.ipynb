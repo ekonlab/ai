{
 "metadata": {
  "language_info": {
   "codemirror_mode": {
    "name": "ipython",
    "version": 3
   },
   "file_extension": ".py",
   "mimetype": "text/x-python",
   "name": "python",
   "nbconvert_exporter": "python",
   "pygments_lexer": "ipython3",
   "version": "3.7.7-final"
  },
  "orig_nbformat": 2,
  "kernelspec": {
   "name": "python3",
   "display_name": "Python 3"
  }
 },
 "nbformat": 4,
 "nbformat_minor": 2,
 "cells": [
  {
   "cell_type": "markdown",
   "metadata": {},
   "source": [
    "# Regression"
   ]
  },
  {
   "cell_type": "markdown",
   "metadata": {},
   "source": [
    "Regression analysis is one of the most widely used\n",
    "tools in statistical analysis. Most of us may have come\n",
    "across it at some point either by employing it or interpreting\n",
    "it. It is a powerful technique due to both its ease of calculation and simplicity of assumptions. However, it is\n",
    "due to these attributes that sometimes regression is\n",
    "misapplied or misinterpreted."
   ]
  },
  {
   "cell_type": "markdown",
   "metadata": {},
   "source": [
    "## 4.1 Relationships between Variables: Regression"
   ]
  },
  {
   "cell_type": "markdown",
   "metadata": {},
   "source": [
    "Consider a situation where you are interested to\n",
    "determine the association between two (or more) pieces of information; say for example the relation of the height of a\n",
    "child compared to that of her parents, or ice cream sales and\n",
    "temperature, or even the body mass of an animal and the mass of its brain. Ultimately,\n",
    "our goal is to use our model to predict the outcome of the\n",
    "variable of interest given the values of the other variable(s).\n",
    "We usually call the quantity of interest the response or\n",
    "dependent variable and denote it with the variable y quantities are called predictors, explanatory or\n",
    "independent variables and denote them as x. Intuitively, we know that two quantities are correlated if there is a\n",
    "relationship between the two variables, i.e. the value of one\n",
    "tells us something about the value of the other one."
   ]
  },
  {
   "cell_type": "markdown",
   "metadata": {},
   "source": [
    "In a correlation analysis we estimate a value bounded\n",
    "between\n",
    "1 and 1 and we call it the correlation coefficient.\n",
    "This coefficient tells us the strength of the linear association between the two variables. If the two quantities vary in\n",
    "tandem (if one increases/decreases, the other one does too)\n",
    "the correlation coefficient is positive, whereas it is negative\n",
    "when the two quantities vary out of sync. It is important to remember that the correlation coefficient measures the strength of linear relationship between the\n",
    "variables and therefore a value of zero does not mean that\n",
    "there is no relationship at all. It simply indicates that there\n",
    "is no linear relation between the variables in question.\n",
    "Just because we measure a correlation between two variables, it does not\n",
    "mean that there is a causal relationship between them."
   ]
  },
  {
   "cell_type": "markdown",
   "metadata": {},
   "source": [
    "Back to our subject of interest, Galton pioneered the\n",
    "application of statistical methods to many of his scientific\n",
    "interests. For instance, he indeed was interested in the\n",
    "relative size/height of children and their parents(both inanimals and plants). Among his observations he noticed\n",
    "that a tall parent is likely to have a child that is taller than\n",
    "average. However, the child is likely to be less tall than the\n",
    "parent. Similarly, a parent that is shorter than average\n",
    "would have children taller than the parent, but still below\n",
    "the average. In other words, the difference in height\n",
    "between parent and offspring is proportional to the parent’s deviation from the typical population. He described this by\n",
    "saying that the height of the offspring regresses towards a\n",
    "mediocre point.\n",
    "All in all, regression is thus the mean value of a response\n",
    "variable as a function of one or more explanatory variables."
   ]
  },
  {
   "cell_type": "markdown",
   "metadata": {},
   "source": [
    "Linear Regression"
   ]
  },
  {
   "cell_type": "markdown",
   "metadata": {
    "tags": []
   },
   "source": [
    "![alt text](images/linear_regression.png \"Title\")"
   ]
  },
  {
   "cell_type": "markdown",
   "metadata": {},
   "source": [
    "where b0 is the intercept of the line, b1 is the slope of the  line, and e denotes a vector of random deviations or\n",
    "residuals assumed to be independent and identically\n",
    "normally distributed. We refer to b0 and b1 as the\n",
    "regression coefficients. The intercept is the point where\n",
    "the line crosses the y-axis."
   ]
  },
  {
   "cell_type": "markdown",
   "metadata": {},
   "source": [
    "## 4.2 Multivariate Linear Regression"
   ]
  },
  {
   "cell_type": "markdown",
   "metadata": {},
   "source": [
    "We can extend the model to\n",
    "include many more variables, for example let us consider N\n",
    "observations on the response yi with i = 1, 2, 3, . . . , N; and\n",
    "with M regressors xj with j = 1, 2, 3, . . . , M. The multivariate linear regression is written as:"
   ]
  },
  {
   "cell_type": "markdown",
   "metadata": {},
   "source": [
    "![alt text](images/multivariate_linear_regression.png \"Title\")"
   ]
  },
  {
   "cell_type": "markdown",
   "metadata": {},
   "source": [
    "## 4.4 Brain and Body: Regression with One Variable"
   ]
  },
  {
   "cell_type": "code",
   "execution_count": 38,
   "metadata": {
    "tags": []
   },
   "outputs": [
    {
     "output_type": "stream",
     "name": "stdout",
     "text": "Populating the interactive namespace from numpy and matplotlib\n"
    },
    {
     "output_type": "execute_result",
     "data": {
      "text/plain": "RendererRegistry.enable('default')"
     },
     "metadata": {},
     "execution_count": 38
    }
   ],
   "source": [
    "%pylab inline\n",
    "import numpy as np\n",
    "import matplotlib.pyplot as plt\n",
    "import pandas as pd\n",
    "import altair as alt\n",
    "alt.renderers.enable('default')"
   ]
  },
  {
   "cell_type": "code",
   "execution_count": 39,
   "metadata": {},
   "outputs": [],
   "source": [
    "mammals = pd.read_csv(\"Data/mammals.csv\")"
   ]
  },
  {
   "cell_type": "code",
   "execution_count": 40,
   "metadata": {},
   "outputs": [
    {
     "output_type": "execute_result",
     "data": {
      "application/vnd.vegalite.v3+json": {
       "config": {
        "view": {
         "width": 400,
         "height": 300
        },
        "mark": {
         "tooltip": null
        }
       },
       "data": {
        "name": "data-187b9928ef86aee215add4af865d2faa"
       },
       "mark": {
        "type": "circle",
        "size": 60
       },
       "encoding": {
        "x": {
         "type": "quantitative",
         "field": "body"
        },
        "y": {
         "type": "quantitative",
         "field": "brain"
        }
       },
       "selection": {
        "selector004": {
         "type": "interval",
         "bind": "scales",
         "encodings": [
          "x",
          "y"
         ]
        }
       },
       "$schema": "https://vega.github.io/schema/vega-lite/v3.4.0.json",
       "datasets": {
        "data-187b9928ef86aee215add4af865d2faa": [
         {
          "Mammal": "Arctic fox",
          "body": 3.385,
          "brain": 44.5
         },
         {
          "Mammal": "Owl monkey",
          "body": 0.48,
          "brain": 15.5
         },
         {
          "Mammal": "Mountain beaver",
          "body": 1.35,
          "brain": 8.1
         },
         {
          "Mammal": "Cow",
          "body": 465,
          "brain": 423
         },
         {
          "Mammal": "Grey wolf",
          "body": 36.33,
          "brain": 119.5
         },
         {
          "Mammal": "Goat",
          "body": 27.66,
          "brain": 115
         },
         {
          "Mammal": "Roe deer",
          "body": 14.83,
          "brain": 98.2
         },
         {
          "Mammal": "Guinea pig",
          "body": 1.04,
          "brain": 5.5
         },
         {
          "Mammal": "Verbet",
          "body": 4.19,
          "brain": 58
         },
         {
          "Mammal": "Chinchilla",
          "body": 0.425,
          "brain": 6.4
         },
         {
          "Mammal": "Ground squirrel",
          "body": 0.10099999999999999,
          "brain": 4
         },
         {
          "Mammal": "Arctic ground squirrel",
          "body": 0.92,
          "brain": 5.7
         },
         {
          "Mammal": "African giant pouched rat",
          "body": 1,
          "brain": 6.6
         },
         {
          "Mammal": "Lesser short-tailed shrew",
          "body": 0.005,
          "brain": 0.14
         },
         {
          "Mammal": "Star-nosed mole",
          "body": 0.06,
          "brain": 1
         },
         {
          "Mammal": "Nine-banded armadillo",
          "body": 3.5,
          "brain": 10.8
         },
         {
          "Mammal": "Tree hyrax",
          "body": 2,
          "brain": 12.3
         },
         {
          "Mammal": "N.A. opossum",
          "body": 1.7,
          "brain": 6.3
         },
         {
          "Mammal": "Asian elephant",
          "body": 2547,
          "brain": 4603
         },
         {
          "Mammal": "Big brown bat",
          "body": 0.023,
          "brain": 0.3
         },
         {
          "Mammal": "Donkey",
          "body": 187.1,
          "brain": 419
         },
         {
          "Mammal": "Horse",
          "body": 521,
          "brain": 655
         },
         {
          "Mammal": "European hedgehog",
          "body": 0.785,
          "brain": 3.5
         },
         {
          "Mammal": "Patas monkey",
          "body": 10,
          "brain": 115
         },
         {
          "Mammal": "Cat",
          "body": 3.3,
          "brain": 25.6
         },
         {
          "Mammal": "Galago",
          "body": 0.2,
          "brain": 5
         },
         {
          "Mammal": "Genet",
          "body": 1.41,
          "brain": 17.5
         },
         {
          "Mammal": "Giraffe",
          "body": 529,
          "brain": 680
         },
         {
          "Mammal": "Gorilla",
          "body": 207,
          "brain": 406
         },
         {
          "Mammal": "Grey seal",
          "body": 85,
          "brain": 325
         },
         {
          "Mammal": "Rock hyrax-a",
          "body": 0.75,
          "brain": 12.3
         },
         {
          "Mammal": "Human",
          "body": 62,
          "brain": 1320
         },
         {
          "Mammal": "African elephant",
          "body": 6654,
          "brain": 5712
         },
         {
          "Mammal": "Water opossum",
          "body": 3.5,
          "brain": 3.9
         },
         {
          "Mammal": "Rhesus monkey",
          "body": 6.8,
          "brain": 179
         },
         {
          "Mammal": "Kangaroo",
          "body": 35,
          "brain": 56
         },
         {
          "Mammal": "Yellow-bellied marmot",
          "body": 4.05,
          "brain": 17
         },
         {
          "Mammal": "Golden hamster",
          "body": 0.12,
          "brain": 1
         },
         {
          "Mammal": "Mouse",
          "body": 0.023,
          "brain": 0.4
         },
         {
          "Mammal": "Little brown bat",
          "body": 0.01,
          "brain": 0.25
         },
         {
          "Mammal": "Slow loris",
          "body": 1.4,
          "brain": 12.5
         },
         {
          "Mammal": "Okapi",
          "body": 250,
          "brain": 490
         },
         {
          "Mammal": "Rabbit",
          "body": 2.5,
          "brain": 12.1
         },
         {
          "Mammal": "Sheep",
          "body": 55.5,
          "brain": 175
         },
         {
          "Mammal": "Jaguar",
          "body": 100,
          "brain": 157
         },
         {
          "Mammal": "Chimpanzee",
          "body": 52.16,
          "brain": 440
         },
         {
          "Mammal": "Baboon",
          "body": 10.55,
          "brain": 179.5
         },
         {
          "Mammal": "Desert hedgehog",
          "body": 0.55,
          "brain": 2.4
         },
         {
          "Mammal": "Giant armadillo",
          "body": 60,
          "brain": 81
         },
         {
          "Mammal": "Rock hyrax-b",
          "body": 3.6,
          "brain": 21
         },
         {
          "Mammal": "Raccoon",
          "body": 4.288,
          "brain": 39.2
         },
         {
          "Mammal": "Rat",
          "body": 0.28,
          "brain": 1.9
         },
         {
          "Mammal": "E. American mole",
          "body": 0.075,
          "brain": 1.2
         },
         {
          "Mammal": "Mole rat",
          "body": 0.122,
          "brain": 3
         },
         {
          "Mammal": "Musk shrew",
          "body": 0.048,
          "brain": 0.33
         },
         {
          "Mammal": "Pig",
          "body": 192,
          "brain": 180
         },
         {
          "Mammal": "Echidna",
          "body": 3,
          "brain": 25
         },
         {
          "Mammal": "Brazilian tapir",
          "body": 160,
          "brain": 169
         },
         {
          "Mammal": "Tenrec",
          "body": 0.9,
          "brain": 2.6
         },
         {
          "Mammal": "Phalanger",
          "body": 1.62,
          "brain": 11.4
         },
         {
          "Mammal": "Tree shrew",
          "body": 0.10400000000000001,
          "brain": 2.5
         },
         {
          "Mammal": "Red fox",
          "body": 4.235,
          "brain": 50.4
         }
        ]
       }
      },
      "text/plain": "<VegaLite 3 object>\n\nIf you see this message, it means the renderer has not been properly enabled\nfor the frontend that you are using. For more information, see\nhttps://altair-viz.github.io/user_guide/troubleshooting.html\n"
     },
     "metadata": {},
     "execution_count": 40
    }
   ],
   "source": [
    "alt.Chart(mammals).mark_circle(size=60).encode(\n",
    "    x='body',\n",
    "    y='brain'\n",
    ").interactive()"
   ]
  },
  {
   "cell_type": "code",
   "execution_count": 20,
   "metadata": {},
   "outputs": [],
   "source": [
    "body_data=mammals[\"body\"]\n",
    "brain_data = mammals[\"brain\"]"
   ]
  },
  {
   "cell_type": "code",
   "execution_count": 22,
   "metadata": {},
   "outputs": [],
   "source": [
    "import statsmodels.api as sm \n",
    "body_data = sm.add_constant(body_data)\n",
    "reggression1 = sm.OLS(brain_data,body_data).fit()"
   ]
  },
  {
   "cell_type": "code",
   "execution_count": 25,
   "metadata": {},
   "outputs": [],
   "source": [
    "# Alternative using R style formula notation\n",
    "import statsmodels.formula.api as smf\n",
    "regression2 = smf.ols(formula=\"brain~body\",data=mammals).fit()"
   ]
  },
  {
   "cell_type": "code",
   "execution_count": 27,
   "metadata": {},
   "outputs": [
    {
     "output_type": "execute_result",
     "data": {
      "text/plain": "<class 'statsmodels.iolib.summary.Summary'>\n\"\"\"\n                            OLS Regression Results                            \n==============================================================================\nDep. Variable:                  brain   R-squared:                       0.873\nModel:                            OLS   Adj. R-squared:                  0.871\nMethod:                 Least Squares   F-statistic:                     411.2\nDate:                Wed, 05 Aug 2020   Prob (F-statistic):           1.54e-28\nTime:                        08:54:27   Log-Likelihood:                -447.38\nNo. Observations:                  62   AIC:                             898.8\nDf Residuals:                      60   BIC:                             903.0\nDf Model:                           1                                         \nCovariance Type:            nonrobust                                         \n==============================================================================\n                 coef    std err          t      P>|t|      [0.025      0.975]\n------------------------------------------------------------------------------\nconst         91.0044     43.553      2.090      0.041       3.886     178.123\nbody           0.9665      0.048     20.278      0.000       0.871       1.062\n==============================================================================\nOmnibus:                       92.942   Durbin-Watson:                   2.339\nProb(Omnibus):                  0.000   Jarque-Bera (JB):             1738.656\nSkew:                           4.382   Prob(JB):                         0.00\nKurtosis:                      27.417   Cond. No.                         936.\n==============================================================================\n\nWarnings:\n[1] Standard Errors assume that the covariance matrix of the errors is correctly specified.\n\"\"\"",
      "text/html": "<table class=\"simpletable\">\n<caption>OLS Regression Results</caption>\n<tr>\n  <th>Dep. Variable:</th>          <td>brain</td>      <th>  R-squared:         </th> <td>   0.873</td>\n</tr>\n<tr>\n  <th>Model:</th>                   <td>OLS</td>       <th>  Adj. R-squared:    </th> <td>   0.871</td>\n</tr>\n<tr>\n  <th>Method:</th>             <td>Least Squares</td>  <th>  F-statistic:       </th> <td>   411.2</td>\n</tr>\n<tr>\n  <th>Date:</th>             <td>Wed, 05 Aug 2020</td> <th>  Prob (F-statistic):</th> <td>1.54e-28</td>\n</tr>\n<tr>\n  <th>Time:</th>                 <td>08:54:27</td>     <th>  Log-Likelihood:    </th> <td> -447.38</td>\n</tr>\n<tr>\n  <th>No. Observations:</th>      <td>    62</td>      <th>  AIC:               </th> <td>   898.8</td>\n</tr>\n<tr>\n  <th>Df Residuals:</th>          <td>    60</td>      <th>  BIC:               </th> <td>   903.0</td>\n</tr>\n<tr>\n  <th>Df Model:</th>              <td>     1</td>      <th>                     </th>     <td> </td>   \n</tr>\n<tr>\n  <th>Covariance Type:</th>      <td>nonrobust</td>    <th>                     </th>     <td> </td>   \n</tr>\n</table>\n<table class=\"simpletable\">\n<tr>\n    <td></td>       <th>coef</th>     <th>std err</th>      <th>t</th>      <th>P>|t|</th>  <th>[0.025</th>    <th>0.975]</th>  \n</tr>\n<tr>\n  <th>const</th> <td>   91.0044</td> <td>   43.553</td> <td>    2.090</td> <td> 0.041</td> <td>    3.886</td> <td>  178.123</td>\n</tr>\n<tr>\n  <th>body</th>  <td>    0.9665</td> <td>    0.048</td> <td>   20.278</td> <td> 0.000</td> <td>    0.871</td> <td>    1.062</td>\n</tr>\n</table>\n<table class=\"simpletable\">\n<tr>\n  <th>Omnibus:</th>       <td>92.942</td> <th>  Durbin-Watson:     </th> <td>   2.339</td>\n</tr>\n<tr>\n  <th>Prob(Omnibus):</th> <td> 0.000</td> <th>  Jarque-Bera (JB):  </th> <td>1738.656</td>\n</tr>\n<tr>\n  <th>Skew:</th>          <td> 4.382</td> <th>  Prob(JB):          </th> <td>    0.00</td>\n</tr>\n<tr>\n  <th>Kurtosis:</th>      <td>27.417</td> <th>  Cond. No.          </th> <td>    936.</td>\n</tr>\n</table><br/><br/>Warnings:<br/>[1] Standard Errors assume that the covariance matrix of the errors is correctly specified."
     },
     "metadata": {},
     "execution_count": 27
    }
   ],
   "source": [
    "reggression1.summary()"
   ]
  },
  {
   "cell_type": "code",
   "execution_count": 28,
   "metadata": {
    "tags": []
   },
   "outputs": [
    {
     "output_type": "stream",
     "name": "stdout",
     "text": "OLS Regression Results                            \n==============================================================================\nDep. Variable:                  brain   R-squared:                       0.873\nModel:                            OLS   Adj. R-squared:                  0.871\nMethod:                 Least Squares   F-statistic:                     411.2\nDate:                Wed, 05 Aug 2020   Prob (F-statistic):           1.54e-28\nTime:                        08:54:45   Log-Likelihood:                -447.38\nNo. Observations:                  62   AIC:                             898.8\nDf Residuals:                      60   BIC:                             903.0\nDf Model:                           1                                         \nCovariance Type:            nonrobust                                         \n==============================================================================\n                 coef    std err          t      P>|t|      [0.025      0.975]\n------------------------------------------------------------------------------\nIntercept     91.0044     43.553      2.090      0.041       3.886     178.123\nbody           0.9665      0.048     20.278      0.000       0.871       1.062\n==============================================================================\nOmnibus:                       92.942   Durbin-Watson:                   2.339\nProb(Omnibus):                  0.000   Jarque-Bera (JB):             1738.656\nSkew:                           4.382   Prob(JB):                         0.00\nKurtosis:                      27.417   Cond. No.                         936.\n==============================================================================\n\nWarnings:\n[1] Standard Errors assume that the covariance matrix of the errors is correctly specified.\n"
    }
   ],
   "source": [
    "print(regression2.summary())"
   ]
  },
  {
   "cell_type": "markdown",
   "metadata": {},
   "source": [
    "R2 also called the\n",
    "coefficient of determination. The values of this number\n",
    "range between 0 and 1, and it tells us how well the data fit\n",
    "the model. Having said that, there are some drawbacks with only\n",
    "looking at the value of R2. Namely, that it increases as we\n",
    "add more explanatory variables to the mix. An increase in the value of R2 may\n",
    "not be due to the explanatory power of the input, but to\n",
    "the fact that we added that extra input. That is why OLS\n",
    "also provides information for the adjusted R2. It is very\n",
    "similar to R2, but it introduces a penalty as extra variables\n",
    "are included in the model. The adjusted R2 value increases only in cases where the new input actually improves the\n",
    "model more than would be expected by pure chance.\n",
    "The column named “coef” lists the\n",
    "estimated values of the coefficient listed in the table. Notice\n",
    "that the “const” corresponds to the intercept of the model.\n",
    "OLS lists the rest of the coefficients using the names of \n",
    "the variables included in the model. The “std err” column\n",
    "corresponds to the basic standard error of the estimate of\n",
    "the coefficient; “t” is the so-called t-statistic and it tells us\n",
    "how statistically significant the coefficient is. The P-value is\n",
    "listed in the “P > |t|” column and it helps us determine the\n",
    "significance of the results considering the null-hypothesis that the coefficient being equal to zero is true. A small P-\n",
    "value (typically < 0.05) indicates strong evidence against the null hypothesis and you should go with the value obtained for the coefficient. Finally “95% Conf. Interval” gives us the\n",
    "lower and upper values of the 95% confidence interval."
   ]
  },
  {
   "cell_type": "markdown",
   "metadata": {},
   "source": [
    "We can use this equation to predict the mass of a mammal\n",
    "given its body mass and this can easily be done with the\n",
    "predict method in OLS. Let us consider new body mass measurements that will be used to predict the brain mass\n",
    "using the model obtained above. We need to prepare the\n",
    "new data in a way that is compatible with the model. We\n",
    "can therefore create an array of 10 new data inputs as\n",
    "follows:"
   ]
  },
  {
   "cell_type": "code",
   "execution_count": 29,
   "metadata": {},
   "outputs": [],
   "source": [
    "new_body = np.linspace(0,7000,10)"
   ]
  },
  {
   "cell_type": "markdown",
   "metadata": {},
   "source": [
    "For the predict method of the model run with the formula\n",
    "API we do not need to add a column of ones to our data\n",
    "and instead we simply indicate that the new data points are going to be treated as a dictionary to replace the\n",
    "independent variable (i.e. exog in StatsModels parlance) in\n",
    "the fitted model."
   ]
  },
  {
   "cell_type": "code",
   "execution_count": 30,
   "metadata": {
    "tags": []
   },
   "outputs": [
    {
     "output_type": "stream",
     "name": "stdout",
     "text": "0      91.004396\n1     842.723793\n2    1594.443190\n3    2346.162587\n4    3097.881985\n5    3849.601382\n6    4601.320779\n7    5353.040176\n8    6104.759573\n9    6856.478970\ndtype: float64\n"
    }
   ],
   "source": [
    "brain_pred = regression2.predict(exog=dict(body=new_body))\n",
    "print(brain_pred)"
   ]
  },
  {
   "cell_type": "markdown",
   "metadata": {},
   "source": [
    "The numbers shown correspond to the brain mass\n",
    "predictions for the artificial body mass measurements used\n",
    "as input."
   ]
  },
  {
   "cell_type": "code",
   "execution_count": null,
   "metadata": {},
   "outputs": [],
   "source": []
  }
 ]
}