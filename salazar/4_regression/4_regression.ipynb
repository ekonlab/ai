{
 "metadata": {
  "language_info": {
   "codemirror_mode": {
    "name": "ipython",
    "version": 3
   },
   "file_extension": ".py",
   "mimetype": "text/x-python",
   "name": "python",
   "nbconvert_exporter": "python",
   "pygments_lexer": "ipython3",
   "version": "3.7.7-final"
  },
  "orig_nbformat": 2,
  "kernelspec": {
   "name": "python3",
   "display_name": "Python 3"
  }
 },
 "nbformat": 4,
 "nbformat_minor": 2,
 "cells": [
  {
   "cell_type": "markdown",
   "metadata": {},
   "source": [
    "# Regression"
   ]
  },
  {
   "cell_type": "markdown",
   "metadata": {},
   "source": [
    "Regression analysis is one of the most widely used\n",
    "tools in statistical analysis. Most of us may have come\n",
    "across it at some point either by employing it or interpreting\n",
    "it. It is a powerful technique due to both its ease of calculation and simplicity of assumptions. However, it is\n",
    "due to these attributes that sometimes regression is\n",
    "misapplied or misinterpreted."
   ]
  },
  {
   "cell_type": "markdown",
   "metadata": {},
   "source": [
    "## 4.1 Relationships between Variables: Regression"
   ]
  },
  {
   "cell_type": "markdown",
   "metadata": {},
   "source": [
    "Consider a situation where you are interested to\n",
    "determine the association between two (or more) pieces of information; say for example the relation of the height of a\n",
    "child compared to that of her parents, or ice cream sales and\n",
    "temperature, or even the body mass of an animal and the mass of its brain. Ultimately,\n",
    "our goal is to use our model to predict the outcome of the\n",
    "variable of interest given the values of the other variable(s).\n",
    "We usually call the quantity of interest the response or\n",
    "dependent variable and denote it with the variable y quantities are called predictors, explanatory or\n",
    "independent variables and denote them as x. Intuitively, we know that two quantities are correlated if there is a\n",
    "relationship between the two variables, i.e. the value of one\n",
    "tells us something about the value of the other one."
   ]
  },
  {
   "cell_type": "markdown",
   "metadata": {},
   "source": [
    "In a correlation analysis we estimate a value bounded\n",
    "between\n",
    "1 and 1 and we call it the correlation coefficient.\n",
    "This coefficient tells us the strength of the linear association between the two variables. If the two quantities vary in\n",
    "tandem (if one increases/decreases, the other one does too)\n",
    "the correlation coefficient is positive, whereas it is negative\n",
    "when the two quantities vary out of sync. It is important to remember that the correlation coefficient measures the strength of linear relationship between the\n",
    "variables and therefore a value of zero does not mean that\n",
    "there is no relationship at all. It simply indicates that there\n",
    "is no linear relation between the variables in question.\n",
    "Just because we measure a correlation between two variables, it does not\n",
    "mean that there is a causal relationship between them."
   ]
  },
  {
   "cell_type": "markdown",
   "metadata": {},
   "source": [
    "Back to our subject of interest, Galton pioneered the\n",
    "application of statistical methods to many of his scientific\n",
    "interests. For instance, he indeed was interested in the\n",
    "relative size/height of children and their parents(both inanimals and plants). Among his observations he noticed\n",
    "that a tall parent is likely to have a child that is taller than\n",
    "average. However, the child is likely to be less tall than the\n",
    "parent. Similarly, a parent that is shorter than average\n",
    "would have children taller than the parent, but still below\n",
    "the average. In other words, the difference in height\n",
    "between parent and offspring is proportional to the parent’s deviation from the typical population. He described this by\n",
    "saying that the height of the offspring regresses towards a\n",
    "mediocre point.\n",
    "All in all, regression is thus the mean value of a response\n",
    "variable as a function of one or more explanatory variables."
   ]
  },
  {
   "cell_type": "markdown",
   "metadata": {},
   "source": [
    "Linear Regression"
   ]
  },
  {
   "cell_type": "markdown",
   "metadata": {
    "tags": []
   },
   "source": [
    "![alt text](images/linear_regression.png \"Title\")"
   ]
  },
  {
   "cell_type": "markdown",
   "metadata": {},
   "source": [
    "where b0 is the intercept of the line, b1 is the slope of the  line, and e denotes a vector of random deviations or\n",
    "residuals assumed to be independent and identically\n",
    "normally distributed. We refer to b0 and b1 as the\n",
    "regression coefficients. The intercept is the point where\n",
    "the line crosses the y-axis."
   ]
  },
  {
   "cell_type": "markdown",
   "metadata": {},
   "source": [
    "## 4.2 Multivariate Linear Regression"
   ]
  },
  {
   "cell_type": "markdown",
   "metadata": {},
   "source": [
    "We can extend the model to\n",
    "include many more variables, for example let us consider N\n",
    "observations on the response yi with i = 1, 2, 3, . . . , N; and\n",
    "with M regressors xj with j = 1, 2, 3, . . . , M. The multivariate linear regression is written as:"
   ]
  },
  {
   "cell_type": "markdown",
   "metadata": {},
   "source": [
    "![alt text](images/multivariate_linear_regression.png \"Title\")"
   ]
  },
  {
   "cell_type": "markdown",
   "metadata": {},
   "source": [
    "## 4.4 Brain and Body: Regression with One Variable"
   ]
  },
  {
   "cell_type": "code",
   "execution_count": 38,
   "metadata": {
    "tags": []
   },
   "outputs": [
    {
     "output_type": "stream",
     "name": "stdout",
     "text": "Populating the interactive namespace from numpy and matplotlib\n"
    },
    {
     "output_type": "execute_result",
     "data": {
      "text/plain": "RendererRegistry.enable('default')"
     },
     "metadata": {},
     "execution_count": 38
    }
   ],
   "source": [
    "%pylab inline\n",
    "import numpy as np\n",
    "import matplotlib.pyplot as plt\n",
    "import pandas as pd\n",
    "import altair as alt\n",
    "alt.renderers.enable('default')"
   ]
  },
  {
   "cell_type": "code",
   "execution_count": 39,
   "metadata": {},
   "outputs": [],
   "source": [
    "mammals = pd.read_csv(\"Data/mammals.csv\")"
   ]
  },
  {
   "cell_type": "code",
   "execution_count": 40,
   "metadata": {},
   "outputs": [
    {
     "output_type": "execute_result",
     "data": {
      "application/vnd.vegalite.v3+json": {
       "config": {
        "view": {
         "width": 400,
         "height": 300
        },
        "mark": {
         "tooltip": null
        }
       },
       "data": {
        "name": "data-187b9928ef86aee215add4af865d2faa"
       },
       "mark": {
        "type": "circle",
        "size": 60
       },
       "encoding": {
        "x": {
         "type": "quantitative",
         "field": "body"
        },
        "y": {
         "type": "quantitative",
         "field": "brain"
        }
       },
       "selection": {
        "selector004": {
         "type": "interval",
         "bind": "scales",
         "encodings": [
          "x",
          "y"
         ]
        }
       },
       "$schema": "https://vega.github.io/schema/vega-lite/v3.4.0.json",
       "datasets": {
        "data-187b9928ef86aee215add4af865d2faa": [
         {
          "Mammal": "Arctic fox",
          "body": 3.385,
          "brain": 44.5
         },
         {
          "Mammal": "Owl monkey",
          "body": 0.48,
          "brain": 15.5
         },
         {
          "Mammal": "Mountain beaver",
          "body": 1.35,
          "brain": 8.1
         },
         {
          "Mammal": "Cow",
          "body": 465,
          "brain": 423
         },
         {
          "Mammal": "Grey wolf",
          "body": 36.33,
          "brain": 119.5
         },
         {
          "Mammal": "Goat",
          "body": 27.66,
          "brain": 115
         },
         {
          "Mammal": "Roe deer",
          "body": 14.83,
          "brain": 98.2
         },
         {
          "Mammal": "Guinea pig",
          "body": 1.04,
          "brain": 5.5
         },
         {
          "Mammal": "Verbet",
          "body": 4.19,
          "brain": 58
         },
         {
          "Mammal": "Chinchilla",
          "body": 0.425,
          "brain": 6.4
         },
         {
          "Mammal": "Ground squirrel",
          "body": 0.10099999999999999,
          "brain": 4
         },
         {
          "Mammal": "Arctic ground squirrel",
          "body": 0.92,
          "brain": 5.7
         },
         {
          "Mammal": "African giant pouched rat",
          "body": 1,
          "brain": 6.6
         },
         {
          "Mammal": "Lesser short-tailed shrew",
          "body": 0.005,
          "brain": 0.14
         },
         {
          "Mammal": "Star-nosed mole",
          "body": 0.06,
          "brain": 1
         },
         {
          "Mammal": "Nine-banded armadillo",
          "body": 3.5,
          "brain": 10.8
         },
         {
          "Mammal": "Tree hyrax",
          "body": 2,
          "brain": 12.3
         },
         {
          "Mammal": "N.A. opossum",
          "body": 1.7,
          "brain": 6.3
         },
         {
          "Mammal": "Asian elephant",
          "body": 2547,
          "brain": 4603
         },
         {
          "Mammal": "Big brown bat",
          "body": 0.023,
          "brain": 0.3
         },
         {
          "Mammal": "Donkey",
          "body": 187.1,
          "brain": 419
         },
         {
          "Mammal": "Horse",
          "body": 521,
          "brain": 655
         },
         {
          "Mammal": "European hedgehog",
          "body": 0.785,
          "brain": 3.5
         },
         {
          "Mammal": "Patas monkey",
          "body": 10,
          "brain": 115
         },
         {
          "Mammal": "Cat",
          "body": 3.3,
          "brain": 25.6
         },
         {
          "Mammal": "Galago",
          "body": 0.2,
          "brain": 5
         },
         {
          "Mammal": "Genet",
          "body": 1.41,
          "brain": 17.5
         },
         {
          "Mammal": "Giraffe",
          "body": 529,
          "brain": 680
         },
         {
          "Mammal": "Gorilla",
          "body": 207,
          "brain": 406
         },
         {
          "Mammal": "Grey seal",
          "body": 85,
          "brain": 325
         },
         {
          "Mammal": "Rock hyrax-a",
          "body": 0.75,
          "brain": 12.3
         },
         {
          "Mammal": "Human",
          "body": 62,
          "brain": 1320
         },
         {
          "Mammal": "African elephant",
          "body": 6654,
          "brain": 5712
         },
         {
          "Mammal": "Water opossum",
          "body": 3.5,
          "brain": 3.9
         },
         {
          "Mammal": "Rhesus monkey",
          "body": 6.8,
          "brain": 179
         },
         {
          "Mammal": "Kangaroo",
          "body": 35,
          "brain": 56
         },
         {
          "Mammal": "Yellow-bellied marmot",
          "body": 4.05,
          "brain": 17
         },
         {
          "Mammal": "Golden hamster",
          "body": 0.12,
          "brain": 1
         },
         {
          "Mammal": "Mouse",
          "body": 0.023,
          "brain": 0.4
         },
         {
          "Mammal": "Little brown bat",
          "body": 0.01,
          "brain": 0.25
         },
         {
          "Mammal": "Slow loris",
          "body": 1.4,
          "brain": 12.5
         },
         {
          "Mammal": "Okapi",
          "body": 250,
          "brain": 490
         },
         {
          "Mammal": "Rabbit",
          "body": 2.5,
          "brain": 12.1
         },
         {
          "Mammal": "Sheep",
          "body": 55.5,
          "brain": 175
         },
         {
          "Mammal": "Jaguar",
          "body": 100,
          "brain": 157
         },
         {
          "Mammal": "Chimpanzee",
          "body": 52.16,
          "brain": 440
         },
         {
          "Mammal": "Baboon",
          "body": 10.55,
          "brain": 179.5
         },
         {
          "Mammal": "Desert hedgehog",
          "body": 0.55,
          "brain": 2.4
         },
         {
          "Mammal": "Giant armadillo",
          "body": 60,
          "brain": 81
         },
         {
          "Mammal": "Rock hyrax-b",
          "body": 3.6,
          "brain": 21
         },
         {
          "Mammal": "Raccoon",
          "body": 4.288,
          "brain": 39.2
         },
         {
          "Mammal": "Rat",
          "body": 0.28,
          "brain": 1.9
         },
         {
          "Mammal": "E. American mole",
          "body": 0.075,
          "brain": 1.2
         },
         {
          "Mammal": "Mole rat",
          "body": 0.122,
          "brain": 3
         },
         {
          "Mammal": "Musk shrew",
          "body": 0.048,
          "brain": 0.33
         },
         {
          "Mammal": "Pig",
          "body": 192,
          "brain": 180
         },
         {
          "Mammal": "Echidna",
          "body": 3,
          "brain": 25
         },
         {
          "Mammal": "Brazilian tapir",
          "body": 160,
          "brain": 169
         },
         {
          "Mammal": "Tenrec",
          "body": 0.9,
          "brain": 2.6
         },
         {
          "Mammal": "Phalanger",
          "body": 1.62,
          "brain": 11.4
         },
         {
          "Mammal": "Tree shrew",
          "body": 0.10400000000000001,
          "brain": 2.5
         },
         {
          "Mammal": "Red fox",
          "body": 4.235,
          "brain": 50.4
         }
        ]
       }
      },
      "text/plain": "<VegaLite 3 object>\n\nIf you see this message, it means the renderer has not been properly enabled\nfor the frontend that you are using. For more information, see\nhttps://altair-viz.github.io/user_guide/troubleshooting.html\n"
     },
     "metadata": {},
     "execution_count": 40
    }
   ],
   "source": [
    "alt.Chart(mammals).mark_circle(size=60).encode(\n",
    "    x='body',\n",
    "    y='brain'\n",
    ").interactive()"
   ]
  },
  {
   "cell_type": "code",
   "execution_count": 20,
   "metadata": {},
   "outputs": [],
   "source": [
    "body_data=mammals[\"body\"]\n",
    "brain_data = mammals[\"brain\"]"
   ]
  },
  {
   "cell_type": "code",
   "execution_count": 22,
   "metadata": {},
   "outputs": [],
   "source": [
    "import statsmodels.api as sm \n",
    "body_data = sm.add_constant(body_data)\n",
    "reggression1 = sm.OLS(brain_data,body_data).fit()"
   ]
  },
  {
   "cell_type": "code",
   "execution_count": 25,
   "metadata": {},
   "outputs": [],
   "source": [
    "# Alternative using R style formula notation\n",
    "import statsmodels.formula.api as smf\n",
    "regression2 = smf.ols(formula=\"brain~body\",data=mammals).fit()"
   ]
  },
  {
   "cell_type": "code",
   "execution_count": 27,
   "metadata": {},
   "outputs": [
    {
     "output_type": "execute_result",
     "data": {
      "text/plain": "<class 'statsmodels.iolib.summary.Summary'>\n\"\"\"\n                            OLS Regression Results                            \n==============================================================================\nDep. Variable:                  brain   R-squared:                       0.873\nModel:                            OLS   Adj. R-squared:                  0.871\nMethod:                 Least Squares   F-statistic:                     411.2\nDate:                Wed, 05 Aug 2020   Prob (F-statistic):           1.54e-28\nTime:                        08:54:27   Log-Likelihood:                -447.38\nNo. Observations:                  62   AIC:                             898.8\nDf Residuals:                      60   BIC:                             903.0\nDf Model:                           1                                         \nCovariance Type:            nonrobust                                         \n==============================================================================\n                 coef    std err          t      P>|t|      [0.025      0.975]\n------------------------------------------------------------------------------\nconst         91.0044     43.553      2.090      0.041       3.886     178.123\nbody           0.9665      0.048     20.278      0.000       0.871       1.062\n==============================================================================\nOmnibus:                       92.942   Durbin-Watson:                   2.339\nProb(Omnibus):                  0.000   Jarque-Bera (JB):             1738.656\nSkew:                           4.382   Prob(JB):                         0.00\nKurtosis:                      27.417   Cond. No.                         936.\n==============================================================================\n\nWarnings:\n[1] Standard Errors assume that the covariance matrix of the errors is correctly specified.\n\"\"\"",
      "text/html": "<table class=\"simpletable\">\n<caption>OLS Regression Results</caption>\n<tr>\n  <th>Dep. Variable:</th>          <td>brain</td>      <th>  R-squared:         </th> <td>   0.873</td>\n</tr>\n<tr>\n  <th>Model:</th>                   <td>OLS</td>       <th>  Adj. R-squared:    </th> <td>   0.871</td>\n</tr>\n<tr>\n  <th>Method:</th>             <td>Least Squares</td>  <th>  F-statistic:       </th> <td>   411.2</td>\n</tr>\n<tr>\n  <th>Date:</th>             <td>Wed, 05 Aug 2020</td> <th>  Prob (F-statistic):</th> <td>1.54e-28</td>\n</tr>\n<tr>\n  <th>Time:</th>                 <td>08:54:27</td>     <th>  Log-Likelihood:    </th> <td> -447.38</td>\n</tr>\n<tr>\n  <th>No. Observations:</th>      <td>    62</td>      <th>  AIC:               </th> <td>   898.8</td>\n</tr>\n<tr>\n  <th>Df Residuals:</th>          <td>    60</td>      <th>  BIC:               </th> <td>   903.0</td>\n</tr>\n<tr>\n  <th>Df Model:</th>              <td>     1</td>      <th>                     </th>     <td> </td>   \n</tr>\n<tr>\n  <th>Covariance Type:</th>      <td>nonrobust</td>    <th>                     </th>     <td> </td>   \n</tr>\n</table>\n<table class=\"simpletable\">\n<tr>\n    <td></td>       <th>coef</th>     <th>std err</th>      <th>t</th>      <th>P>|t|</th>  <th>[0.025</th>    <th>0.975]</th>  \n</tr>\n<tr>\n  <th>const</th> <td>   91.0044</td> <td>   43.553</td> <td>    2.090</td> <td> 0.041</td> <td>    3.886</td> <td>  178.123</td>\n</tr>\n<tr>\n  <th>body</th>  <td>    0.9665</td> <td>    0.048</td> <td>   20.278</td> <td> 0.000</td> <td>    0.871</td> <td>    1.062</td>\n</tr>\n</table>\n<table class=\"simpletable\">\n<tr>\n  <th>Omnibus:</th>       <td>92.942</td> <th>  Durbin-Watson:     </th> <td>   2.339</td>\n</tr>\n<tr>\n  <th>Prob(Omnibus):</th> <td> 0.000</td> <th>  Jarque-Bera (JB):  </th> <td>1738.656</td>\n</tr>\n<tr>\n  <th>Skew:</th>          <td> 4.382</td> <th>  Prob(JB):          </th> <td>    0.00</td>\n</tr>\n<tr>\n  <th>Kurtosis:</th>      <td>27.417</td> <th>  Cond. No.          </th> <td>    936.</td>\n</tr>\n</table><br/><br/>Warnings:<br/>[1] Standard Errors assume that the covariance matrix of the errors is correctly specified."
     },
     "metadata": {},
     "execution_count": 27
    }
   ],
   "source": [
    "reggression1.summary()"
   ]
  },
  {
   "cell_type": "code",
   "execution_count": 28,
   "metadata": {
    "tags": []
   },
   "outputs": [
    {
     "output_type": "stream",
     "name": "stdout",
     "text": "OLS Regression Results                            \n==============================================================================\nDep. Variable:                  brain   R-squared:                       0.873\nModel:                            OLS   Adj. R-squared:                  0.871\nMethod:                 Least Squares   F-statistic:                     411.2\nDate:                Wed, 05 Aug 2020   Prob (F-statistic):           1.54e-28\nTime:                        08:54:45   Log-Likelihood:                -447.38\nNo. Observations:                  62   AIC:                             898.8\nDf Residuals:                      60   BIC:                             903.0\nDf Model:                           1                                         \nCovariance Type:            nonrobust                                         \n==============================================================================\n                 coef    std err          t      P>|t|      [0.025      0.975]\n------------------------------------------------------------------------------\nIntercept     91.0044     43.553      2.090      0.041       3.886     178.123\nbody           0.9665      0.048     20.278      0.000       0.871       1.062\n==============================================================================\nOmnibus:                       92.942   Durbin-Watson:                   2.339\nProb(Omnibus):                  0.000   Jarque-Bera (JB):             1738.656\nSkew:                           4.382   Prob(JB):                         0.00\nKurtosis:                      27.417   Cond. No.                         936.\n==============================================================================\n\nWarnings:\n[1] Standard Errors assume that the covariance matrix of the errors is correctly specified.\n"
    }
   ],
   "source": [
    "print(regression2.summary())"
   ]
  },
  {
   "cell_type": "markdown",
   "metadata": {},
   "source": [
    "R2 also called the\n",
    "coefficient of determination. The values of this number\n",
    "range between 0 and 1, and it tells us how well the data fit\n",
    "the model. Having said that, there are some drawbacks with only\n",
    "looking at the value of R2. Namely, that it increases as we\n",
    "add more explanatory variables to the mix. An increase in the value of R2 may\n",
    "not be due to the explanatory power of the input, but to\n",
    "the fact that we added that extra input. That is why OLS\n",
    "also provides information for the adjusted R2. It is very\n",
    "similar to R2, but it introduces a penalty as extra variables\n",
    "are included in the model. The adjusted R2 value increases only in cases where the new input actually improves the\n",
    "model more than would be expected by pure chance.\n",
    "The column named “coef” lists the\n",
    "estimated values of the coefficient listed in the table. Notice\n",
    "that the “const” corresponds to the intercept of the model.\n",
    "OLS lists the rest of the coefficients using the names of \n",
    "the variables included in the model. The “std err” column\n",
    "corresponds to the basic standard error of the estimate of\n",
    "the coefficient; “t” is the so-called t-statistic and it tells us\n",
    "how statistically significant the coefficient is. The P-value is\n",
    "listed in the “P > |t|” column and it helps us determine the\n",
    "significance of the results considering the null-hypothesis that the coefficient being equal to zero is true. A small P-\n",
    "value (typically < 0.05) indicates strong evidence against the null hypothesis and you should go with the value obtained for the coefficient. Finally “95% Conf. Interval” gives us the\n",
    "lower and upper values of the 95% confidence interval."
   ]
  },
  {
   "cell_type": "markdown",
   "metadata": {},
   "source": [
    "We can use this equation to predict the mass of a mammal\n",
    "given its body mass and this can easily be done with the\n",
    "predict method in OLS. Let us consider new body mass measurements that will be used to predict the brain mass\n",
    "using the model obtained above. We need to prepare the\n",
    "new data in a way that is compatible with the model. We\n",
    "can therefore create an array of 10 new data inputs as\n",
    "follows:"
   ]
  },
  {
   "cell_type": "code",
   "execution_count": 29,
   "metadata": {},
   "outputs": [],
   "source": [
    "new_body = np.linspace(0,7000,10)"
   ]
  },
  {
   "cell_type": "markdown",
   "metadata": {},
   "source": [
    "For the predict method of the model run with the formula\n",
    "API we do not need to add a column of ones to our data\n",
    "and instead we simply indicate that the new data points are going to be treated as a dictionary to replace the\n",
    "independent variable (i.e. exog in StatsModels parlance) in\n",
    "the fitted model."
   ]
  },
  {
   "cell_type": "code",
   "execution_count": 30,
   "metadata": {
    "tags": []
   },
   "outputs": [
    {
     "output_type": "stream",
     "name": "stdout",
     "text": "0      91.004396\n1     842.723793\n2    1594.443190\n3    2346.162587\n4    3097.881985\n5    3849.601382\n6    4601.320779\n7    5353.040176\n8    6104.759573\n9    6856.478970\ndtype: float64\n"
    }
   ],
   "source": [
    "brain_pred = regression2.predict(exog=dict(body=new_body))\n",
    "print(brain_pred)"
   ]
  },
  {
   "cell_type": "markdown",
   "metadata": {},
   "source": [
    "The numbers shown correspond to the brain mass\n",
    "predictions for the artificial body mass measurements used\n",
    "as input."
   ]
  },
  {
   "cell_type": "markdown",
   "metadata": {},
   "source": [
    "### 4.4.1 Regression with Scikit-learn"
   ]
  },
  {
   "cell_type": "code",
   "execution_count": 41,
   "metadata": {},
   "outputs": [],
   "source": [
    "import numpy as np\n",
    "import pandas as pd\n",
    "mammals = pd.read_csv(\"Data/mammals.csv\")"
   ]
  },
  {
   "cell_type": "code",
   "execution_count": 42,
   "metadata": {},
   "outputs": [],
   "source": [
    "body_data = mammals[[\"body\"]]\n",
    "brain_data = mammals[[\"brain\"]]"
   ]
  },
  {
   "cell_type": "code",
   "execution_count": 44,
   "metadata": {},
   "outputs": [
    {
     "output_type": "execute_result",
     "data": {
      "text/plain": "LinearRegression(copy_X=True, fit_intercept=True, n_jobs=None,\n         normalize=False)"
     },
     "metadata": {},
     "execution_count": 44
    }
   ],
   "source": [
    "from sklearn import linear_model\n",
    "sk_regr = linear_model.LinearRegression()\n",
    "sk_regr.fit(body_data,brain_data)"
   ]
  },
  {
   "cell_type": "code",
   "execution_count": 45,
   "metadata": {
    "tags": []
   },
   "outputs": [
    {
     "output_type": "stream",
     "name": "stdout",
     "text": "[[0.96649637]]\n"
    }
   ],
   "source": [
    "print(sk_regr.coef_)"
   ]
  },
  {
   "cell_type": "code",
   "execution_count": 46,
   "metadata": {
    "tags": []
   },
   "outputs": [
    {
     "output_type": "stream",
     "name": "stdout",
     "text": "[91.00439621]\n"
    }
   ],
   "source": [
    "print(sk_regr.intercept_)"
   ]
  },
  {
   "cell_type": "code",
   "execution_count": 48,
   "metadata": {
    "tags": []
   },
   "outputs": [
    {
     "output_type": "stream",
     "name": "stdout",
     "text": "0.8726620843043331\n"
    }
   ],
   "source": [
    "print(sk_regr.score(body_data,brain_data))"
   ]
  },
  {
   "cell_type": "code",
   "execution_count": 52,
   "metadata": {
    "tags": []
   },
   "outputs": [
    {
     "output_type": "stream",
     "name": "stdout",
     "text": "[[  91.00439621]\n [ 842.72379329]\n [1594.44319036]\n [2346.16258744]\n [3097.88198452]\n [3849.6013816 ]\n [4601.32077868]\n [5353.04017576]\n [6104.75957284]\n [6856.47896992]]\n"
    }
   ],
   "source": [
    "new_body = np.linspace(0,7000,10)\n",
    "new_body = new_body[:,np.newaxis]\n",
    "brain_pred = sk_regr.predict(new_body)\n",
    "print(brain_pred)"
   ]
  },
  {
   "cell_type": "markdown",
   "metadata": {},
   "source": [
    "## 4.5 Logarithmic Transformation"
   ]
  },
  {
   "cell_type": "markdown",
   "metadata": {},
   "source": [
    "One of the principal tenets of the linear regression\n",
    "model is the idea that the relationship between the variables\n",
    "at play is linear. In cases when that is not necessarily true, we can apply manipulations or transformation to the data\n",
    "that result in having a linear relationship. Once the linear\n",
    "model is obtained, we can then undo the transformation to\n",
    "obtain our final model.\n",
    "A typical transformation that is often used is applying a logarithm to either one or both of the predictive and\n",
    "response variables."
   ]
  },
  {
   "cell_type": "code",
   "execution_count": 56,
   "metadata": {},
   "outputs": [],
   "source": [
    "from numpy import log\n",
    "mammals[\"log_body\"] = log(mammals['body'])\n",
    "mammals[\"log_brain\"] = log(mammals['brain'])"
   ]
  },
  {
   "cell_type": "code",
   "execution_count": 57,
   "metadata": {},
   "outputs": [
    {
     "output_type": "execute_result",
     "data": {
      "application/vnd.vegalite.v3+json": {
       "config": {
        "view": {
         "width": 400,
         "height": 300
        },
        "mark": {
         "tooltip": null
        }
       },
       "data": {
        "name": "data-930335f6d9dda749d00c28c91dad45b4"
       },
       "mark": {
        "type": "circle",
        "size": 60
       },
       "encoding": {
        "x": {
         "type": "quantitative",
         "field": "log_body"
        },
        "y": {
         "type": "quantitative",
         "field": "log_brain"
        }
       },
       "selection": {
        "selector005": {
         "type": "interval",
         "bind": "scales",
         "encodings": [
          "x",
          "y"
         ]
        }
       },
       "$schema": "https://vega.github.io/schema/vega-lite/v3.4.0.json",
       "datasets": {
        "data-930335f6d9dda749d00c28c91dad45b4": [
         {
          "Mammal": "Arctic fox",
          "body": 3.385,
          "brain": 44.5,
          "log_body": 1.2193539063642382,
          "log_brain": 3.7954891891721947
         },
         {
          "Mammal": "Owl monkey",
          "body": 0.48,
          "brain": 15.5,
          "log_body": -0.7339691750802004,
          "log_brain": 2.740840023925201
         },
         {
          "Mammal": "Mountain beaver",
          "body": 1.35,
          "brain": 8.1,
          "log_body": 0.30010459245033816,
          "log_brain": 2.0918640616783932
         },
         {
          "Mammal": "Cow",
          "body": 465,
          "brain": 423,
          "log_body": 6.142037405587356,
          "log_brain": 6.0473721790462776
         },
         {
          "Mammal": "Grey wolf",
          "body": 36.33,
          "brain": 119.5,
          "log_body": 3.5926438462331105,
          "log_brain": 4.783316371371566
         },
         {
          "Mammal": "Goat",
          "body": 27.66,
          "brain": 115,
          "log_body": 3.319987326236612,
          "log_brain": 4.74493212836325
         },
         {
          "Mammal": "Roe deer",
          "body": 14.83,
          "brain": 98.2,
          "log_body": 2.696652156149841,
          "log_brain": 4.58700621536042
         },
         {
          "Mammal": "Guinea pig",
          "body": 1.04,
          "brain": 5.5,
          "log_body": 0.03922071315328133,
          "log_brain": 1.7047480922384253
         },
         {
          "Mammal": "Verbet",
          "body": 4.19,
          "brain": 58,
          "log_body": 1.4327007339340465,
          "log_brain": 4.060443010546419
         },
         {
          "Mammal": "Chinchilla",
          "body": 0.425,
          "brain": 6.4,
          "log_body": -0.8556661100577202,
          "log_brain": 1.8562979903656263
         },
         {
          "Mammal": "Ground squirrel",
          "body": 0.10099999999999999,
          "brain": 4,
          "log_body": -2.2926347621408776,
          "log_brain": 1.3862943611198906
         },
         {
          "Mammal": "Arctic ground squirrel",
          "body": 0.92,
          "brain": 5.7,
          "log_body": -0.08338160893905101,
          "log_brain": 1.7404661748405046
         },
         {
          "Mammal": "African giant pouched rat",
          "body": 1,
          "brain": 6.6,
          "log_body": 0,
          "log_brain": 1.8870696490323797
         },
         {
          "Mammal": "Lesser short-tailed shrew",
          "body": 0.005,
          "brain": 0.14,
          "log_body": -5.298317366548036,
          "log_brain": -1.9661128563728327
         },
         {
          "Mammal": "Star-nosed mole",
          "body": 0.06,
          "brain": 1,
          "log_body": -2.8134107167600364,
          "log_brain": 0
         },
         {
          "Mammal": "Nine-banded armadillo",
          "body": 3.5,
          "brain": 10.8,
          "log_body": 1.252762968495368,
          "log_brain": 2.379546134130174
         },
         {
          "Mammal": "Tree hyrax",
          "body": 2,
          "brain": 12.3,
          "log_body": 0.6931471805599453,
          "log_brain": 2.509599262378372
         },
         {
          "Mammal": "N.A. opossum",
          "body": 1.7,
          "brain": 6.3,
          "log_body": 0.5306282510621704,
          "log_brain": 1.840549633397487
         },
         {
          "Mammal": "Asian elephant",
          "body": 2547,
          "brain": 4603,
          "log_body": 7.842671474979457,
          "log_brain": 8.434463543817241
         },
         {
          "Mammal": "Big brown bat",
          "body": 0.023,
          "brain": 0.3,
          "log_body": -3.7722610630529876,
          "log_brain": -1.2039728043259361
         },
         {
          "Mammal": "Donkey",
          "body": 187.1,
          "brain": 419,
          "log_body": 5.231643233280044,
          "log_brain": 6.037870919922137
         },
         {
          "Mammal": "Horse",
          "body": 521,
          "brain": 655,
          "log_body": 6.255750041753367,
          "log_brain": 6.484635235635252
         },
         {
          "Mammal": "European hedgehog",
          "body": 0.785,
          "brain": 3.5,
          "log_body": -0.24207156119972859,
          "log_brain": 1.252762968495368
         },
         {
          "Mammal": "Patas monkey",
          "body": 10,
          "brain": 115,
          "log_body": 2.302585092994046,
          "log_brain": 4.74493212836325
         },
         {
          "Mammal": "Cat",
          "body": 3.3,
          "brain": 25.6,
          "log_body": 1.1939224684724346,
          "log_brain": 3.242592351485517
         },
         {
          "Mammal": "Galago",
          "body": 0.2,
          "brain": 5,
          "log_body": -1.6094379124341003,
          "log_brain": 1.6094379124341003
         },
         {
          "Mammal": "Genet",
          "body": 1.41,
          "brain": 17.5,
          "log_body": 0.34358970439007686,
          "log_brain": 2.8622008809294686
         },
         {
          "Mammal": "Giraffe",
          "body": 529,
          "brain": 680,
          "log_body": 6.270988431858299,
          "log_brain": 6.522092798170152
         },
         {
          "Mammal": "Gorilla",
          "body": 207,
          "brain": 406,
          "log_body": 5.332718793265369,
          "log_brain": 6.0063531596017325
         },
         {
          "Mammal": "Grey seal",
          "body": 85,
          "brain": 325,
          "log_body": 4.442651256490317,
          "log_brain": 5.783825182329737
         },
         {
          "Mammal": "Rock hyrax-a",
          "body": 0.75,
          "brain": 12.3,
          "log_body": -0.2876820724517809,
          "log_brain": 2.509599262378372
         },
         {
          "Mammal": "Human",
          "body": 62,
          "brain": 1320,
          "log_body": 4.127134385045092,
          "log_brain": 7.1853870155804165
         },
         {
          "Mammal": "African elephant",
          "body": 6654,
          "brain": 5712,
          "log_body": 8.802973456578423,
          "log_brain": 8.65032450401942
         },
         {
          "Mammal": "Water opossum",
          "body": 3.5,
          "brain": 3.9,
          "log_body": 1.252762968495368,
          "log_brain": 1.3609765531356006
         },
         {
          "Mammal": "Rhesus monkey",
          "body": 6.8,
          "brain": 179,
          "log_body": 1.916922612182061,
          "log_brain": 5.187385805840755
         },
         {
          "Mammal": "Kangaroo",
          "body": 35,
          "brain": 56,
          "log_body": 3.5553480614894135,
          "log_brain": 4.02535169073515
         },
         {
          "Mammal": "Yellow-bellied marmot",
          "body": 4.05,
          "brain": 17,
          "log_body": 1.3987168811184478,
          "log_brain": 2.833213344056216
         },
         {
          "Mammal": "Golden hamster",
          "body": 0.12,
          "brain": 1,
          "log_body": -2.120263536200091,
          "log_brain": 0
         },
         {
          "Mammal": "Mouse",
          "body": 0.023,
          "brain": 0.4,
          "log_body": -3.7722610630529876,
          "log_brain": -0.916290731874155
         },
         {
          "Mammal": "Little brown bat",
          "body": 0.01,
          "brain": 0.25,
          "log_body": -4.605170185988091,
          "log_brain": -1.3862943611198906
         },
         {
          "Mammal": "Slow loris",
          "body": 1.4,
          "brain": 12.5,
          "log_body": 0.3364722366212129,
          "log_brain": 2.5257286443082556
         },
         {
          "Mammal": "Okapi",
          "body": 250,
          "brain": 490,
          "log_body": 5.521460917862246,
          "log_brain": 6.194405391104672
         },
         {
          "Mammal": "Rabbit",
          "body": 2.5,
          "brain": 12.1,
          "log_body": 0.9162907318741551,
          "log_brain": 2.4932054526026954
         },
         {
          "Mammal": "Sheep",
          "body": 55.5,
          "brain": 175,
          "log_body": 4.0163830207523885,
          "log_brain": 5.1647859739235145
         },
         {
          "Mammal": "Jaguar",
          "body": 100,
          "brain": 157,
          "log_body": 4.605170185988092,
          "log_brain": 5.056245805348308
         },
         {
          "Mammal": "Chimpanzee",
          "body": 52.16,
          "brain": 440,
          "log_body": 3.9543159176183975,
          "log_brain": 6.0867747269123065
         },
         {
          "Mammal": "Baboon",
          "body": 10.55,
          "brain": 179.5,
          "log_body": 2.3561258599220753,
          "log_brain": 5.190175207928333
         },
         {
          "Mammal": "Desert hedgehog",
          "body": 0.55,
          "brain": 2.4,
          "log_body": -0.5978370007556204,
          "log_brain": 0.8754687373538999
         },
         {
          "Mammal": "Giant armadillo",
          "body": 60,
          "brain": 81,
          "log_body": 4.0943445622221,
          "log_brain": 4.394449154672439
         },
         {
          "Mammal": "Rock hyrax-b",
          "body": 3.6,
          "brain": 21,
          "log_body": 1.2809338454620642,
          "log_brain": 3.044522437723423
         },
         {
          "Mammal": "Raccoon",
          "body": 4.288,
          "brain": 39.2,
          "log_body": 1.4558204237685008,
          "log_brain": 3.6686767467964168
         },
         {
          "Mammal": "Rat",
          "body": 0.28,
          "brain": 1.9,
          "log_body": -1.2729656758128873,
          "log_brain": 0.6418538861723947
         },
         {
          "Mammal": "E. American mole",
          "body": 0.075,
          "brain": 1.2,
          "log_body": -2.5902671654458267,
          "log_brain": 0.1823215567939546
         },
         {
          "Mammal": "Mole rat",
          "body": 0.122,
          "brain": 3,
          "log_body": -2.1037342342488805,
          "log_brain": 1.0986122886681098
         },
         {
          "Mammal": "Musk shrew",
          "body": 0.048,
          "brain": 0.33,
          "log_body": -3.036554268074246,
          "log_brain": -1.1086626245216111
         },
         {
          "Mammal": "Pig",
          "body": 192,
          "brain": 180,
          "log_body": 5.2574953720277815,
          "log_brain": 5.19295685089021
         },
         {
          "Mammal": "Echidna",
          "body": 3,
          "brain": 25,
          "log_body": 1.0986122886681098,
          "log_brain": 3.2188758248682006
         },
         {
          "Mammal": "Brazilian tapir",
          "body": 160,
          "brain": 169,
          "log_body": 5.075173815233827,
          "log_brain": 5.1298987149230735
         },
         {
          "Mammal": "Tenrec",
          "body": 0.9,
          "brain": 2.6,
          "log_body": -0.10536051565782628,
          "log_brain": 0.9555114450274363
         },
         {
          "Mammal": "Phalanger",
          "body": 1.62,
          "brain": 11.4,
          "log_body": 0.4824261492442928,
          "log_brain": 2.4336133554004498
         },
         {
          "Mammal": "Tree shrew",
          "body": 0.10400000000000001,
          "brain": 2.5,
          "log_body": -2.2633643798407643,
          "log_brain": 0.9162907318741551
         },
         {
          "Mammal": "Red fox",
          "body": 4.235,
          "brain": 50.4,
          "log_body": 1.4433833281040178,
          "log_brain": 3.919991175077323
         }
        ]
       }
      },
      "text/plain": "<VegaLite 3 object>\n\nIf you see this message, it means the renderer has not been properly enabled\nfor the frontend that you are using. For more information, see\nhttps://altair-viz.github.io/user_guide/troubleshooting.html\n"
     },
     "metadata": {},
     "execution_count": 57
    }
   ],
   "source": [
    "alt.Chart(mammals).mark_circle(size=60).encode(\n",
    "    x='log_body',\n",
    "    y='log_brain'\n",
    ").interactive()"
   ]
  },
  {
   "cell_type": "code",
   "execution_count": 59,
   "metadata": {
    "tags": []
   },
   "outputs": [
    {
     "output_type": "stream",
     "name": "stdout",
     "text": "OLS Regression Results                            \n==============================================================================\nDep. Variable:              log_brain   R-squared:                       0.921\nModel:                            OLS   Adj. R-squared:                  0.919\nMethod:                 Least Squares   F-statistic:                     697.4\nDate:                Wed, 05 Aug 2020   Prob (F-statistic):           9.84e-35\nTime:                        09:44:33   Log-Likelihood:                -64.336\nNo. Observations:                  62   AIC:                             132.7\nDf Residuals:                      60   BIC:                             136.9\nDf Model:                           1                                         \nCovariance Type:            nonrobust                                         \n==============================================================================\n                 coef    std err          t      P>|t|      [0.025      0.975]\n------------------------------------------------------------------------------\nIntercept      2.1348      0.096     22.227      0.000       1.943       2.327\nlog_body       0.7517      0.028     26.409      0.000       0.695       0.809\n==============================================================================\nOmnibus:                        2.698   Durbin-Watson:                   1.980\nProb(Omnibus):                  0.260   Jarque-Bera (JB):                1.933\nSkew:                           0.405   Prob(JB):                        0.380\nKurtosis:                       3.301   Cond. No.                         3.73\n==============================================================================\n\nWarnings:\n[1] Standard Errors assume that the covariance matrix of the errors is correctly specified.\n"
    }
   ],
   "source": [
    "log_lm = smf.ols(formula = \"log_brain~log_body\",data=mammals).fit()\n",
    "print(log_lm.summary())"
   ]
  },
  {
   "cell_type": "code",
   "execution_count": 60,
   "metadata": {},
   "outputs": [
    {
     "output_type": "execute_result",
     "data": {
      "text/plain": "28.922710421460646"
     },
     "metadata": {},
     "execution_count": 60
    }
   ],
   "source": [
    "# Sum of squared residuals\n",
    "log_lm.ssr"
   ]
  },
  {
   "cell_type": "markdown",
   "metadata": {},
   "source": [
    "## 4.6 Making the Task Easier: Standarisation and Scaling\n"
   ]
  },
  {
   "cell_type": "markdown",
   "metadata": {},
   "source": [
    "Given that the main underlying concept behind\n",
    "linear regression is the assumption of a linear relationship,\n",
    "transformations such as the one covered in the previous section make the task easier for both the learning algorithm\n",
    "and for us. In this section\n",
    "we are going to present a couple of the most widely used\n",
    "techniques to transform our data and provide us with\n",
    "anchors to interpret our results."
   ]
  },
  {
   "cell_type": "markdown",
   "metadata": {},
   "source": [
    "One of those techniques consists on centring the predictors\n",
    "such that their mean is zero, and is often used in regression\n",
    "analysis. Among other things it leads to interpreting the\n",
    "intercept term as the expected value of the target variable. Another useful predictors are set to zero.\n",
    "transformation is the scaling of our variables. This is\n",
    "convenient in cases where we have features that have very\n",
    "different scales, where some variables have large values and\n",
    "others have very small ones."
   ]
  },
  {
   "cell_type": "markdown",
   "metadata": {},
   "source": [
    "### 4.6.1 Normalisation or Unit Scaling"
   ]
  },
  {
   "cell_type": "markdown",
   "metadata": {},
   "source": [
    "The aim of this transformation is to convert the\n",
    "range of a given variable into a scale that goes from 0 to 1."
   ]
  },
  {
   "cell_type": "markdown",
   "metadata": {},
   "source": [
    "![alt text](images/normalisation.png \"Title\")"
   ]
  },
  {
   "cell_type": "markdown",
   "metadata": {},
   "source": [
    "Notice that this method of scaling will cast our features\n",
    "into equal ranges, but their means and standard deviations\n",
    "will be different. An alternative formulation divides each feature by its range without subtracting the minimum value. We can apply this unit scaling to our data with the\n",
    "preprocessing method in Scikit-learn that includes the\n",
    "MinMaxScaler function to implement unit scaling."
   ]
  },
  {
   "cell_type": "code",
   "execution_count": 62,
   "metadata": {},
   "outputs": [
    {
     "output_type": "execute_result",
     "data": {
      "text/plain": "  body      brain     \n   min  max   min  max\n0  0.0  1.0   0.0  1.0",
      "text/html": "<div>\n<style scoped>\n    .dataframe tbody tr th:only-of-type {\n        vertical-align: middle;\n    }\n\n    .dataframe tbody tr th {\n        vertical-align: top;\n    }\n\n    .dataframe thead tr th {\n        text-align: left;\n    }\n</style>\n<table border=\"1\" class=\"dataframe\">\n  <thead>\n    <tr>\n      <th></th>\n      <th colspan=\"2\" halign=\"left\">body</th>\n      <th colspan=\"2\" halign=\"left\">brain</th>\n    </tr>\n    <tr>\n      <th></th>\n      <th>min</th>\n      <th>max</th>\n      <th>min</th>\n      <th>max</th>\n    </tr>\n  </thead>\n  <tbody>\n    <tr>\n      <th>0</th>\n      <td>0.0</td>\n      <td>1.0</td>\n      <td>0.0</td>\n      <td>1.0</td>\n    </tr>\n  </tbody>\n</table>\n</div>"
     },
     "metadata": {},
     "execution_count": 62
    }
   ],
   "source": [
    "from sklearn import preprocessing\n",
    "scaler = preprocessing.MinMaxScaler()\n",
    "mammals_minmax = pd.DataFrame(scaler.fit_transform(mammals[['body','brain']]),columns=['body','brain'])\n",
    "mammals_minmax.groupby(lambda idx:0).agg(['min',\"max\"])\n"
   ]
  },
  {
   "cell_type": "markdown",
   "metadata": {},
   "source": [
    "### 4.6.2 z-Score Scaling"
   ]
  },
  {
   "cell_type": "markdown",
   "metadata": {},
   "source": [
    "An alternative method for scaling our features\n",
    "consists of taking into account how far away data points are\n",
    "from the mean. In order to provide a comparable measure, the distance from the mean is calculated in units of the standard deviation of the feature data. In this case a positive score tells us that a given data point is\n",
    "above the mean whereas a negative one is below the mean. Strictly speaking, the z-score must be calculated with the\n",
    "mean and standard deviation of the population, otherwise\n",
    "we are making use of the Student’s t statistic."
   ]
  },
  {
   "cell_type": "markdown",
   "metadata": {},
   "source": [
    "![alt text](images/z-score.png \"Title\")"
   ]
  },
  {
   "cell_type": "code",
   "execution_count": 65,
   "metadata": {},
   "outputs": [
    {
     "output_type": "execute_result",
     "data": {
      "text/plain": "           body                   brain          \n           mean       std          mean       std\n0  1.790682e-18  1.008163 -3.223228e-17  1.008163",
      "text/html": "<div>\n<style scoped>\n    .dataframe tbody tr th:only-of-type {\n        vertical-align: middle;\n    }\n\n    .dataframe tbody tr th {\n        vertical-align: top;\n    }\n\n    .dataframe thead tr th {\n        text-align: left;\n    }\n</style>\n<table border=\"1\" class=\"dataframe\">\n  <thead>\n    <tr>\n      <th></th>\n      <th colspan=\"2\" halign=\"left\">body</th>\n      <th colspan=\"2\" halign=\"left\">brain</th>\n    </tr>\n    <tr>\n      <th></th>\n      <th>mean</th>\n      <th>std</th>\n      <th>mean</th>\n      <th>std</th>\n    </tr>\n  </thead>\n  <tbody>\n    <tr>\n      <th>0</th>\n      <td>1.790682e-18</td>\n      <td>1.008163</td>\n      <td>-3.223228e-17</td>\n      <td>1.008163</td>\n    </tr>\n  </tbody>\n</table>\n</div>"
     },
     "metadata": {},
     "execution_count": 65
    }
   ],
   "source": [
    "# After the transformation we should have features with zero mean and standard deviation one.\n",
    "scaler2 = preprocessing.StandardScaler()\n",
    "mammals_std = pd.DataFrame(scaler2.fit_transform(mammals[['body','brain']]),columns=['body','brain'])\n",
    "mammals_std.groupby(lambda idx: 0).agg(['mean','std'])"
   ]
  },
  {
   "cell_type": "markdown",
   "metadata": {},
   "source": [
    "## 4.7 Polynomial Regression"
   ]
  },
  {
   "cell_type": "markdown",
   "metadata": {},
   "source": [
    "Polynomial models can be very useful in cases where we\n",
    "know that nonlinear effects are present in the target variable."
   ]
  },
  {
   "cell_type": "markdown",
   "metadata": {},
   "source": [
    "Let us fit a quadratic model to the brain and body dataset\n",
    "we have been using in the previous sections. We can start by\n",
    "adding a feature that corresponds to the square of the body\n",
    "mass:"
   ]
  },
  {
   "cell_type": "code",
   "execution_count": 68,
   "metadata": {
    "tags": []
   },
   "outputs": [
    {
     "output_type": "stream",
     "name": "stdout",
     "text": "Intercept       19.115299\nbody             2.123929\nbody_squared    -0.000189\ndtype: float64\n"
    }
   ],
   "source": [
    "mammals['body_squared'] = mammals[\"body\"]**2\n",
    "poly_reg = smf.ols(formula='brain~body+body_squared',data=mammals).fit()\n",
    "print(poly_reg.params)"
   ]
  },
  {
   "cell_type": "markdown",
   "metadata": {},
   "source": [
    "![alt text](images/polynomial_mammals.png \"Title\")"
   ]
  },
  {
   "cell_type": "code",
   "execution_count": 71,
   "metadata": {
    "tags": []
   },
   "outputs": [
    {
     "output_type": "stream",
     "name": "stdout",
     "text": "0      19.115299\n1    1556.445107\n2    2864.544483\n3    3943.413428\n4    4793.051941\n5    5413.460023\n6    5804.637672\n7    5966.584891\n8    5899.301677\n9    5602.788032\ndtype: float64\n"
    }
   ],
   "source": [
    "poly_brain_pred = poly_reg.predict(exog=dict(body=new_body,body_squared=new_body**2))\n",
    "print(poly_brain_pred)"
   ]
  },
  {
   "cell_type": "markdown",
   "metadata": {},
   "source": [
    "### 4.7.1 Multivariate Regression"
   ]
  },
  {
   "cell_type": "markdown",
   "metadata": {},
   "source": [
    "As mentioned\n",
    "earlier in this chapter, in the case where we have more than one input variable we are entering the realm of multivariate\n",
    "regression."
   ]
  },
  {
   "cell_type": "markdown",
   "metadata": {},
   "source": [
    "If we consider a set of M predictors x1, x2, x3,..., xM that\n",
    "are hypothesised to be related to a response variable y, the\n",
    "multivariate regression model can be expressed as:"
   ]
  },
  {
   "cell_type": "markdown",
   "metadata": {},
   "source": [
    "![alt text](images/multivariate_regression.png \"Title\")"
   ]
  },
  {
   "cell_type": "markdown",
   "metadata": {},
   "source": [
    "the parameter estimation for this\n",
    "model can be achieved with the same techniques discussed\n",
    "in Section 4.3."
   ]
  },
  {
   "cell_type": "markdown",
   "metadata": {},
   "source": [
    "## 4.8 Variance-Bias Trade-Off"
   ]
  },
  {
   "cell_type": "markdown",
   "metadata": {},
   "source": [
    "On the one hand variance tells us how sensitive the model\n",
    "is to small fluctuations in the training set, on the other hand\n",
    "bias is related to the difference between the expected value\n",
    "of our estimator and its true value. High variance results\n",
    "in overfitting whereas high bias results in under-fitting. Finding a good model is therefore a matter of balancing the\n",
    "bias and the variance. This tradeoff applies to algorithms\n",
    "used in supervised learning."
   ]
  },
  {
   "cell_type": "markdown",
   "metadata": {},
   "source": [
    "## 4.9 Shrinkage: LASSO and Ridge"
   ]
  },
  {
   "cell_type": "markdown",
   "metadata": {},
   "source": [
    "The decomposition of our prediction error into its\n",
    "variance and bias components makes it clear that a balance\n",
    "between the two is required for any regression problem\n",
    "we may encounter."
   ]
  },
  {
   "cell_type": "markdown",
   "metadata": {},
   "source": [
    "Shrinkage of the coefficients is therefore a form of\n",
    "regularisation as we penalise the model for increased complexity as given the size of the coefficients."
   ]
  },
  {
   "cell_type": "code",
   "execution_count": 73,
   "metadata": {},
   "outputs": [],
   "source": [
    "mammals['body_cubed'] = mammals['body']**3\n",
    "from sklearn import preprocessing\n",
    "X = mammals[['body','body_squared','body_cubed']]\n",
    "Y = mammals[['brain']]\n",
    "Xscaled = preprocessing.StandardScaler().fit_transform(X)\n",
    "Yscaled = preprocessing.StandardScaler().fit_transform(Y)"
   ]
  },
  {
   "cell_type": "code",
   "execution_count": 76,
   "metadata": {},
   "outputs": [],
   "source": [
    "import sklearn.model_selection as ms\n",
    "XTrain,XTest,yTrain,yTest = ms.train_test_split(Xscaled,Yscaled,test_size=0.2,random_state=42)"
   ]
  },
  {
   "cell_type": "code",
   "execution_count": 77,
   "metadata": {},
   "outputs": [],
   "source": [
    "from sklearn.model_selection import GridSearchCV\n",
    "from sklearn.linear_model import Ridge,Lasso\n",
    "lambda_range = linspace(0.001,0.2,25)\n",
    "lambda_grid = [{'alpha':lambda_range}]"
   ]
  },
  {
   "cell_type": "code",
   "execution_count": 78,
   "metadata": {},
   "outputs": [
    {
     "output_type": "execute_result",
     "data": {
      "text/plain": "GridSearchCV(cv=KFold(n_splits=20, random_state=None, shuffle=False),\n       error_score='raise-deprecating',\n       estimator=Ridge(alpha=1.0, copy_X=True, fit_intercept=True, max_iter=10000,\n   normalize=False, random_state=None, solver='auto', tol=0.001),\n       fit_params=None, iid='warn', n_jobs=None,\n       param_grid=[{'alpha': array([0.001  , 0.00929, 0.01758, 0.02588, 0.03417, 0.04246, 0.05075,\n       0.05904, 0.06733, 0.07563, 0.08392, 0.09221, 0.1005 , 0.10879,\n       0.11708, 0.12538, 0.13367, 0.14196, 0.15025, 0.15854, 0.16683,\n       0.17513, 0.18342, 0.19171, 0.2    ])}],\n       pre_dispatch='2*n_jobs', refit=True, return_train_score='warn',\n       scoring=None, verbose=0)"
     },
     "metadata": {},
     "execution_count": 78
    }
   ],
   "source": [
    "model1 = Ridge(max_iter=10000)\n",
    "cv_ridge = GridSearchCV(estimator=model1,param_grid=lambda_grid,cv=ms.KFold(n_splits=20))\n",
    "cv_ridge.fit(XTrain,yTrain)"
   ]
  },
  {
   "cell_type": "code",
   "execution_count": 79,
   "metadata": {},
   "outputs": [
    {
     "output_type": "execute_result",
     "data": {
      "text/plain": "GridSearchCV(cv=KFold(n_splits=20, random_state=None, shuffle=False),\n       error_score='raise-deprecating',\n       estimator=Lasso(alpha=1.0, copy_X=True, fit_intercept=True, max_iter=10000,\n   normalize=False, positive=False, precompute=False, random_state=None,\n   selection='cyclic', tol=0.0001, warm_start=False),\n       fit_params=None, iid='warn', n_jobs=None,\n       param_grid=[{'alpha': array([0.001  , 0.00929, 0.01758, 0.02588, 0.03417, 0.04246, 0.05075,\n       0.05904, 0.06733, 0.07563, 0.08392, 0.09221, 0.1005 , 0.10879,\n       0.11708, 0.12538, 0.13367, 0.14196, 0.15025, 0.15854, 0.16683,\n       0.17513, 0.18342, 0.19171, 0.2    ])}],\n       pre_dispatch='2*n_jobs', refit=True, return_train_score='warn',\n       scoring=None, verbose=0)"
     },
     "metadata": {},
     "execution_count": 79
    }
   ],
   "source": [
    "model2 = Lasso(max_iter=10000)\n",
    "cv_lasso = GridSearchCV(estimator=model2,param_grid=lambda_grid,cv=ms.KFold(n_splits=20))\n",
    "cv_lasso.fit(XTrain,yTrain)"
   ]
  },
  {
   "cell_type": "code",
   "execution_count": 80,
   "metadata": {},
   "outputs": [
    {
     "output_type": "execute_result",
     "data": {
      "text/plain": "(0.13366666666666668, 0.009291666666666667)"
     },
     "metadata": {},
     "execution_count": 80
    }
   ],
   "source": [
    "cv_ridge.best_params_['alpha'],cv_lasso.best_params_['alpha']"
   ]
  },
  {
   "cell_type": "code",
   "execution_count": 81,
   "metadata": {
    "tags": []
   },
   "outputs": [
    {
     "output_type": "stream",
     "name": "stdout",
     "text": "[ 1.65028091 -0.         -0.76712502]\n"
    }
   ],
   "source": [
    "bestLambda_lasso = cv_lasso.best_params_['alpha']\n",
    "Brain_Lasso = Lasso(alpha=bestLambda_lasso,max_iter=10000)\n",
    "Brain_Lasso.fit(XTrain,yTrain)\n",
    "print(Brain_Lasso.coef_)"
   ]
  },
  {
   "cell_type": "code",
   "execution_count": 86,
   "metadata": {
    "tags": []
   },
   "outputs": [
    {
     "output_type": "stream",
     "name": "stdout",
     "text": "0.01143021897689786\n"
    }
   ],
   "source": [
    "lasso_prediction = Brain_Lasso.predict(XTest)\n",
    "print(np.mean((lasso_prediction - yTest)**2))"
   ]
  }
 ]
}