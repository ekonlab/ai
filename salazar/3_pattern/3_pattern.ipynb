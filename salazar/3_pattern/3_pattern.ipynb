{
 "metadata": {
  "language_info": {
   "codemirror_mode": {
    "name": "ipython",
    "version": 3
   },
   "file_extension": ".py",
   "mimetype": "text/x-python",
   "name": "python",
   "nbconvert_exporter": "python",
   "pygments_lexer": "ipython3",
   "version": 3
  },
  "orig_nbformat": 2
 },
 "nbformat": 4,
 "nbformat_minor": 2,
 "cells": [
  {
   "cell_type": "markdown",
   "metadata": {},
   "source": [
    "## 3.1 Recognising Patterns"
   ]
  },
  {
   "cell_type": "markdown",
   "metadata": {},
   "source": [
    "In feature analysis, we are said to recognise an object by\n",
    "considering the constituent parts, or features, of the object.\n",
    "We then assemble them together to determine what the\n",
    "object is. For example, we know that a cat is a small fury If we know what a cat looks like,\n",
    "we can recognise other cats. animal with triangular ears, long whiskers and playful\n",
    "claws. When we see a cat we recognise it for what it is\n",
    "because it satisfies these (admittedly simplified) rules.\n",
    "The field of pattern recognition is thus interested in the\n",
    "systematic detection of regularities in a dataset, based on\n",
    "the use of algorithms."
   ]
  },
  {
   "cell_type": "markdown",
   "metadata": {},
   "source": [
    "## 3.2 Artificial Intelligence and Machine Learning"
   ]
  },
  {
   "cell_type": "markdown",
   "metadata": {},
   "source": [
    "Machine learning can be seen as a Machine learning is a subfield of\n",
    "artificial intelligence focussed on\n",
    "improving the performance of an\n",
    "intelligent agent.\n",
    "\n",
    "subfield of artificial intelligence.\n",
    "machine\n",
    "learning is interested in studying the methods that can be\n",
    "used to improve the performance of an intelligent agent\n",
    "over time, based on stimuli from the environment."
   ]
  },
  {
   "cell_type": "markdown",
   "metadata": {},
   "source": [
    "## 3.4 Learning, Predicting and Classifying"
   ]
  },
  {
   "cell_type": "markdown",
   "metadata": {},
   "source": [
    "The implementation of machine learning algorithms\n",
    "involves the analysis of data that could be employed in the\n",
    "improvement (learning) of the agent (model) and\n",
    "subsequently using the results to make predictions about\n",
    "quantities of interest or making decisions in the face of uncertainty.\n",
    "It is important to bear in mind that machine learning is Machine learning is interested in\n",
    "regularities and patterns in data. interested in the regularities or patterns of the data in order\n",
    "to provide predictive and/or classifying power. This is not\n",
    "necessarily the same as causality.\n",
    "Machine learning tasks are traditionally divided into two\n",
    "camps: Predictive or supervised learning and descriptive\n",
    "or unsupervised learning. \n",
    "A teacher\n",
    "that knows what a cat looks like will present the pupil\n",
    "with several training images of cats and other animals,\n",
    "and the pupil is expected to use the features or attributes of\n",
    "the images presented to learn what a cat looks like. The\n",
    "teacher will have provided a label to each of the images as being of cats or not. In the testing part, the teacher will\n",
    "present images of various kinds of animals, and the pupil is\n",
    "expected to classify which ones show a friendly feline face.\n",
    "In machine learning parlance we talk about supervised\n",
    "learning when we are interested in learning a mapping\n",
    "from the input to output with the help of labelled sets\n",
    "of input-output pairs. predictions based on the data that we see and thus apply\n",
    "generalisations.\n",
    "Each input has a number of features that can be represented\n",
    "in terms of an N-dimensional vector that will help in the\n",
    "task of learning the label of each of the training examples.\n",
    "In unsupervised\n",
    "learning. In this case, following our example of the\n",
    "teacher-pupil situation, the teacher takes a Montessori-style\n",
    "approach and lets the pupil develop, on her own, a rule\n",
    "about what a cat (or any other animal of the pupil’s\n",
    "preference) looks like, without providing any hints or labels\n",
    "to the learner.\n",
    "In this case, from a machine learning point of view, there are no input-output pairs. Instead, we only have the\n",
    "unlabelled inputs and their associated N-dimensional\n",
    "feature vectors, without being told the kind of pattern that\n",
    "we must look for. that an unsupervised\n",
    "learning task may enable us to assign labels to those inputs\n",
    "and thus open the door to the use of predictive or\n",
    "supervised learning.\n"
   ]
  },
  {
   "cell_type": "markdown",
   "metadata": {},
   "source": [
    "## 3.5 Machine Learning and Data Science"
   ]
  },
  {
   "cell_type": "markdown",
   "metadata": {},
   "source": [
    "Machine learning algorithms are suitable to the solution of problems\n",
    "encountered in the data science and analytics workflow\n",
    "where we are interested in deriving valuable insights from\n",
    "data."
   ]
  },
  {
   "cell_type": "code",
   "execution_count": null,
   "metadata": {},
   "outputs": [],
   "source": []
  }
 ]
}